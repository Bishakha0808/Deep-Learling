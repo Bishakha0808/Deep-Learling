{
 "cells": [
  {
   "cell_type": "code",
   "execution_count": 1,
   "id": "48aa9d15",
   "metadata": {
    "_cell_guid": "b1076dfc-b9ad-4769-8c92-a6c4dae69d19",
    "_uuid": "8f2839f25d086af736a60e9eeb907d3b93b6e0e5",
    "execution": {
     "iopub.execute_input": "2025-01-04T16:02:19.887058Z",
     "iopub.status.busy": "2025-01-04T16:02:19.886756Z",
     "iopub.status.idle": "2025-01-04T16:02:20.606393Z",
     "shell.execute_reply": "2025-01-04T16:02:20.605435Z"
    },
    "papermill": {
     "duration": 0.734722,
     "end_time": "2025-01-04T16:02:20.607702",
     "exception": false,
     "start_time": "2025-01-04T16:02:19.872980",
     "status": "completed"
    },
    "tags": []
   },
   "outputs": [
    {
     "name": "stdout",
     "output_type": "stream",
     "text": [
      "/kaggle/input/clinical-02/676e54b2807db_usecase_2_test_gt_removed.csv\n"
     ]
    }
   ],
   "source": [
    "# This Python 3 environment comes with many helpful analytics libraries installed\n",
    "# It is defined by the kaggle/python Docker image: https://github.com/kaggle/docker-python\n",
    "# For example, here's several helpful packages to load\n",
    "\n",
    "import numpy as np # linear algebra\n",
    "import pandas as pd # data processing, CSV file I/O (e.g. pd.read_csv)\n",
    "\n",
    "# Input data files are available in the read-only \"../input/\" directory\n",
    "# For example, running this (by clicking run or pressing Shift+Enter) will list all files under the input directory\n",
    "\n",
    "import os\n",
    "for dirname, _, filenames in os.walk('/kaggle/input'):\n",
    "    for filename in filenames:\n",
    "        print(os.path.join(dirname, filename))\n",
    "\n",
    "# You can write up to 20GB to the current directory (/kaggle/working/) that gets preserved as output when you create a version using \"Save & Run All\" \n",
    "# You can also write temporary files to /kaggle/temp/, but they won't be saved outside of the current session"
   ]
  },
  {
   "cell_type": "code",
   "execution_count": 2,
   "id": "8dec088b",
   "metadata": {
    "execution": {
     "iopub.execute_input": "2025-01-04T16:02:20.632866Z",
     "iopub.status.busy": "2025-01-04T16:02:20.632519Z",
     "iopub.status.idle": "2025-01-04T16:02:30.554039Z",
     "shell.execute_reply": "2025-01-04T16:02:30.553167Z"
    },
    "papermill": {
     "duration": 9.935273,
     "end_time": "2025-01-04T16:02:30.555607",
     "exception": false,
     "start_time": "2025-01-04T16:02:20.620334",
     "status": "completed"
    },
    "tags": []
   },
   "outputs": [
    {
     "name": "stderr",
     "output_type": "stream",
     "text": [
      "<ipython-input-2-825310c12ead>:1: DtypeWarning: Columns (0,18,25,26,27,28,29,30,31,32,33,34,35,36,37,38,39,40,41,42,43,44,45,46,47,48,49,50,51,52,53,54,55,56,57,58,59,60,61,62,63,64,65,66,67,68,69,70,71,72,73,74,75,76,77,78,79,80,81,82,83,84,85,86,87,88,89,90,91,92,93,94,95,96,97,98,99,100,101,102,103,104,105,106,107,108,109,110,111,112,113,114,115,116,117,118,119,120,121,122,123,124,125,126,127,128,129,130,131,132,133,134,135,136,137,138,139,140,141,142,143,144,145,146,147,148,149,150,151,152,153,154,155,156,157,158,159,160,161,162,163,164,165,166,167,168,169,170,171,172,173,174,175,176,177,178,179,180,181,182,183,184,185,186,187,188,189,190,191,192,193,194,195,196,197,198,199,200,201,202,203,204,205,206,207,208,209,210,211,212,213,214,215,216,217,218,219,220,221,222,223,224,225,226,227,228,229,230,231,232,233,234,235,236,237,238,239,240,241,242,243,244,245,246,247,248,249,250,251,252,253,254,255,256,257,258,259,260,261,262,263,264,265,266,267,268,269,270,271,272,273,274,275,276,277,278,279,280,281,282,283,284,285,286,287,288,289,290,291,292,293,294,295,296,297,298,299,300,301,302,303,304,305,306,307,308,309,310,311,312,313,314,315,316,317,318,319,320,321,322,323,324,325,326,327,328,329,330,331,332,333,334,335,336,337,338,339,340,341,342,343,344,345,346,347,348,349,350,351,352,353,354,355,356,357,358,359,360,361,362,363,364,365,366,367,368,369,370,371,372,373,374,375,376,377,378,379,380,381,382,383,384,385,386,387,388,389,390,391,392,393,394,395,396,397,398,399,400,401,402,403,404,405,406,407,408,409,410,411,412,413,414,415,416,417,418,419,420,421,422,423,424,425,426,427,428,429,430,431,432,433,434,435,436,437,438,439,440,441,442,443,444,445,446,447,448,449,450,451,452,453,454,455,456,457,458,459,460,461,462,463,464,465,466,467,468,469,470,471,472,473,474,475,476,477,478,479,480,481,482,483,484,485,486,487,488,489,490,491,492,493,494,495,496,497,498,499,500,501,502,503,504,505,506,507,508,509,510,511,512,513,514,515,516,517,518,519,520,521,522,523,524,525,526,527,528,529,530,531,532,533,534,535,536,537,538,539,540,541,542,543,544,545,546,547,548,549,550,551,552,553,554,555,556,557,558,559,560,561,562,563,564,565,566,567,568,569,570,571,572,573,574,575,576,577,578,579,580,581,582,583,584,585,586,587,588,589,590,591,592,593,594,595,596,597,598,599,600,601,602,603,604,605,606,607,608,609,610,611,612,613,614,615,616,617,618,619,620,621,622,623,624,625,626,627,628,629,630,631,632,633,634,635,636,637,638,639,640,641,642,643,644,645,646,647,648,649,650,651,652,653,654,655,656,657,658,659,660,661,662,663,664,665,666,667,668,669,670,671,672,673,674,675,676,677,678,679,680,681,682,683,684,685,686,687,688,689,690,691,692,693,694,695,696,697,698,699,700,701,702,703,704,705,706,707,708,709,710,711,712,713,714,715,716,717,718,719,720,721,722,723,724,725,726,727,728,729,730,731,732,733,734,735,736,737,738,739,740,741,742,743,744,745,746,747,748,749,750,751,752,753,754,755,756,757,758,759,760,761,762,763,764,765,766,767,768,769,770,771,772,773,774,775,776,777,778,779,780,781,782,783,784,785,786,787,788,789,790,791,792,793,794,795,796,797,798,799,800,801,802,803,804,805,806,807,808,809,810,811,812,813,814,815,816,817,818,819,820,821,822,823,824,825,826,827,828,829,830,831,832,833,834,835,836,837,838,839,840,841,842,843,844,845,846,847,848,849,850,851,852,853,854,855,856,857,858,859,860,861,862,863,864,865,866,867,868,869,870,871,872,873,874,875,876,877,878,879,880,881,882,883,884,885,886,887,888,889,890,891,892,893,894,895,896,897,898,899,900,901,902,903,904,905,906,907,908,909,910,911,912,913,914,915,916,917,918,919,920,921,922,923,924,925,926,927,928,929,930,931,932,933,934,935,936,937,938,939,940,941,942,943,944,945,946,947,948,949,950,951,952,953,954,955,956,957,958,959,960,961,962,963,964,965,966,967,968,969,970,971,972,973,974,975,976,977,978,979,980,981,982,983,984,985,986,987,988,989,990,991,992,993,994,995,996,997,998,999,1000,1001,1002,1003,1004,1005,1006,1007,1008,1009,1010,1011,1012,1013,1014,1015,1016,1017,1018,1019,1020,1021,1022,1023,1024,1025,1026,1027,1028,1029,1030,1031,1032,1033,1034,1035,1036,1037,1038,1039,1040,1041,1042,1043,1044,1045,1046,1047,1048,1049,1050,1051,1052,1053,1054,1055,1056,1057,1058,1059,1060,1061,1062,1063,1064,1065,1066,1067,1068,1069,1070,1071,1072,1073,1074,1075,1076,1077,1078,1079,1080,1081,1082,1083,1084,1085,1086,1087,1088,1089,1090,1091,1092,1093,1094,1095,1096,1097,1098,1099,1100,1101,1102,1103,1104,1105,1106,1109,1110,1111,1112,1113,1114,1115,1116,1117,1118,1119,1120,1121,1122,1125,1128,1129,1130,1131,1132,1133,1134,1135,1136,1137,1138,1139,1140,1141,1144,1147,1148,1149,1150,1151,1152,1153,1154,1155,1156,1157,1158,1159,1160,1163,1166,1167,1168,1169,1170,1171,1172,1173,1174,1175,1176,1177,1178,1179,1180,1183,1186,1187,1188,1189,1190,1191,1192,1193,1194,1195,1196,1197,1198,1199,1200,1201,1204,1207,1208,1209,1210,1211,1212,1213,1214,1215,1216,1217,1218,1219,1220,1221,1222,1225,1226,1227,1228,1229,1230,1231,1232,1233,1234,1235,1236,1237,1238,1239,1240,1241,1242,1243,1244,1245,1246,1247,1248,1249,1250,1251,1252,1253,1254,1255,1256,1257,1258,1259,1260,1261,1262,1263,1264,1267,1268,1269,1270,1271,1272,1273,1274,1275,1276,1277,1278,1279,1282,1285,1286,1287,1288,1289,1290,1291,1292,1293,1294,1295,1296,1299,1300,1301,1302,1303,1304,1305,1306,1307,1308,1309,1310,1313,1314,1315,1316,1317,1318,1319,1320,1321,1322,1325,1328,1329,1330,1331,1332,1333,1334,1335,1336,1339,1342,1343,1344,1345,1346,1347,1348,1349,1350,1351,1354,1357,1358,1359,1360,1361,1362,1363,1364,1365,1368,1369,1370,1371,1372,1373,1374,1376,1377,1378,1379,1380,1381,1382,1383,1384,1385,1386,1387,1388,1389,1390,1391,1392,1393,1394,1395,1396,1397,1398,1399,1400,1401,1402,1403,1404,1405,1406,1407,1408,1409,1410,1411,1412,1413,1414,1415,1416,1417,1418,1419,1420,1421,1422,1423,1424,1425,1426,1427,1428,1429,1430,1431,1432,1433,1434,1435,1436,1437,1438,1439,1440,1441,1442,1443,1444,1445,1446,1447,1448,1449,1450,1451,1452,1453,1454,1455,1456,1457,1458,1459,1460,1461,1462,1463,1464,1465,1466,1467,1468,1469,1470,1471,1472,1473,1476,1477,1478,1479,1480,1481,1482,1483,1484,1485,1486,1487,1490,1493,1494,1495,1496,1497,1498,1499,1500,1501,1502,1505,1506,1507,1508,1509,1510,1511,1512,1513,1514,1515,1516,1517,1518,1519,1520,1521,1522,1523,1524,1525,1526,1527,1528,1529,1530,1531,1532,1533,1534,1535,1536,1537,1538,1539,1540,1541,1542,1543,1544,1545,1546,1547,1548,1549,1550,1551,1552,1553,1554,1555,1556,1557,1558,1559,1560,1561,1562,1563,1564,1565,1566,1567,1568,1569,1570,1571,1572,1573,1574,1575,1576,1577,1578,1579,1580,1581,1582,1583,1584,1585,1586,1587,1588,1589,1590,1591,1592,1593,1594,1595,1596,1597,1598,1599,1600,1601,1602,1603,1604,1605,1606,1607,1608,1609,1610,1611,1612,1613,1614,1615,1616,1617,1618,1619,1620,1621,1622,1623,1624,1625,1626,1627,1628,1629,1630,1631,1632,1633,1634,1635,1636,1637,1638,1639,1640,1641,1642,1643,1644,1645,1646,1647,1648,1649,1650,1651,1652,1653,1654,1655,1656,1657,1659,1660,1661,1662,1663,1664,1665,1666,1667,1668,1669,1670,1671,1672,1673,1674,1675,1676,1677,1678,1679,1680,1681,1682,1683,1684,1685,1686,1687,1688,1689,1690,1691,1692,1693,1694,1695,1696,1697,1698,1699,1700,1701,1702,1703,1704,1705,1706,1707,1708,1709,1710,1711,1712,1713,1714,1715,1716,1717,1718,1719,1720,1721,1722,1723,1724,1725,1726,1727,1728,1729,1730,1731,1732,1733,1734,1735,1736,1737,1738,1739,1740,1741,1742,1743,1744,1745,1746,1747,1748,1749,1750,1751,1752,1753,1754,1755,1756,1757,1758,1759,1760,1761,1762,1763,1764,1765,1766,1767,1768,1769,1770,1771,1772,1773,1774,1775,1776,1777,1778,1779,1780,1781,1782,1783,1784,1785,1786,1787,1788,1789,1790,1791,1792,1793,1794,1795,1796,1797,1798,1799,1800,1801,1802,1803,1804,1805,1806,1807,1808,1809,1810,1811,1812,1813,1814,1815,1816,1817,1818,1819,1820,1821,1822,1823,1824,1825,1826,1827,1828,1829,1830,1831,1832,1833,1834,1835,1836,1837,1838,1839,1840,1841,1842,1843,1844,1845,1846,1847,1848,1849,1850,1851,1852,1853,1854,1855,1856,1858,1859,1860,1861,1863,1864,1865,1866,1867,1868,1869,1870,1871,1872,1873,1874,1875,1876,1877,1878,1879,1880,1881,1882,1883,1884,1885,1886,1887,1888,1889,1890,1891,1892,1893,1894,1895,1896,1897,1898,1899,1900,1901,1902,1903,1904,1905,1906,1907,1908,1909,1910,1911,1912,1913,1914,1915,1916,1917,1918,1919,1920,1921,1922,1923,1924,1925,1926,1927,1928,1929,1930,1931,1932,1933,1934,1935,1936,1937,1938,1939,1940,1941,1942,1943,1944,1945,1946,1947,1948,1949,1950,1951,1952,1953,1954,1955,1956,1957,1958,1959,1960,1961,1962,1963,1964,1965,1966,1967,1968,1969,1970,1971,1972,1973,1974,1975,1976,1977,1978,1979,1980,1981,1982,1983,1984,1985,1986,1987,1988,1989,1990,1991,1992,1993,1994,1995,1996,1997,1998,1999,2000,2001,2002,2003,2004,2005,2006,2007,2008,2009,2010,2011,2012,2013,2014,2015,2016,2017,2018,2019,2020,2021,2022,2023,2024,2025,2026,2027,2028,2029,2030,2032,2034,2035,2036,2038,2039,2040,2041,2042,2043,2044,2045,2046,2047,2048,2049) have mixed types. Specify dtype option on import or set low_memory=False.\n",
      "  df=pd.read_csv('/kaggle/input/clinical-02/676e54b2807db_usecase_2_test_gt_removed.csv')\n"
     ]
    }
   ],
   "source": [
    "df=pd.read_csv('/kaggle/input/clinical-02/676e54b2807db_usecase_2_test_gt_removed.csv')"
   ]
  },
  {
   "cell_type": "code",
   "execution_count": 3,
   "id": "cbba52b6",
   "metadata": {
    "execution": {
     "iopub.execute_input": "2025-01-04T16:02:30.581668Z",
     "iopub.status.busy": "2025-01-04T16:02:30.581418Z",
     "iopub.status.idle": "2025-01-04T16:02:30.586543Z",
     "shell.execute_reply": "2025-01-04T16:02:30.585817Z"
    },
    "papermill": {
     "duration": 0.019402,
     "end_time": "2025-01-04T16:02:30.587880",
     "exception": false,
     "start_time": "2025-01-04T16:02:30.568478",
     "status": "completed"
    },
    "tags": []
   },
   "outputs": [
    {
     "data": {
      "text/plain": [
       "(17286, 2050)"
      ]
     },
     "execution_count": 3,
     "metadata": {},
     "output_type": "execute_result"
    }
   ],
   "source": [
    "df.shape"
   ]
  },
  {
   "cell_type": "code",
   "execution_count": 4,
   "id": "7197935d",
   "metadata": {
    "execution": {
     "iopub.execute_input": "2025-01-04T16:02:30.613259Z",
     "iopub.status.busy": "2025-01-04T16:02:30.613032Z",
     "iopub.status.idle": "2025-01-04T16:02:30.641540Z",
     "shell.execute_reply": "2025-01-04T16:02:30.640752Z"
    },
    "papermill": {
     "duration": 0.042417,
     "end_time": "2025-01-04T16:02:30.642785",
     "exception": false,
     "start_time": "2025-01-04T16:02:30.600368",
     "status": "completed"
    },
    "tags": []
   },
   "outputs": [
    {
     "data": {
      "text/html": [
       "<div>\n",
       "<style scoped>\n",
       "    .dataframe tbody tr th:only-of-type {\n",
       "        vertical-align: middle;\n",
       "    }\n",
       "\n",
       "    .dataframe tbody tr th {\n",
       "        vertical-align: top;\n",
       "    }\n",
       "\n",
       "    .dataframe thead th {\n",
       "        text-align: right;\n",
       "    }\n",
       "</style>\n",
       "<table border=\"1\" class=\"dataframe\">\n",
       "  <thead>\n",
       "    <tr style=\"text-align: right;\">\n",
       "      <th></th>\n",
       "      <th>Unnamed: 0</th>\n",
       "      <th>NCT Number</th>\n",
       "      <th>Study Title</th>\n",
       "      <th>Study URL</th>\n",
       "      <th>Acronym</th>\n",
       "      <th>Study Status</th>\n",
       "      <th>Brief Summary</th>\n",
       "      <th>Study Results</th>\n",
       "      <th>Conditions</th>\n",
       "      <th>Interventions</th>\n",
       "      <th>...</th>\n",
       "      <th>Unnamed: 2040</th>\n",
       "      <th>Unnamed: 2041</th>\n",
       "      <th>Unnamed: 2042</th>\n",
       "      <th>Unnamed: 2043</th>\n",
       "      <th>Unnamed: 2044</th>\n",
       "      <th>Unnamed: 2045</th>\n",
       "      <th>Unnamed: 2046</th>\n",
       "      <th>Unnamed: 2047</th>\n",
       "      <th>Unnamed: 2048</th>\n",
       "      <th>Unnamed: 2049</th>\n",
       "    </tr>\n",
       "  </thead>\n",
       "  <tbody>\n",
       "    <tr>\n",
       "      <th>15091</th>\n",
       "      <td>15048</td>\n",
       "      <td>NCT05495243</td>\n",
       "      <td>Phase 2a, 28-day Investigational Use Study of ...</td>\n",
       "      <td>https://clinicaltrials.gov/study/NCT05495243</td>\n",
       "      <td>NaN</td>\n",
       "      <td>COMPLETED</td>\n",
       "      <td>This is a randomized, Phase 2a, double-blind, ...</td>\n",
       "      <td>NO</td>\n",
       "      <td>Non-cystic Fibrosis Bronchiectasis</td>\n",
       "      <td>DRUG: ARINA-1|DRUG: Placebo</td>\n",
       "      <td>...</td>\n",
       "      <td>NaN</td>\n",
       "      <td>NaN</td>\n",
       "      <td>NaN</td>\n",
       "      <td>NaN</td>\n",
       "      <td>NaN</td>\n",
       "      <td>NaN</td>\n",
       "      <td>NaN</td>\n",
       "      <td>NaN</td>\n",
       "      <td>NaN</td>\n",
       "      <td>NaN</td>\n",
       "    </tr>\n",
       "  </tbody>\n",
       "</table>\n",
       "<p>1 rows × 2050 columns</p>\n",
       "</div>"
      ],
      "text/plain": [
       "      Unnamed: 0   NCT Number  \\\n",
       "15091      15048  NCT05495243   \n",
       "\n",
       "                                             Study Title  \\\n",
       "15091  Phase 2a, 28-day Investigational Use Study of ...   \n",
       "\n",
       "                                          Study URL Acronym Study Status  \\\n",
       "15091  https://clinicaltrials.gov/study/NCT05495243     NaN    COMPLETED   \n",
       "\n",
       "                                           Brief Summary Study Results  \\\n",
       "15091  This is a randomized, Phase 2a, double-blind, ...            NO   \n",
       "\n",
       "                               Conditions                Interventions  ...  \\\n",
       "15091  Non-cystic Fibrosis Bronchiectasis  DRUG: ARINA-1|DRUG: Placebo  ...   \n",
       "\n",
       "      Unnamed: 2040 Unnamed: 2041 Unnamed: 2042 Unnamed: 2043 Unnamed: 2044  \\\n",
       "15091           NaN           NaN           NaN           NaN           NaN   \n",
       "\n",
       "      Unnamed: 2045 Unnamed: 2046 Unnamed: 2047 Unnamed: 2048 Unnamed: 2049  \n",
       "15091           NaN           NaN           NaN           NaN           NaN  \n",
       "\n",
       "[1 rows x 2050 columns]"
      ]
     },
     "execution_count": 4,
     "metadata": {},
     "output_type": "execute_result"
    }
   ],
   "source": [
    "df.sample()"
   ]
  },
  {
   "cell_type": "code",
   "execution_count": 5,
   "id": "288ef80e",
   "metadata": {
    "execution": {
     "iopub.execute_input": "2025-01-04T16:02:30.668133Z",
     "iopub.status.busy": "2025-01-04T16:02:30.667936Z",
     "iopub.status.idle": "2025-01-04T16:02:30.734017Z",
     "shell.execute_reply": "2025-01-04T16:02:30.733269Z"
    },
    "papermill": {
     "duration": 0.080005,
     "end_time": "2025-01-04T16:02:30.735218",
     "exception": false,
     "start_time": "2025-01-04T16:02:30.655213",
     "status": "completed"
    },
    "tags": []
   },
   "outputs": [
    {
     "name": "stdout",
     "output_type": "stream",
     "text": [
      "<class 'pandas.core.frame.DataFrame'>\n",
      "RangeIndex: 17286 entries, 0 to 17285\n",
      "Columns: 2050 entries, Unnamed: 0 to Unnamed: 2049\n",
      "dtypes: float64(63), object(1987)\n",
      "memory usage: 270.4+ MB\n"
     ]
    }
   ],
   "source": [
    "df.info()"
   ]
  },
  {
   "cell_type": "code",
   "execution_count": 6,
   "id": "843052ef",
   "metadata": {
    "execution": {
     "iopub.execute_input": "2025-01-04T16:02:30.760497Z",
     "iopub.status.busy": "2025-01-04T16:02:30.760280Z",
     "iopub.status.idle": "2025-01-04T16:02:30.798560Z",
     "shell.execute_reply": "2025-01-04T16:02:30.795765Z"
    },
    "papermill": {
     "duration": 0.055906,
     "end_time": "2025-01-04T16:02:30.803434",
     "exception": false,
     "start_time": "2025-01-04T16:02:30.747528",
     "status": "completed"
    },
    "tags": []
   },
   "outputs": [
    {
     "name": "stdout",
     "output_type": "stream",
     "text": [
      "<class 'pandas.core.frame.DataFrame'>\n",
      "RangeIndex: 17286 entries, 0 to 17285\n",
      "Data columns (total 2050 columns):\n",
      " #     Column                      Dtype  \n",
      "---    ------                      -----  \n",
      " 0     Unnamed: 0                  object \n",
      " 1     NCT Number                  object \n",
      " 2     Study Title                 object \n",
      " 3     Study URL                   object \n",
      " 4     Acronym                     object \n",
      " 5     Study Status                object \n",
      " 6     Brief Summary               object \n",
      " 7     Study Results               object \n",
      " 8     Conditions                  object \n",
      " 9     Interventions               object \n",
      " 10    Primary Outcome Measures    object \n",
      " 11    Secondary Outcome Measures  object \n",
      " 12    Other Outcome Measures      object \n",
      " 13    Sponsor                     object \n",
      " 14    Collaborators               object \n",
      " 15    Sex                         object \n",
      " 16    Age                         object \n",
      " 17    Phases                      object \n",
      " 18    Enrollment                  object \n",
      " 19    Funder Type                 object \n",
      " 20    Study Type                  object \n",
      " 21    Study Design                object \n",
      " 22    Other IDs                   object \n",
      " 23    Locations                   object \n",
      " 24    Study Documents             object \n",
      " 25    Unnamed: 25                 object \n",
      " 26    Unnamed: 26                 object \n",
      " 27    Unnamed: 27                 object \n",
      " 28    Unnamed: 28                 object \n",
      " 29    Unnamed: 29                 object \n",
      " 30    Unnamed: 30                 object \n",
      " 31    Unnamed: 31                 object \n",
      " 32    Unnamed: 32                 object \n",
      " 33    Unnamed: 33                 object \n",
      " 34    Unnamed: 34                 object \n",
      " 35    Unnamed: 35                 object \n",
      " 36    Unnamed: 36                 object \n",
      " 37    Unnamed: 37                 object \n",
      " 38    Unnamed: 38                 object \n",
      " 39    Unnamed: 39                 object \n",
      " 40    Unnamed: 40                 object \n",
      " 41    Unnamed: 41                 object \n",
      " 42    Unnamed: 42                 object \n",
      " 43    Unnamed: 43                 object \n",
      " 44    Unnamed: 44                 object \n",
      " 45    Unnamed: 45                 object \n",
      " 46    Unnamed: 46                 object \n",
      " 47    Unnamed: 47                 object \n",
      " 48    Unnamed: 48                 object \n",
      " 49    Unnamed: 49                 object \n",
      " 50    Unnamed: 50                 object \n",
      " 51    Unnamed: 51                 object \n",
      " 52    Unnamed: 52                 object \n",
      " 53    Unnamed: 53                 object \n",
      " 54    Unnamed: 54                 object \n",
      " 55    Unnamed: 55                 object \n",
      " 56    Unnamed: 56                 object \n",
      " 57    Unnamed: 57                 object \n",
      " 58    Unnamed: 58                 object \n",
      " 59    Unnamed: 59                 object \n",
      " 60    Unnamed: 60                 object \n",
      " 61    Unnamed: 61                 object \n",
      " 62    Unnamed: 62                 object \n",
      " 63    Unnamed: 63                 object \n",
      " 64    Unnamed: 64                 object \n",
      " 65    Unnamed: 65                 object \n",
      " 66    Unnamed: 66                 object \n",
      " 67    Unnamed: 67                 object \n",
      " 68    Unnamed: 68                 object \n",
      " 69    Unnamed: 69                 object \n",
      " 70    Unnamed: 70                 object \n",
      " 71    Unnamed: 71                 object \n",
      " 72    Unnamed: 72                 object \n",
      " 73    Unnamed: 73                 object \n",
      " 74    Unnamed: 74                 object \n",
      " 75    Unnamed: 75                 object \n",
      " 76    Unnamed: 76                 object \n",
      " 77    Unnamed: 77                 object \n",
      " 78    Unnamed: 78                 object \n",
      " 79    Unnamed: 79                 object \n",
      " 80    Unnamed: 80                 object \n",
      " 81    Unnamed: 81                 object \n",
      " 82    Unnamed: 82                 object \n",
      " 83    Unnamed: 83                 object \n",
      " 84    Unnamed: 84                 object \n",
      " 85    Unnamed: 85                 object \n",
      " 86    Unnamed: 86                 object \n",
      " 87    Unnamed: 87                 object \n",
      " 88    Unnamed: 88                 object \n",
      " 89    Unnamed: 89                 object \n",
      " 90    Unnamed: 90                 object \n",
      " 91    Unnamed: 91                 object \n",
      " 92    Unnamed: 92                 object \n",
      " 93    Unnamed: 93                 object \n",
      " 94    Unnamed: 94                 object \n",
      " 95    Unnamed: 95                 object \n",
      " 96    Unnamed: 96                 object \n",
      " 97    Unnamed: 97                 object \n",
      " 98    Unnamed: 98                 object \n",
      " 99    Unnamed: 99                 object \n",
      " 100   Unnamed: 100                object \n",
      " 101   Unnamed: 101                object \n",
      " 102   Unnamed: 102                object \n",
      " 103   Unnamed: 103                object \n",
      " 104   Unnamed: 104                object \n",
      " 105   Unnamed: 105                object \n",
      " 106   Unnamed: 106                object \n",
      " 107   Unnamed: 107                object \n",
      " 108   Unnamed: 108                object \n",
      " 109   Unnamed: 109                object \n",
      " 110   Unnamed: 110                object \n",
      " 111   Unnamed: 111                object \n",
      " 112   Unnamed: 112                object \n",
      " 113   Unnamed: 113                object \n",
      " 114   Unnamed: 114                object \n",
      " 115   Unnamed: 115                object \n",
      " 116   Unnamed: 116                object \n",
      " 117   Unnamed: 117                object \n",
      " 118   Unnamed: 118                object \n",
      " 119   Unnamed: 119                object \n",
      " 120   Unnamed: 120                object \n",
      " 121   Unnamed: 121                object \n",
      " 122   Unnamed: 122                object \n",
      " 123   Unnamed: 123                object \n",
      " 124   Unnamed: 124                object \n",
      " 125   Unnamed: 125                object \n",
      " 126   Unnamed: 126                object \n",
      " 127   Unnamed: 127                object \n",
      " 128   Unnamed: 128                object \n",
      " 129   Unnamed: 129                object \n",
      " 130   Unnamed: 130                object \n",
      " 131   Unnamed: 131                object \n",
      " 132   Unnamed: 132                object \n",
      " 133   Unnamed: 133                object \n",
      " 134   Unnamed: 134                object \n",
      " 135   Unnamed: 135                object \n",
      " 136   Unnamed: 136                object \n",
      " 137   Unnamed: 137                object \n",
      " 138   Unnamed: 138                object \n",
      " 139   Unnamed: 139                object \n",
      " 140   Unnamed: 140                object \n",
      " 141   Unnamed: 141                object \n",
      " 142   Unnamed: 142                object \n",
      " 143   Unnamed: 143                object \n",
      " 144   Unnamed: 144                object \n",
      " 145   Unnamed: 145                object \n",
      " 146   Unnamed: 146                object \n",
      " 147   Unnamed: 147                object \n",
      " 148   Unnamed: 148                object \n",
      " 149   Unnamed: 149                object \n",
      " 150   Unnamed: 150                object \n",
      " 151   Unnamed: 151                object \n",
      " 152   Unnamed: 152                object \n",
      " 153   Unnamed: 153                object \n",
      " 154   Unnamed: 154                object \n",
      " 155   Unnamed: 155                object \n",
      " 156   Unnamed: 156                object \n",
      " 157   Unnamed: 157                object \n",
      " 158   Unnamed: 158                object \n",
      " 159   Unnamed: 159                object \n",
      " 160   Unnamed: 160                object \n",
      " 161   Unnamed: 161                object \n",
      " 162   Unnamed: 162                object \n",
      " 163   Unnamed: 163                object \n",
      " 164   Unnamed: 164                object \n",
      " 165   Unnamed: 165                object \n",
      " 166   Unnamed: 166                object \n",
      " 167   Unnamed: 167                object \n",
      " 168   Unnamed: 168                object \n",
      " 169   Unnamed: 169                object \n",
      " 170   Unnamed: 170                object \n",
      " 171   Unnamed: 171                object \n",
      " 172   Unnamed: 172                object \n",
      " 173   Unnamed: 173                object \n",
      " 174   Unnamed: 174                object \n",
      " 175   Unnamed: 175                object \n",
      " 176   Unnamed: 176                object \n",
      " 177   Unnamed: 177                object \n",
      " 178   Unnamed: 178                object \n",
      " 179   Unnamed: 179                object \n",
      " 180   Unnamed: 180                object \n",
      " 181   Unnamed: 181                object \n",
      " 182   Unnamed: 182                object \n",
      " 183   Unnamed: 183                object \n",
      " 184   Unnamed: 184                object \n",
      " 185   Unnamed: 185                object \n",
      " 186   Unnamed: 186                object \n",
      " 187   Unnamed: 187                object \n",
      " 188   Unnamed: 188                object \n",
      " 189   Unnamed: 189                object \n",
      " 190   Unnamed: 190                object \n",
      " 191   Unnamed: 191                object \n",
      " 192   Unnamed: 192                object \n",
      " 193   Unnamed: 193                object \n",
      " 194   Unnamed: 194                object \n",
      " 195   Unnamed: 195                object \n",
      " 196   Unnamed: 196                object \n",
      " 197   Unnamed: 197                object \n",
      " 198   Unnamed: 198                object \n",
      " 199   Unnamed: 199                object \n",
      " 200   Unnamed: 200                object \n",
      " 201   Unnamed: 201                object \n",
      " 202   Unnamed: 202                object \n",
      " 203   Unnamed: 203                object \n",
      " 204   Unnamed: 204                object \n",
      " 205   Unnamed: 205                object \n",
      " 206   Unnamed: 206                object \n",
      " 207   Unnamed: 207                object \n",
      " 208   Unnamed: 208                object \n",
      " 209   Unnamed: 209                object \n",
      " 210   Unnamed: 210                object \n",
      " 211   Unnamed: 211                object \n",
      " 212   Unnamed: 212                object \n",
      " 213   Unnamed: 213                object \n",
      " 214   Unnamed: 214                object \n",
      " 215   Unnamed: 215                object \n",
      " 216   Unnamed: 216                object \n",
      " 217   Unnamed: 217                object \n",
      " 218   Unnamed: 218                object \n",
      " 219   Unnamed: 219                object \n",
      " 220   Unnamed: 220                object \n",
      " 221   Unnamed: 221                object \n",
      " 222   Unnamed: 222                object \n",
      " 223   Unnamed: 223                object \n",
      " 224   Unnamed: 224                object \n",
      " 225   Unnamed: 225                object \n",
      " 226   Unnamed: 226                object \n",
      " 227   Unnamed: 227                object \n",
      " 228   Unnamed: 228                object \n",
      " 229   Unnamed: 229                object \n",
      " 230   Unnamed: 230                object \n",
      " 231   Unnamed: 231                object \n",
      " 232   Unnamed: 232                object \n",
      " 233   Unnamed: 233                object \n",
      " 234   Unnamed: 234                object \n",
      " 235   Unnamed: 235                object \n",
      " 236   Unnamed: 236                object \n",
      " 237   Unnamed: 237                object \n",
      " 238   Unnamed: 238                object \n",
      " 239   Unnamed: 239                object \n",
      " 240   Unnamed: 240                object \n",
      " 241   Unnamed: 241                object \n",
      " 242   Unnamed: 242                object \n",
      " 243   Unnamed: 243                object \n",
      " 244   Unnamed: 244                object \n",
      " 245   Unnamed: 245                object \n",
      " 246   Unnamed: 246                object \n",
      " 247   Unnamed: 247                object \n",
      " 248   Unnamed: 248                object \n",
      " 249   Unnamed: 249                object \n",
      " 250   Unnamed: 250                object \n",
      " 251   Unnamed: 251                object \n",
      " 252   Unnamed: 252                object \n",
      " 253   Unnamed: 253                object \n",
      " 254   Unnamed: 254                object \n",
      " 255   Unnamed: 255                object \n",
      " 256   Unnamed: 256                object \n",
      " 257   Unnamed: 257                object \n",
      " 258   Unnamed: 258                object \n",
      " 259   Unnamed: 259                object \n",
      " 260   Unnamed: 260                object \n",
      " 261   Unnamed: 261                object \n",
      " 262   Unnamed: 262                object \n",
      " 263   Unnamed: 263                object \n",
      " 264   Unnamed: 264                object \n",
      " 265   Unnamed: 265                object \n",
      " 266   Unnamed: 266                object \n",
      " 267   Unnamed: 267                object \n",
      " 268   Unnamed: 268                object \n",
      " 269   Unnamed: 269                object \n",
      " 270   Unnamed: 270                object \n",
      " 271   Unnamed: 271                object \n",
      " 272   Unnamed: 272                object \n",
      " 273   Unnamed: 273                object \n",
      " 274   Unnamed: 274                object \n",
      " 275   Unnamed: 275                object \n",
      " 276   Unnamed: 276                object \n",
      " 277   Unnamed: 277                object \n",
      " 278   Unnamed: 278                object \n",
      " 279   Unnamed: 279                object \n",
      " 280   Unnamed: 280                object \n",
      " 281   Unnamed: 281                object \n",
      " 282   Unnamed: 282                object \n",
      " 283   Unnamed: 283                object \n",
      " 284   Unnamed: 284                object \n",
      " 285   Unnamed: 285                object \n",
      " 286   Unnamed: 286                object \n",
      " 287   Unnamed: 287                object \n",
      " 288   Unnamed: 288                object \n",
      " 289   Unnamed: 289                object \n",
      " 290   Unnamed: 290                object \n",
      " 291   Unnamed: 291                object \n",
      " 292   Unnamed: 292                object \n",
      " 293   Unnamed: 293                object \n",
      " 294   Unnamed: 294                object \n",
      " 295   Unnamed: 295                object \n",
      " 296   Unnamed: 296                object \n",
      " 297   Unnamed: 297                object \n",
      " 298   Unnamed: 298                object \n",
      " 299   Unnamed: 299                object \n",
      " 300   Unnamed: 300                object \n",
      " 301   Unnamed: 301                object \n",
      " 302   Unnamed: 302                object \n",
      " 303   Unnamed: 303                object \n",
      " 304   Unnamed: 304                object \n",
      " 305   Unnamed: 305                object \n",
      " 306   Unnamed: 306                object \n",
      " 307   Unnamed: 307                object \n",
      " 308   Unnamed: 308                object \n",
      " 309   Unnamed: 309                object \n",
      " 310   Unnamed: 310                object \n",
      " 311   Unnamed: 311                object \n",
      " 312   Unnamed: 312                object \n",
      " 313   Unnamed: 313                object \n",
      " 314   Unnamed: 314                object \n",
      " 315   Unnamed: 315                object \n",
      " 316   Unnamed: 316                object \n",
      " 317   Unnamed: 317                object \n",
      " 318   Unnamed: 318                object \n",
      " 319   Unnamed: 319                object \n",
      " 320   Unnamed: 320                object \n",
      " 321   Unnamed: 321                object \n",
      " 322   Unnamed: 322                object \n",
      " 323   Unnamed: 323                object \n",
      " 324   Unnamed: 324                object \n",
      " 325   Unnamed: 325                object \n",
      " 326   Unnamed: 326                object \n",
      " 327   Unnamed: 327                object \n",
      " 328   Unnamed: 328                object \n",
      " 329   Unnamed: 329                object \n",
      " 330   Unnamed: 330                object \n",
      " 331   Unnamed: 331                object \n",
      " 332   Unnamed: 332                object \n",
      " 333   Unnamed: 333                object \n",
      " 334   Unnamed: 334                object \n",
      " 335   Unnamed: 335                object \n",
      " 336   Unnamed: 336                object \n",
      " 337   Unnamed: 337                object \n",
      " 338   Unnamed: 338                object \n",
      " 339   Unnamed: 339                object \n",
      " 340   Unnamed: 340                object \n",
      " 341   Unnamed: 341                object \n",
      " 342   Unnamed: 342                object \n",
      " 343   Unnamed: 343                object \n",
      " 344   Unnamed: 344                object \n",
      " 345   Unnamed: 345                object \n",
      " 346   Unnamed: 346                object \n",
      " 347   Unnamed: 347                object \n",
      " 348   Unnamed: 348                object \n",
      " 349   Unnamed: 349                object \n",
      " 350   Unnamed: 350                object \n",
      " 351   Unnamed: 351                object \n",
      " 352   Unnamed: 352                object \n",
      " 353   Unnamed: 353                object \n",
      " 354   Unnamed: 354                object \n",
      " 355   Unnamed: 355                object \n",
      " 356   Unnamed: 356                object \n",
      " 357   Unnamed: 357                object \n",
      " 358   Unnamed: 358                object \n",
      " 359   Unnamed: 359                object \n",
      " 360   Unnamed: 360                object \n",
      " 361   Unnamed: 361                object \n",
      " 362   Unnamed: 362                object \n",
      " 363   Unnamed: 363                object \n",
      " 364   Unnamed: 364                object \n",
      " 365   Unnamed: 365                object \n",
      " 366   Unnamed: 366                object \n",
      " 367   Unnamed: 367                object \n",
      " 368   Unnamed: 368                object \n",
      " 369   Unnamed: 369                object \n",
      " 370   Unnamed: 370                object \n",
      " 371   Unnamed: 371                object \n",
      " 372   Unnamed: 372                object \n",
      " 373   Unnamed: 373                object \n",
      " 374   Unnamed: 374                object \n",
      " 375   Unnamed: 375                object \n",
      " 376   Unnamed: 376                object \n",
      " 377   Unnamed: 377                object \n",
      " 378   Unnamed: 378                object \n",
      " 379   Unnamed: 379                object \n",
      " 380   Unnamed: 380                object \n",
      " 381   Unnamed: 381                object \n",
      " 382   Unnamed: 382                object \n",
      " 383   Unnamed: 383                object \n",
      " 384   Unnamed: 384                object \n",
      " 385   Unnamed: 385                object \n",
      " 386   Unnamed: 386                object \n",
      " 387   Unnamed: 387                object \n",
      " 388   Unnamed: 388                object \n",
      " 389   Unnamed: 389                object \n",
      " 390   Unnamed: 390                object \n",
      " 391   Unnamed: 391                object \n",
      " 392   Unnamed: 392                object \n",
      " 393   Unnamed: 393                object \n",
      " 394   Unnamed: 394                object \n",
      " 395   Unnamed: 395                object \n",
      " 396   Unnamed: 396                object \n",
      " 397   Unnamed: 397                object \n",
      " 398   Unnamed: 398                object \n",
      " 399   Unnamed: 399                object \n",
      " 400   Unnamed: 400                object \n",
      " 401   Unnamed: 401                object \n",
      " 402   Unnamed: 402                object \n",
      " 403   Unnamed: 403                object \n",
      " 404   Unnamed: 404                object \n",
      " 405   Unnamed: 405                object \n",
      " 406   Unnamed: 406                object \n",
      " 407   Unnamed: 407                object \n",
      " 408   Unnamed: 408                object \n",
      " 409   Unnamed: 409                object \n",
      " 410   Unnamed: 410                object \n",
      " 411   Unnamed: 411                object \n",
      " 412   Unnamed: 412                object \n",
      " 413   Unnamed: 413                object \n",
      " 414   Unnamed: 414                object \n",
      " 415   Unnamed: 415                object \n",
      " 416   Unnamed: 416                object \n",
      " 417   Unnamed: 417                object \n",
      " 418   Unnamed: 418                object \n",
      " 419   Unnamed: 419                object \n",
      " 420   Unnamed: 420                object \n",
      " 421   Unnamed: 421                object \n",
      " 422   Unnamed: 422                object \n",
      " 423   Unnamed: 423                object \n",
      " 424   Unnamed: 424                object \n",
      " 425   Unnamed: 425                object \n",
      " 426   Unnamed: 426                object \n",
      " 427   Unnamed: 427                object \n",
      " 428   Unnamed: 428                object \n",
      " 429   Unnamed: 429                object \n",
      " 430   Unnamed: 430                object \n",
      " 431   Unnamed: 431                object \n",
      " 432   Unnamed: 432                object \n",
      " 433   Unnamed: 433                object \n",
      " 434   Unnamed: 434                object \n",
      " 435   Unnamed: 435                object \n",
      " 436   Unnamed: 436                object \n",
      " 437   Unnamed: 437                object \n",
      " 438   Unnamed: 438                object \n",
      " 439   Unnamed: 439                object \n",
      " 440   Unnamed: 440                object \n",
      " 441   Unnamed: 441                object \n",
      " 442   Unnamed: 442                object \n",
      " 443   Unnamed: 443                object \n",
      " 444   Unnamed: 444                object \n",
      " 445   Unnamed: 445                object \n",
      " 446   Unnamed: 446                object \n",
      " 447   Unnamed: 447                object \n",
      " 448   Unnamed: 448                object \n",
      " 449   Unnamed: 449                object \n",
      " 450   Unnamed: 450                object \n",
      " 451   Unnamed: 451                object \n",
      " 452   Unnamed: 452                object \n",
      " 453   Unnamed: 453                object \n",
      " 454   Unnamed: 454                object \n",
      " 455   Unnamed: 455                object \n",
      " 456   Unnamed: 456                object \n",
      " 457   Unnamed: 457                object \n",
      " 458   Unnamed: 458                object \n",
      " 459   Unnamed: 459                object \n",
      " 460   Unnamed: 460                object \n",
      " 461   Unnamed: 461                object \n",
      " 462   Unnamed: 462                object \n",
      " 463   Unnamed: 463                object \n",
      " 464   Unnamed: 464                object \n",
      " 465   Unnamed: 465                object \n",
      " 466   Unnamed: 466                object \n",
      " 467   Unnamed: 467                object \n",
      " 468   Unnamed: 468                object \n",
      " 469   Unnamed: 469                object \n",
      " 470   Unnamed: 470                object \n",
      " 471   Unnamed: 471                object \n",
      " 472   Unnamed: 472                object \n",
      " 473   Unnamed: 473                object \n",
      " 474   Unnamed: 474                object \n",
      " 475   Unnamed: 475                object \n",
      " 476   Unnamed: 476                object \n",
      " 477   Unnamed: 477                object \n",
      " 478   Unnamed: 478                object \n",
      " 479   Unnamed: 479                object \n",
      " 480   Unnamed: 480                object \n",
      " 481   Unnamed: 481                object \n",
      " 482   Unnamed: 482                object \n",
      " 483   Unnamed: 483                object \n",
      " 484   Unnamed: 484                object \n",
      " 485   Unnamed: 485                object \n",
      " 486   Unnamed: 486                object \n",
      " 487   Unnamed: 487                object \n",
      " 488   Unnamed: 488                object \n",
      " 489   Unnamed: 489                object \n",
      " 490   Unnamed: 490                object \n",
      " 491   Unnamed: 491                object \n",
      " 492   Unnamed: 492                object \n",
      " 493   Unnamed: 493                object \n",
      " 494   Unnamed: 494                object \n",
      " 495   Unnamed: 495                object \n",
      " 496   Unnamed: 496                object \n",
      " 497   Unnamed: 497                object \n",
      " 498   Unnamed: 498                object \n",
      " 499   Unnamed: 499                object \n",
      " 500   Unnamed: 500                object \n",
      " 501   Unnamed: 501                object \n",
      " 502   Unnamed: 502                object \n",
      " 503   Unnamed: 503                object \n",
      " 504   Unnamed: 504                object \n",
      " 505   Unnamed: 505                object \n",
      " 506   Unnamed: 506                object \n",
      " 507   Unnamed: 507                object \n",
      " 508   Unnamed: 508                object \n",
      " 509   Unnamed: 509                object \n",
      " 510   Unnamed: 510                object \n",
      " 511   Unnamed: 511                object \n",
      " 512   Unnamed: 512                object \n",
      " 513   Unnamed: 513                object \n",
      " 514   Unnamed: 514                object \n",
      " 515   Unnamed: 515                object \n",
      " 516   Unnamed: 516                object \n",
      " 517   Unnamed: 517                object \n",
      " 518   Unnamed: 518                object \n",
      " 519   Unnamed: 519                object \n",
      " 520   Unnamed: 520                object \n",
      " 521   Unnamed: 521                object \n",
      " 522   Unnamed: 522                object \n",
      " 523   Unnamed: 523                object \n",
      " 524   Unnamed: 524                object \n",
      " 525   Unnamed: 525                object \n",
      " 526   Unnamed: 526                object \n",
      " 527   Unnamed: 527                object \n",
      " 528   Unnamed: 528                object \n",
      " 529   Unnamed: 529                object \n",
      " 530   Unnamed: 530                object \n",
      " 531   Unnamed: 531                object \n",
      " 532   Unnamed: 532                object \n",
      " 533   Unnamed: 533                object \n",
      " 534   Unnamed: 534                object \n",
      " 535   Unnamed: 535                object \n",
      " 536   Unnamed: 536                object \n",
      " 537   Unnamed: 537                object \n",
      " 538   Unnamed: 538                object \n",
      " 539   Unnamed: 539                object \n",
      " 540   Unnamed: 540                object \n",
      " 541   Unnamed: 541                object \n",
      " 542   Unnamed: 542                object \n",
      " 543   Unnamed: 543                object \n",
      " 544   Unnamed: 544                object \n",
      " 545   Unnamed: 545                object \n",
      " 546   Unnamed: 546                object \n",
      " 547   Unnamed: 547                object \n",
      " 548   Unnamed: 548                object \n",
      " 549   Unnamed: 549                object \n",
      " 550   Unnamed: 550                object \n",
      " 551   Unnamed: 551                object \n",
      " 552   Unnamed: 552                object \n",
      " 553   Unnamed: 553                object \n",
      " 554   Unnamed: 554                object \n",
      " 555   Unnamed: 555                object \n",
      " 556   Unnamed: 556                object \n",
      " 557   Unnamed: 557                object \n",
      " 558   Unnamed: 558                object \n",
      " 559   Unnamed: 559                object \n",
      " 560   Unnamed: 560                object \n",
      " 561   Unnamed: 561                object \n",
      " 562   Unnamed: 562                object \n",
      " 563   Unnamed: 563                object \n",
      " 564   Unnamed: 564                object \n",
      " 565   Unnamed: 565                object \n",
      " 566   Unnamed: 566                object \n",
      " 567   Unnamed: 567                object \n",
      " 568   Unnamed: 568                object \n",
      " 569   Unnamed: 569                object \n",
      " 570   Unnamed: 570                object \n",
      " 571   Unnamed: 571                object \n",
      " 572   Unnamed: 572                object \n",
      " 573   Unnamed: 573                object \n",
      " 574   Unnamed: 574                object \n",
      " 575   Unnamed: 575                object \n",
      " 576   Unnamed: 576                object \n",
      " 577   Unnamed: 577                object \n",
      " 578   Unnamed: 578                object \n",
      " 579   Unnamed: 579                object \n",
      " 580   Unnamed: 580                object \n",
      " 581   Unnamed: 581                object \n",
      " 582   Unnamed: 582                object \n",
      " 583   Unnamed: 583                object \n",
      " 584   Unnamed: 584                object \n",
      " 585   Unnamed: 585                object \n",
      " 586   Unnamed: 586                object \n",
      " 587   Unnamed: 587                object \n",
      " 588   Unnamed: 588                object \n",
      " 589   Unnamed: 589                object \n",
      " 590   Unnamed: 590                object \n",
      " 591   Unnamed: 591                object \n",
      " 592   Unnamed: 592                object \n",
      " 593   Unnamed: 593                object \n",
      " 594   Unnamed: 594                object \n",
      " 595   Unnamed: 595                object \n",
      " 596   Unnamed: 596                object \n",
      " 597   Unnamed: 597                object \n",
      " 598   Unnamed: 598                object \n",
      " 599   Unnamed: 599                object \n",
      " 600   Unnamed: 600                object \n",
      " 601   Unnamed: 601                object \n",
      " 602   Unnamed: 602                object \n",
      " 603   Unnamed: 603                object \n",
      " 604   Unnamed: 604                object \n",
      " 605   Unnamed: 605                object \n",
      " 606   Unnamed: 606                object \n",
      " 607   Unnamed: 607                object \n",
      " 608   Unnamed: 608                object \n",
      " 609   Unnamed: 609                object \n",
      " 610   Unnamed: 610                object \n",
      " 611   Unnamed: 611                object \n",
      " 612   Unnamed: 612                object \n",
      " 613   Unnamed: 613                object \n",
      " 614   Unnamed: 614                object \n",
      " 615   Unnamed: 615                object \n",
      " 616   Unnamed: 616                object \n",
      " 617   Unnamed: 617                object \n",
      " 618   Unnamed: 618                object \n",
      " 619   Unnamed: 619                object \n",
      " 620   Unnamed: 620                object \n",
      " 621   Unnamed: 621                object \n",
      " 622   Unnamed: 622                object \n",
      " 623   Unnamed: 623                object \n",
      " 624   Unnamed: 624                object \n",
      " 625   Unnamed: 625                object \n",
      " 626   Unnamed: 626                object \n",
      " 627   Unnamed: 627                object \n",
      " 628   Unnamed: 628                object \n",
      " 629   Unnamed: 629                object \n",
      " 630   Unnamed: 630                object \n",
      " 631   Unnamed: 631                object \n",
      " 632   Unnamed: 632                object \n",
      " 633   Unnamed: 633                object \n",
      " 634   Unnamed: 634                object \n",
      " 635   Unnamed: 635                object \n",
      " 636   Unnamed: 636                object \n",
      " 637   Unnamed: 637                object \n",
      " 638   Unnamed: 638                object \n",
      " 639   Unnamed: 639                object \n",
      " 640   Unnamed: 640                object \n",
      " 641   Unnamed: 641                object \n",
      " 642   Unnamed: 642                object \n",
      " 643   Unnamed: 643                object \n",
      " 644   Unnamed: 644                object \n",
      " 645   Unnamed: 645                object \n",
      " 646   Unnamed: 646                object \n",
      " 647   Unnamed: 647                object \n",
      " 648   Unnamed: 648                object \n",
      " 649   Unnamed: 649                object \n",
      " 650   Unnamed: 650                object \n",
      " 651   Unnamed: 651                object \n",
      " 652   Unnamed: 652                object \n",
      " 653   Unnamed: 653                object \n",
      " 654   Unnamed: 654                object \n",
      " 655   Unnamed: 655                object \n",
      " 656   Unnamed: 656                object \n",
      " 657   Unnamed: 657                object \n",
      " 658   Unnamed: 658                object \n",
      " 659   Unnamed: 659                object \n",
      " 660   Unnamed: 660                object \n",
      " 661   Unnamed: 661                object \n",
      " 662   Unnamed: 662                object \n",
      " 663   Unnamed: 663                object \n",
      " 664   Unnamed: 664                object \n",
      " 665   Unnamed: 665                object \n",
      " 666   Unnamed: 666                object \n",
      " 667   Unnamed: 667                object \n",
      " 668   Unnamed: 668                object \n",
      " 669   Unnamed: 669                object \n",
      " 670   Unnamed: 670                object \n",
      " 671   Unnamed: 671                object \n",
      " 672   Unnamed: 672                object \n",
      " 673   Unnamed: 673                object \n",
      " 674   Unnamed: 674                object \n",
      " 675   Unnamed: 675                object \n",
      " 676   Unnamed: 676                object \n",
      " 677   Unnamed: 677                object \n",
      " 678   Unnamed: 678                object \n",
      " 679   Unnamed: 679                object \n",
      " 680   Unnamed: 680                object \n",
      " 681   Unnamed: 681                object \n",
      " 682   Unnamed: 682                object \n",
      " 683   Unnamed: 683                object \n",
      " 684   Unnamed: 684                object \n",
      " 685   Unnamed: 685                object \n",
      " 686   Unnamed: 686                object \n",
      " 687   Unnamed: 687                object \n",
      " 688   Unnamed: 688                object \n",
      " 689   Unnamed: 689                object \n",
      " 690   Unnamed: 690                object \n",
      " 691   Unnamed: 691                object \n",
      " 692   Unnamed: 692                object \n",
      " 693   Unnamed: 693                object \n",
      " 694   Unnamed: 694                object \n",
      " 695   Unnamed: 695                object \n",
      " 696   Unnamed: 696                object \n",
      " 697   Unnamed: 697                object \n",
      " 698   Unnamed: 698                object \n",
      " 699   Unnamed: 699                object \n",
      " 700   Unnamed: 700                object \n",
      " 701   Unnamed: 701                object \n",
      " 702   Unnamed: 702                object \n",
      " 703   Unnamed: 703                object \n",
      " 704   Unnamed: 704                object \n",
      " 705   Unnamed: 705                object \n",
      " 706   Unnamed: 706                object \n",
      " 707   Unnamed: 707                object \n",
      " 708   Unnamed: 708                object \n",
      " 709   Unnamed: 709                object \n",
      " 710   Unnamed: 710                object \n",
      " 711   Unnamed: 711                object \n",
      " 712   Unnamed: 712                object \n",
      " 713   Unnamed: 713                object \n",
      " 714   Unnamed: 714                object \n",
      " 715   Unnamed: 715                object \n",
      " 716   Unnamed: 716                object \n",
      " 717   Unnamed: 717                object \n",
      " 718   Unnamed: 718                object \n",
      " 719   Unnamed: 719                object \n",
      " 720   Unnamed: 720                object \n",
      " 721   Unnamed: 721                object \n",
      " 722   Unnamed: 722                object \n",
      " 723   Unnamed: 723                object \n",
      " 724   Unnamed: 724                object \n",
      " 725   Unnamed: 725                object \n",
      " 726   Unnamed: 726                object \n",
      " 727   Unnamed: 727                object \n",
      " 728   Unnamed: 728                object \n",
      " 729   Unnamed: 729                object \n",
      " 730   Unnamed: 730                object \n",
      " 731   Unnamed: 731                object \n",
      " 732   Unnamed: 732                object \n",
      " 733   Unnamed: 733                object \n",
      " 734   Unnamed: 734                object \n",
      " 735   Unnamed: 735                object \n",
      " 736   Unnamed: 736                object \n",
      " 737   Unnamed: 737                object \n",
      " 738   Unnamed: 738                object \n",
      " 739   Unnamed: 739                object \n",
      " 740   Unnamed: 740                object \n",
      " 741   Unnamed: 741                object \n",
      " 742   Unnamed: 742                object \n",
      " 743   Unnamed: 743                object \n",
      " 744   Unnamed: 744                object \n",
      " 745   Unnamed: 745                object \n",
      " 746   Unnamed: 746                object \n",
      " 747   Unnamed: 747                object \n",
      " 748   Unnamed: 748                object \n",
      " 749   Unnamed: 749                object \n",
      " 750   Unnamed: 750                object \n",
      " 751   Unnamed: 751                object \n",
      " 752   Unnamed: 752                object \n",
      " 753   Unnamed: 753                object \n",
      " 754   Unnamed: 754                object \n",
      " 755   Unnamed: 755                object \n",
      " 756   Unnamed: 756                object \n",
      " 757   Unnamed: 757                object \n",
      " 758   Unnamed: 758                object \n",
      " 759   Unnamed: 759                object \n",
      " 760   Unnamed: 760                object \n",
      " 761   Unnamed: 761                object \n",
      " 762   Unnamed: 762                object \n",
      " 763   Unnamed: 763                object \n",
      " 764   Unnamed: 764                object \n",
      " 765   Unnamed: 765                object \n",
      " 766   Unnamed: 766                object \n",
      " 767   Unnamed: 767                object \n",
      " 768   Unnamed: 768                object \n",
      " 769   Unnamed: 769                object \n",
      " 770   Unnamed: 770                object \n",
      " 771   Unnamed: 771                object \n",
      " 772   Unnamed: 772                object \n",
      " 773   Unnamed: 773                object \n",
      " 774   Unnamed: 774                object \n",
      " 775   Unnamed: 775                object \n",
      " 776   Unnamed: 776                object \n",
      " 777   Unnamed: 777                object \n",
      " 778   Unnamed: 778                object \n",
      " 779   Unnamed: 779                object \n",
      " 780   Unnamed: 780                object \n",
      " 781   Unnamed: 781                object \n",
      " 782   Unnamed: 782                object \n",
      " 783   Unnamed: 783                object \n",
      " 784   Unnamed: 784                object \n",
      " 785   Unnamed: 785                object \n",
      " 786   Unnamed: 786                object \n",
      " 787   Unnamed: 787                object \n",
      " 788   Unnamed: 788                object \n",
      " 789   Unnamed: 789                object \n",
      " 790   Unnamed: 790                object \n",
      " 791   Unnamed: 791                object \n",
      " 792   Unnamed: 792                object \n",
      " 793   Unnamed: 793                object \n",
      " 794   Unnamed: 794                object \n",
      " 795   Unnamed: 795                object \n",
      " 796   Unnamed: 796                object \n",
      " 797   Unnamed: 797                object \n",
      " 798   Unnamed: 798                object \n",
      " 799   Unnamed: 799                object \n",
      " 800   Unnamed: 800                object \n",
      " 801   Unnamed: 801                object \n",
      " 802   Unnamed: 802                object \n",
      " 803   Unnamed: 803                object \n",
      " 804   Unnamed: 804                object \n",
      " 805   Unnamed: 805                object \n",
      " 806   Unnamed: 806                object \n",
      " 807   Unnamed: 807                object \n",
      " 808   Unnamed: 808                object \n",
      " 809   Unnamed: 809                object \n",
      " 810   Unnamed: 810                object \n",
      " 811   Unnamed: 811                object \n",
      " 812   Unnamed: 812                object \n",
      " 813   Unnamed: 813                object \n",
      " 814   Unnamed: 814                object \n",
      " 815   Unnamed: 815                object \n",
      " 816   Unnamed: 816                object \n",
      " 817   Unnamed: 817                object \n",
      " 818   Unnamed: 818                object \n",
      " 819   Unnamed: 819                object \n",
      " 820   Unnamed: 820                object \n",
      " 821   Unnamed: 821                object \n",
      " 822   Unnamed: 822                object \n",
      " 823   Unnamed: 823                object \n",
      " 824   Unnamed: 824                object \n",
      " 825   Unnamed: 825                object \n",
      " 826   Unnamed: 826                object \n",
      " 827   Unnamed: 827                object \n",
      " 828   Unnamed: 828                object \n",
      " 829   Unnamed: 829                object \n",
      " 830   Unnamed: 830                object \n",
      " 831   Unnamed: 831                object \n",
      " 832   Unnamed: 832                object \n",
      " 833   Unnamed: 833                object \n",
      " 834   Unnamed: 834                object \n",
      " 835   Unnamed: 835                object \n",
      " 836   Unnamed: 836                object \n",
      " 837   Unnamed: 837                object \n",
      " 838   Unnamed: 838                object \n",
      " 839   Unnamed: 839                object \n",
      " 840   Unnamed: 840                object \n",
      " 841   Unnamed: 841                object \n",
      " 842   Unnamed: 842                object \n",
      " 843   Unnamed: 843                object \n",
      " 844   Unnamed: 844                object \n",
      " 845   Unnamed: 845                object \n",
      " 846   Unnamed: 846                object \n",
      " 847   Unnamed: 847                object \n",
      " 848   Unnamed: 848                object \n",
      " 849   Unnamed: 849                object \n",
      " 850   Unnamed: 850                object \n",
      " 851   Unnamed: 851                object \n",
      " 852   Unnamed: 852                object \n",
      " 853   Unnamed: 853                object \n",
      " 854   Unnamed: 854                object \n",
      " 855   Unnamed: 855                object \n",
      " 856   Unnamed: 856                object \n",
      " 857   Unnamed: 857                object \n",
      " 858   Unnamed: 858                object \n",
      " 859   Unnamed: 859                object \n",
      " 860   Unnamed: 860                object \n",
      " 861   Unnamed: 861                object \n",
      " 862   Unnamed: 862                object \n",
      " 863   Unnamed: 863                object \n",
      " 864   Unnamed: 864                object \n",
      " 865   Unnamed: 865                object \n",
      " 866   Unnamed: 866                object \n",
      " 867   Unnamed: 867                object \n",
      " 868   Unnamed: 868                object \n",
      " 869   Unnamed: 869                object \n",
      " 870   Unnamed: 870                object \n",
      " 871   Unnamed: 871                object \n",
      " 872   Unnamed: 872                object \n",
      " 873   Unnamed: 873                object \n",
      " 874   Unnamed: 874                object \n",
      " 875   Unnamed: 875                object \n",
      " 876   Unnamed: 876                object \n",
      " 877   Unnamed: 877                object \n",
      " 878   Unnamed: 878                object \n",
      " 879   Unnamed: 879                object \n",
      " 880   Unnamed: 880                object \n",
      " 881   Unnamed: 881                object \n",
      " 882   Unnamed: 882                object \n",
      " 883   Unnamed: 883                object \n",
      " 884   Unnamed: 884                object \n",
      " 885   Unnamed: 885                object \n",
      " 886   Unnamed: 886                object \n",
      " 887   Unnamed: 887                object \n",
      " 888   Unnamed: 888                object \n",
      " 889   Unnamed: 889                object \n",
      " 890   Unnamed: 890                object \n",
      " 891   Unnamed: 891                object \n",
      " 892   Unnamed: 892                object \n",
      " 893   Unnamed: 893                object \n",
      " 894   Unnamed: 894                object \n",
      " 895   Unnamed: 895                object \n",
      " 896   Unnamed: 896                object \n",
      " 897   Unnamed: 897                object \n",
      " 898   Unnamed: 898                object \n",
      " 899   Unnamed: 899                object \n",
      " 900   Unnamed: 900                object \n",
      " 901   Unnamed: 901                object \n",
      " 902   Unnamed: 902                object \n",
      " 903   Unnamed: 903                object \n",
      " 904   Unnamed: 904                object \n",
      " 905   Unnamed: 905                object \n",
      " 906   Unnamed: 906                object \n",
      " 907   Unnamed: 907                object \n",
      " 908   Unnamed: 908                object \n",
      " 909   Unnamed: 909                object \n",
      " 910   Unnamed: 910                object \n",
      " 911   Unnamed: 911                object \n",
      " 912   Unnamed: 912                object \n",
      " 913   Unnamed: 913                object \n",
      " 914   Unnamed: 914                object \n",
      " 915   Unnamed: 915                object \n",
      " 916   Unnamed: 916                object \n",
      " 917   Unnamed: 917                object \n",
      " 918   Unnamed: 918                object \n",
      " 919   Unnamed: 919                object \n",
      " 920   Unnamed: 920                object \n",
      " 921   Unnamed: 921                object \n",
      " 922   Unnamed: 922                object \n",
      " 923   Unnamed: 923                object \n",
      " 924   Unnamed: 924                object \n",
      " 925   Unnamed: 925                object \n",
      " 926   Unnamed: 926                object \n",
      " 927   Unnamed: 927                object \n",
      " 928   Unnamed: 928                object \n",
      " 929   Unnamed: 929                object \n",
      " 930   Unnamed: 930                object \n",
      " 931   Unnamed: 931                object \n",
      " 932   Unnamed: 932                object \n",
      " 933   Unnamed: 933                object \n",
      " 934   Unnamed: 934                object \n",
      " 935   Unnamed: 935                object \n",
      " 936   Unnamed: 936                object \n",
      " 937   Unnamed: 937                object \n",
      " 938   Unnamed: 938                object \n",
      " 939   Unnamed: 939                object \n",
      " 940   Unnamed: 940                object \n",
      " 941   Unnamed: 941                object \n",
      " 942   Unnamed: 942                object \n",
      " 943   Unnamed: 943                object \n",
      " 944   Unnamed: 944                object \n",
      " 945   Unnamed: 945                object \n",
      " 946   Unnamed: 946                object \n",
      " 947   Unnamed: 947                object \n",
      " 948   Unnamed: 948                object \n",
      " 949   Unnamed: 949                object \n",
      " 950   Unnamed: 950                object \n",
      " 951   Unnamed: 951                object \n",
      " 952   Unnamed: 952                object \n",
      " 953   Unnamed: 953                object \n",
      " 954   Unnamed: 954                object \n",
      " 955   Unnamed: 955                object \n",
      " 956   Unnamed: 956                object \n",
      " 957   Unnamed: 957                object \n",
      " 958   Unnamed: 958                object \n",
      " 959   Unnamed: 959                object \n",
      " 960   Unnamed: 960                object \n",
      " 961   Unnamed: 961                object \n",
      " 962   Unnamed: 962                object \n",
      " 963   Unnamed: 963                object \n",
      " 964   Unnamed: 964                object \n",
      " 965   Unnamed: 965                object \n",
      " 966   Unnamed: 966                object \n",
      " 967   Unnamed: 967                object \n",
      " 968   Unnamed: 968                object \n",
      " 969   Unnamed: 969                object \n",
      " 970   Unnamed: 970                object \n",
      " 971   Unnamed: 971                object \n",
      " 972   Unnamed: 972                object \n",
      " 973   Unnamed: 973                object \n",
      " 974   Unnamed: 974                object \n",
      " 975   Unnamed: 975                object \n",
      " 976   Unnamed: 976                object \n",
      " 977   Unnamed: 977                object \n",
      " 978   Unnamed: 978                object \n",
      " 979   Unnamed: 979                object \n",
      " 980   Unnamed: 980                object \n",
      " 981   Unnamed: 981                object \n",
      " 982   Unnamed: 982                object \n",
      " 983   Unnamed: 983                object \n",
      " 984   Unnamed: 984                object \n",
      " 985   Unnamed: 985                object \n",
      " 986   Unnamed: 986                object \n",
      " 987   Unnamed: 987                object \n",
      " 988   Unnamed: 988                object \n",
      " 989   Unnamed: 989                object \n",
      " 990   Unnamed: 990                object \n",
      " 991   Unnamed: 991                object \n",
      " 992   Unnamed: 992                object \n",
      " 993   Unnamed: 993                object \n",
      " 994   Unnamed: 994                object \n",
      " 995   Unnamed: 995                object \n",
      " 996   Unnamed: 996                object \n",
      " 997   Unnamed: 997                object \n",
      " 998   Unnamed: 998                object \n",
      " 999   Unnamed: 999                object \n",
      " 1000  Unnamed: 1000               object \n",
      " 1001  Unnamed: 1001               object \n",
      " 1002  Unnamed: 1002               object \n",
      " 1003  Unnamed: 1003               object \n",
      " 1004  Unnamed: 1004               object \n",
      " 1005  Unnamed: 1005               object \n",
      " 1006  Unnamed: 1006               object \n",
      " 1007  Unnamed: 1007               object \n",
      " 1008  Unnamed: 1008               object \n",
      " 1009  Unnamed: 1009               object \n",
      " 1010  Unnamed: 1010               object \n",
      " 1011  Unnamed: 1011               object \n",
      " 1012  Unnamed: 1012               object \n",
      " 1013  Unnamed: 1013               object \n",
      " 1014  Unnamed: 1014               object \n",
      " 1015  Unnamed: 1015               object \n",
      " 1016  Unnamed: 1016               object \n",
      " 1017  Unnamed: 1017               object \n",
      " 1018  Unnamed: 1018               object \n",
      " 1019  Unnamed: 1019               object \n",
      " 1020  Unnamed: 1020               object \n",
      " 1021  Unnamed: 1021               object \n",
      " 1022  Unnamed: 1022               object \n",
      " 1023  Unnamed: 1023               object \n",
      " 1024  Unnamed: 1024               object \n",
      " 1025  Unnamed: 1025               object \n",
      " 1026  Unnamed: 1026               object \n",
      " 1027  Unnamed: 1027               object \n",
      " 1028  Unnamed: 1028               object \n",
      " 1029  Unnamed: 1029               object \n",
      " 1030  Unnamed: 1030               object \n",
      " 1031  Unnamed: 1031               object \n",
      " 1032  Unnamed: 1032               object \n",
      " 1033  Unnamed: 1033               object \n",
      " 1034  Unnamed: 1034               object \n",
      " 1035  Unnamed: 1035               object \n",
      " 1036  Unnamed: 1036               object \n",
      " 1037  Unnamed: 1037               object \n",
      " 1038  Unnamed: 1038               object \n",
      " 1039  Unnamed: 1039               object \n",
      " 1040  Unnamed: 1040               object \n",
      " 1041  Unnamed: 1041               object \n",
      " 1042  Unnamed: 1042               object \n",
      " 1043  Unnamed: 1043               object \n",
      " 1044  Unnamed: 1044               object \n",
      " 1045  Unnamed: 1045               object \n",
      " 1046  Unnamed: 1046               object \n",
      " 1047  Unnamed: 1047               object \n",
      " 1048  Unnamed: 1048               object \n",
      " 1049  Unnamed: 1049               object \n",
      " 1050  Unnamed: 1050               object \n",
      " 1051  Unnamed: 1051               object \n",
      " 1052  Unnamed: 1052               object \n",
      " 1053  Unnamed: 1053               object \n",
      " 1054  Unnamed: 1054               object \n",
      " 1055  Unnamed: 1055               object \n",
      " 1056  Unnamed: 1056               object \n",
      " 1057  Unnamed: 1057               object \n",
      " 1058  Unnamed: 1058               object \n",
      " 1059  Unnamed: 1059               object \n",
      " 1060  Unnamed: 1060               object \n",
      " 1061  Unnamed: 1061               object \n",
      " 1062  Unnamed: 1062               object \n",
      " 1063  Unnamed: 1063               object \n",
      " 1064  Unnamed: 1064               object \n",
      " 1065  Unnamed: 1065               object \n",
      " 1066  Unnamed: 1066               object \n",
      " 1067  Unnamed: 1067               object \n",
      " 1068  Unnamed: 1068               object \n",
      " 1069  Unnamed: 1069               object \n",
      " 1070  Unnamed: 1070               object \n",
      " 1071  Unnamed: 1071               object \n",
      " 1072  Unnamed: 1072               object \n",
      " 1073  Unnamed: 1073               object \n",
      " 1074  Unnamed: 1074               object \n",
      " 1075  Unnamed: 1075               object \n",
      " 1076  Unnamed: 1076               object \n",
      " 1077  Unnamed: 1077               object \n",
      " 1078  Unnamed: 1078               object \n",
      " 1079  Unnamed: 1079               object \n",
      " 1080  Unnamed: 1080               object \n",
      " 1081  Unnamed: 1081               object \n",
      " 1082  Unnamed: 1082               object \n",
      " 1083  Unnamed: 1083               object \n",
      " 1084  Unnamed: 1084               object \n",
      " 1085  Unnamed: 1085               object \n",
      " 1086  Unnamed: 1086               object \n",
      " 1087  Unnamed: 1087               object \n",
      " 1088  Unnamed: 1088               object \n",
      " 1089  Unnamed: 1089               object \n",
      " 1090  Unnamed: 1090               object \n",
      " 1091  Unnamed: 1091               object \n",
      " 1092  Unnamed: 1092               object \n",
      " 1093  Unnamed: 1093               object \n",
      " 1094  Unnamed: 1094               object \n",
      " 1095  Unnamed: 1095               object \n",
      " 1096  Unnamed: 1096               object \n",
      " 1097  Unnamed: 1097               object \n",
      " 1098  Unnamed: 1098               object \n",
      " 1099  Unnamed: 1099               object \n",
      " 1100  Unnamed: 1100               object \n",
      " 1101  Unnamed: 1101               object \n",
      " 1102  Unnamed: 1102               object \n",
      " 1103  Unnamed: 1103               object \n",
      " 1104  Unnamed: 1104               object \n",
      " 1105  Unnamed: 1105               object \n",
      " 1106  Unnamed: 1106               object \n",
      " 1107  Unnamed: 1107               float64\n",
      " 1108  Unnamed: 1108               float64\n",
      " 1109  Unnamed: 1109               object \n",
      " 1110  Unnamed: 1110               object \n",
      " 1111  Unnamed: 1111               object \n",
      " 1112  Unnamed: 1112               object \n",
      " 1113  Unnamed: 1113               object \n",
      " 1114  Unnamed: 1114               object \n",
      " 1115  Unnamed: 1115               object \n",
      " 1116  Unnamed: 1116               object \n",
      " 1117  Unnamed: 1117               object \n",
      " 1118  Unnamed: 1118               object \n",
      " 1119  Unnamed: 1119               object \n",
      " 1120  Unnamed: 1120               object \n",
      " 1121  Unnamed: 1121               object \n",
      " 1122  Unnamed: 1122               object \n",
      " 1123  Unnamed: 1123               float64\n",
      " 1124  Unnamed: 1124               float64\n",
      " 1125  Unnamed: 1125               object \n",
      " 1126  Unnamed: 1126               float64\n",
      " 1127  Unnamed: 1127               float64\n",
      " 1128  Unnamed: 1128               object \n",
      " 1129  Unnamed: 1129               object \n",
      " 1130  Unnamed: 1130               object \n",
      " 1131  Unnamed: 1131               object \n",
      " 1132  Unnamed: 1132               object \n",
      " 1133  Unnamed: 1133               object \n",
      " 1134  Unnamed: 1134               object \n",
      " 1135  Unnamed: 1135               object \n",
      " 1136  Unnamed: 1136               object \n",
      " 1137  Unnamed: 1137               object \n",
      " 1138  Unnamed: 1138               object \n",
      " 1139  Unnamed: 1139               object \n",
      " 1140  Unnamed: 1140               object \n",
      " 1141  Unnamed: 1141               object \n",
      " 1142  Unnamed: 1142               float64\n",
      " 1143  Unnamed: 1143               float64\n",
      " 1144  Unnamed: 1144               object \n",
      " 1145  Unnamed: 1145               float64\n",
      " 1146  Unnamed: 1146               float64\n",
      " 1147  Unnamed: 1147               object \n",
      " 1148  Unnamed: 1148               object \n",
      " 1149  Unnamed: 1149               object \n",
      " 1150  Unnamed: 1150               object \n",
      " 1151  Unnamed: 1151               object \n",
      " 1152  Unnamed: 1152               object \n",
      " 1153  Unnamed: 1153               object \n",
      " 1154  Unnamed: 1154               object \n",
      " 1155  Unnamed: 1155               object \n",
      " 1156  Unnamed: 1156               object \n",
      " 1157  Unnamed: 1157               object \n",
      " 1158  Unnamed: 1158               object \n",
      " 1159  Unnamed: 1159               object \n",
      " 1160  Unnamed: 1160               object \n",
      " 1161  Unnamed: 1161               float64\n",
      " 1162  Unnamed: 1162               float64\n",
      " 1163  Unnamed: 1163               object \n",
      " 1164  Unnamed: 1164               float64\n",
      " 1165  Unnamed: 1165               float64\n",
      " 1166  Unnamed: 1166               object \n",
      " 1167  Unnamed: 1167               object \n",
      " 1168  Unnamed: 1168               object \n",
      " 1169  Unnamed: 1169               object \n",
      " 1170  Unnamed: 1170               object \n",
      " 1171  Unnamed: 1171               object \n",
      " 1172  Unnamed: 1172               object \n",
      " 1173  Unnamed: 1173               object \n",
      " 1174  Unnamed: 1174               object \n",
      " 1175  Unnamed: 1175               object \n",
      " 1176  Unnamed: 1176               object \n",
      " 1177  Unnamed: 1177               object \n",
      " 1178  Unnamed: 1178               object \n",
      " 1179  Unnamed: 1179               object \n",
      " 1180  Unnamed: 1180               object \n",
      " 1181  Unnamed: 1181               float64\n",
      " 1182  Unnamed: 1182               float64\n",
      " 1183  Unnamed: 1183               object \n",
      " 1184  Unnamed: 1184               float64\n",
      " 1185  Unnamed: 1185               float64\n",
      " 1186  Unnamed: 1186               object \n",
      " 1187  Unnamed: 1187               object \n",
      " 1188  Unnamed: 1188               object \n",
      " 1189  Unnamed: 1189               object \n",
      " 1190  Unnamed: 1190               object \n",
      " 1191  Unnamed: 1191               object \n",
      " 1192  Unnamed: 1192               object \n",
      " 1193  Unnamed: 1193               object \n",
      " 1194  Unnamed: 1194               object \n",
      " 1195  Unnamed: 1195               object \n",
      " 1196  Unnamed: 1196               object \n",
      " 1197  Unnamed: 1197               object \n",
      " 1198  Unnamed: 1198               object \n",
      " 1199  Unnamed: 1199               object \n",
      " 1200  Unnamed: 1200               object \n",
      " 1201  Unnamed: 1201               object \n",
      " 1202  Unnamed: 1202               float64\n",
      " 1203  Unnamed: 1203               float64\n",
      " 1204  Unnamed: 1204               object \n",
      " 1205  Unnamed: 1205               float64\n",
      " 1206  Unnamed: 1206               float64\n",
      " 1207  Unnamed: 1207               object \n",
      " 1208  Unnamed: 1208               object \n",
      " 1209  Unnamed: 1209               object \n",
      " 1210  Unnamed: 1210               object \n",
      " 1211  Unnamed: 1211               object \n",
      " 1212  Unnamed: 1212               object \n",
      " 1213  Unnamed: 1213               object \n",
      " 1214  Unnamed: 1214               object \n",
      " 1215  Unnamed: 1215               object \n",
      " 1216  Unnamed: 1216               object \n",
      " 1217  Unnamed: 1217               object \n",
      " 1218  Unnamed: 1218               object \n",
      " 1219  Unnamed: 1219               object \n",
      " 1220  Unnamed: 1220               object \n",
      " 1221  Unnamed: 1221               object \n",
      " 1222  Unnamed: 1222               object \n",
      " 1223  Unnamed: 1223               float64\n",
      " 1224  Unnamed: 1224               float64\n",
      " 1225  Unnamed: 1225               object \n",
      " 1226  Unnamed: 1226               object \n",
      " 1227  Unnamed: 1227               object \n",
      " 1228  Unnamed: 1228               object \n",
      " 1229  Unnamed: 1229               object \n",
      " 1230  Unnamed: 1230               object \n",
      " 1231  Unnamed: 1231               object \n",
      " 1232  Unnamed: 1232               object \n",
      " 1233  Unnamed: 1233               object \n",
      " 1234  Unnamed: 1234               object \n",
      " 1235  Unnamed: 1235               object \n",
      " 1236  Unnamed: 1236               object \n",
      " 1237  Unnamed: 1237               object \n",
      " 1238  Unnamed: 1238               object \n",
      " 1239  Unnamed: 1239               object \n",
      " 1240  Unnamed: 1240               object \n",
      " 1241  Unnamed: 1241               object \n",
      " 1242  Unnamed: 1242               object \n",
      " 1243  Unnamed: 1243               object \n",
      " 1244  Unnamed: 1244               object \n",
      " 1245  Unnamed: 1245               object \n",
      " 1246  Unnamed: 1246               object \n",
      " 1247  Unnamed: 1247               object \n",
      " 1248  Unnamed: 1248               object \n",
      " 1249  Unnamed: 1249               object \n",
      " 1250  Unnamed: 1250               object \n",
      " 1251  Unnamed: 1251               object \n",
      " 1252  Unnamed: 1252               object \n",
      " 1253  Unnamed: 1253               object \n",
      " 1254  Unnamed: 1254               object \n",
      " 1255  Unnamed: 1255               object \n",
      " 1256  Unnamed: 1256               object \n",
      " 1257  Unnamed: 1257               object \n",
      " 1258  Unnamed: 1258               object \n",
      " 1259  Unnamed: 1259               object \n",
      " 1260  Unnamed: 1260               object \n",
      " 1261  Unnamed: 1261               object \n",
      " 1262  Unnamed: 1262               object \n",
      " 1263  Unnamed: 1263               object \n",
      " 1264  Unnamed: 1264               object \n",
      " 1265  Unnamed: 1265               float64\n",
      " 1266  Unnamed: 1266               float64\n",
      " 1267  Unnamed: 1267               object \n",
      " 1268  Unnamed: 1268               object \n",
      " 1269  Unnamed: 1269               object \n",
      " 1270  Unnamed: 1270               object \n",
      " 1271  Unnamed: 1271               object \n",
      " 1272  Unnamed: 1272               object \n",
      " 1273  Unnamed: 1273               object \n",
      " 1274  Unnamed: 1274               object \n",
      " 1275  Unnamed: 1275               object \n",
      " 1276  Unnamed: 1276               object \n",
      " 1277  Unnamed: 1277               object \n",
      " 1278  Unnamed: 1278               object \n",
      " 1279  Unnamed: 1279               object \n",
      " 1280  Unnamed: 1280               float64\n",
      " 1281  Unnamed: 1281               float64\n",
      " 1282  Unnamed: 1282               object \n",
      " 1283  Unnamed: 1283               float64\n",
      " 1284  Unnamed: 1284               float64\n",
      " 1285  Unnamed: 1285               object \n",
      " 1286  Unnamed: 1286               object \n",
      " 1287  Unnamed: 1287               object \n",
      " 1288  Unnamed: 1288               object \n",
      " 1289  Unnamed: 1289               object \n",
      " 1290  Unnamed: 1290               object \n",
      " 1291  Unnamed: 1291               object \n",
      " 1292  Unnamed: 1292               object \n",
      " 1293  Unnamed: 1293               object \n",
      " 1294  Unnamed: 1294               object \n",
      " 1295  Unnamed: 1295               object \n",
      " 1296  Unnamed: 1296               object \n",
      " 1297  Unnamed: 1297               float64\n",
      " 1298  Unnamed: 1298               float64\n",
      " 1299  Unnamed: 1299               object \n",
      " 1300  Unnamed: 1300               object \n",
      " 1301  Unnamed: 1301               object \n",
      " 1302  Unnamed: 1302               object \n",
      " 1303  Unnamed: 1303               object \n",
      " 1304  Unnamed: 1304               object \n",
      " 1305  Unnamed: 1305               object \n",
      " 1306  Unnamed: 1306               object \n",
      " 1307  Unnamed: 1307               object \n",
      " 1308  Unnamed: 1308               object \n",
      " 1309  Unnamed: 1309               object \n",
      " 1310  Unnamed: 1310               object \n",
      " 1311  Unnamed: 1311               float64\n",
      " 1312  Unnamed: 1312               float64\n",
      " 1313  Unnamed: 1313               object \n",
      " 1314  Unnamed: 1314               object \n",
      " 1315  Unnamed: 1315               object \n",
      " 1316  Unnamed: 1316               object \n",
      " 1317  Unnamed: 1317               object \n",
      " 1318  Unnamed: 1318               object \n",
      " 1319  Unnamed: 1319               object \n",
      " 1320  Unnamed: 1320               object \n",
      " 1321  Unnamed: 1321               object \n",
      " 1322  Unnamed: 1322               object \n",
      " 1323  Unnamed: 1323               float64\n",
      " 1324  Unnamed: 1324               float64\n",
      " 1325  Unnamed: 1325               object \n",
      " 1326  Unnamed: 1326               float64\n",
      " 1327  Unnamed: 1327               float64\n",
      " 1328  Unnamed: 1328               object \n",
      " 1329  Unnamed: 1329               object \n",
      " 1330  Unnamed: 1330               object \n",
      " 1331  Unnamed: 1331               object \n",
      " 1332  Unnamed: 1332               object \n",
      " 1333  Unnamed: 1333               object \n",
      " 1334  Unnamed: 1334               object \n",
      " 1335  Unnamed: 1335               object \n",
      " 1336  Unnamed: 1336               object \n",
      " 1337  Unnamed: 1337               float64\n",
      " 1338  Unnamed: 1338               float64\n",
      " 1339  Unnamed: 1339               object \n",
      " 1340  Unnamed: 1340               float64\n",
      " 1341  Unnamed: 1341               float64\n",
      " 1342  Unnamed: 1342               object \n",
      " 1343  Unnamed: 1343               object \n",
      " 1344  Unnamed: 1344               object \n",
      " 1345  Unnamed: 1345               object \n",
      " 1346  Unnamed: 1346               object \n",
      " 1347  Unnamed: 1347               object \n",
      " 1348  Unnamed: 1348               object \n",
      " 1349  Unnamed: 1349               object \n",
      " 1350  Unnamed: 1350               object \n",
      " 1351  Unnamed: 1351               object \n",
      " 1352  Unnamed: 1352               float64\n",
      " 1353  Unnamed: 1353               float64\n",
      " 1354  Unnamed: 1354               object \n",
      " 1355  Unnamed: 1355               float64\n",
      " 1356  Unnamed: 1356               float64\n",
      " 1357  Unnamed: 1357               object \n",
      " 1358  Unnamed: 1358               object \n",
      " 1359  Unnamed: 1359               object \n",
      " 1360  Unnamed: 1360               object \n",
      " 1361  Unnamed: 1361               object \n",
      " 1362  Unnamed: 1362               object \n",
      " 1363  Unnamed: 1363               object \n",
      " 1364  Unnamed: 1364               object \n",
      " 1365  Unnamed: 1365               object \n",
      " 1366  Unnamed: 1366               float64\n",
      " 1367  Unnamed: 1367               float64\n",
      " 1368  Unnamed: 1368               object \n",
      " 1369  Unnamed: 1369               object \n",
      " 1370  Unnamed: 1370               object \n",
      " 1371  Unnamed: 1371               object \n",
      " 1372  Unnamed: 1372               object \n",
      " 1373  Unnamed: 1373               object \n",
      " 1374  Unnamed: 1374               object \n",
      " 1375  Unnamed: 1375               float64\n",
      " 1376  Unnamed: 1376               object \n",
      " 1377  Unnamed: 1377               object \n",
      " 1378  Unnamed: 1378               object \n",
      " 1379  Unnamed: 1379               object \n",
      " 1380  Unnamed: 1380               object \n",
      " 1381  Unnamed: 1381               object \n",
      " 1382  Unnamed: 1382               object \n",
      " 1383  Unnamed: 1383               object \n",
      " 1384  Unnamed: 1384               object \n",
      " 1385  Unnamed: 1385               object \n",
      " 1386  Unnamed: 1386               object \n",
      " 1387  Unnamed: 1387               object \n",
      " 1388  Unnamed: 1388               object \n",
      " 1389  Unnamed: 1389               object \n",
      " 1390  Unnamed: 1390               object \n",
      " 1391  Unnamed: 1391               object \n",
      " 1392  Unnamed: 1392               object \n",
      " 1393  Unnamed: 1393               object \n",
      " 1394  Unnamed: 1394               object \n",
      " 1395  Unnamed: 1395               object \n",
      " 1396  Unnamed: 1396               object \n",
      " 1397  Unnamed: 1397               object \n",
      " 1398  Unnamed: 1398               object \n",
      " 1399  Unnamed: 1399               object \n",
      " 1400  Unnamed: 1400               object \n",
      " 1401  Unnamed: 1401               object \n",
      " 1402  Unnamed: 1402               object \n",
      " 1403  Unnamed: 1403               object \n",
      " 1404  Unnamed: 1404               object \n",
      " 1405  Unnamed: 1405               object \n",
      " 1406  Unnamed: 1406               object \n",
      " 1407  Unnamed: 1407               object \n",
      " 1408  Unnamed: 1408               object \n",
      " 1409  Unnamed: 1409               object \n",
      " 1410  Unnamed: 1410               object \n",
      " 1411  Unnamed: 1411               object \n",
      " 1412  Unnamed: 1412               object \n",
      " 1413  Unnamed: 1413               object \n",
      " 1414  Unnamed: 1414               object \n",
      " 1415  Unnamed: 1415               object \n",
      " 1416  Unnamed: 1416               object \n",
      " 1417  Unnamed: 1417               object \n",
      " 1418  Unnamed: 1418               object \n",
      " 1419  Unnamed: 1419               object \n",
      " 1420  Unnamed: 1420               object \n",
      " 1421  Unnamed: 1421               object \n",
      " 1422  Unnamed: 1422               object \n",
      " 1423  Unnamed: 1423               object \n",
      " 1424  Unnamed: 1424               object \n",
      " 1425  Unnamed: 1425               object \n",
      " 1426  Unnamed: 1426               object \n",
      " 1427  Unnamed: 1427               object \n",
      " 1428  Unnamed: 1428               object \n",
      " 1429  Unnamed: 1429               object \n",
      " 1430  Unnamed: 1430               object \n",
      " 1431  Unnamed: 1431               object \n",
      " 1432  Unnamed: 1432               object \n",
      " 1433  Unnamed: 1433               object \n",
      " 1434  Unnamed: 1434               object \n",
      " 1435  Unnamed: 1435               object \n",
      " 1436  Unnamed: 1436               object \n",
      " 1437  Unnamed: 1437               object \n",
      " 1438  Unnamed: 1438               object \n",
      " 1439  Unnamed: 1439               object \n",
      " 1440  Unnamed: 1440               object \n",
      " 1441  Unnamed: 1441               object \n",
      " 1442  Unnamed: 1442               object \n",
      " 1443  Unnamed: 1443               object \n",
      " 1444  Unnamed: 1444               object \n",
      " 1445  Unnamed: 1445               object \n",
      " 1446  Unnamed: 1446               object \n",
      " 1447  Unnamed: 1447               object \n",
      " 1448  Unnamed: 1448               object \n",
      " 1449  Unnamed: 1449               object \n",
      " 1450  Unnamed: 1450               object \n",
      " 1451  Unnamed: 1451               object \n",
      " 1452  Unnamed: 1452               object \n",
      " 1453  Unnamed: 1453               object \n",
      " 1454  Unnamed: 1454               object \n",
      " 1455  Unnamed: 1455               object \n",
      " 1456  Unnamed: 1456               object \n",
      " 1457  Unnamed: 1457               object \n",
      " 1458  Unnamed: 1458               object \n",
      " 1459  Unnamed: 1459               object \n",
      " 1460  Unnamed: 1460               object \n",
      " 1461  Unnamed: 1461               object \n",
      " 1462  Unnamed: 1462               object \n",
      " 1463  Unnamed: 1463               object \n",
      " 1464  Unnamed: 1464               object \n",
      " 1465  Unnamed: 1465               object \n",
      " 1466  Unnamed: 1466               object \n",
      " 1467  Unnamed: 1467               object \n",
      " 1468  Unnamed: 1468               object \n",
      " 1469  Unnamed: 1469               object \n",
      " 1470  Unnamed: 1470               object \n",
      " 1471  Unnamed: 1471               object \n",
      " 1472  Unnamed: 1472               object \n",
      " 1473  Unnamed: 1473               object \n",
      " 1474  Unnamed: 1474               float64\n",
      " 1475  Unnamed: 1475               float64\n",
      " 1476  Unnamed: 1476               object \n",
      " 1477  Unnamed: 1477               object \n",
      " 1478  Unnamed: 1478               object \n",
      " 1479  Unnamed: 1479               object \n",
      " 1480  Unnamed: 1480               object \n",
      " 1481  Unnamed: 1481               object \n",
      " 1482  Unnamed: 1482               object \n",
      " 1483  Unnamed: 1483               object \n",
      " 1484  Unnamed: 1484               object \n",
      " 1485  Unnamed: 1485               object \n",
      " 1486  Unnamed: 1486               object \n",
      " 1487  Unnamed: 1487               object \n",
      " 1488  Unnamed: 1488               float64\n",
      " 1489  Unnamed: 1489               float64\n",
      " 1490  Unnamed: 1490               object \n",
      " 1491  Unnamed: 1491               float64\n",
      " 1492  Unnamed: 1492               float64\n",
      " 1493  Unnamed: 1493               object \n",
      " 1494  Unnamed: 1494               object \n",
      " 1495  Unnamed: 1495               object \n",
      " 1496  Unnamed: 1496               object \n",
      " 1497  Unnamed: 1497               object \n",
      " 1498  Unnamed: 1498               object \n",
      " 1499  Unnamed: 1499               object \n",
      " 1500  Unnamed: 1500               object \n",
      " 1501  Unnamed: 1501               object \n",
      " 1502  Unnamed: 1502               object \n",
      " 1503  Unnamed: 1503               float64\n",
      " 1504  Unnamed: 1504               float64\n",
      " 1505  Unnamed: 1505               object \n",
      " 1506  Unnamed: 1506               object \n",
      " 1507  Unnamed: 1507               object \n",
      " 1508  Unnamed: 1508               object \n",
      " 1509  Unnamed: 1509               object \n",
      " 1510  Unnamed: 1510               object \n",
      " 1511  Unnamed: 1511               object \n",
      " 1512  Unnamed: 1512               object \n",
      " 1513  Unnamed: 1513               object \n",
      " 1514  Unnamed: 1514               object \n",
      " 1515  Unnamed: 1515               object \n",
      " 1516  Unnamed: 1516               object \n",
      " 1517  Unnamed: 1517               object \n",
      " 1518  Unnamed: 1518               object \n",
      " 1519  Unnamed: 1519               object \n",
      " 1520  Unnamed: 1520               object \n",
      " 1521  Unnamed: 1521               object \n",
      " 1522  Unnamed: 1522               object \n",
      " 1523  Unnamed: 1523               object \n",
      " 1524  Unnamed: 1524               object \n",
      " 1525  Unnamed: 1525               object \n",
      " 1526  Unnamed: 1526               object \n",
      " 1527  Unnamed: 1527               object \n",
      " 1528  Unnamed: 1528               object \n",
      " 1529  Unnamed: 1529               object \n",
      " 1530  Unnamed: 1530               object \n",
      " 1531  Unnamed: 1531               object \n",
      " 1532  Unnamed: 1532               object \n",
      " 1533  Unnamed: 1533               object \n",
      " 1534  Unnamed: 1534               object \n",
      " 1535  Unnamed: 1535               object \n",
      " 1536  Unnamed: 1536               object \n",
      " 1537  Unnamed: 1537               object \n",
      " 1538  Unnamed: 1538               object \n",
      " 1539  Unnamed: 1539               object \n",
      " 1540  Unnamed: 1540               object \n",
      " 1541  Unnamed: 1541               object \n",
      " 1542  Unnamed: 1542               object \n",
      " 1543  Unnamed: 1543               object \n",
      " 1544  Unnamed: 1544               object \n",
      " 1545  Unnamed: 1545               object \n",
      " 1546  Unnamed: 1546               object \n",
      " 1547  Unnamed: 1547               object \n",
      " 1548  Unnamed: 1548               object \n",
      " 1549  Unnamed: 1549               object \n",
      " 1550  Unnamed: 1550               object \n",
      " 1551  Unnamed: 1551               object \n",
      " 1552  Unnamed: 1552               object \n",
      " 1553  Unnamed: 1553               object \n",
      " 1554  Unnamed: 1554               object \n",
      " 1555  Unnamed: 1555               object \n",
      " 1556  Unnamed: 1556               object \n",
      " 1557  Unnamed: 1557               object \n",
      " 1558  Unnamed: 1558               object \n",
      " 1559  Unnamed: 1559               object \n",
      " 1560  Unnamed: 1560               object \n",
      " 1561  Unnamed: 1561               object \n",
      " 1562  Unnamed: 1562               object \n",
      " 1563  Unnamed: 1563               object \n",
      " 1564  Unnamed: 1564               object \n",
      " 1565  Unnamed: 1565               object \n",
      " 1566  Unnamed: 1566               object \n",
      " 1567  Unnamed: 1567               object \n",
      " 1568  Unnamed: 1568               object \n",
      " 1569  Unnamed: 1569               object \n",
      " 1570  Unnamed: 1570               object \n",
      " 1571  Unnamed: 1571               object \n",
      " 1572  Unnamed: 1572               object \n",
      " 1573  Unnamed: 1573               object \n",
      " 1574  Unnamed: 1574               object \n",
      " 1575  Unnamed: 1575               object \n",
      " 1576  Unnamed: 1576               object \n",
      " 1577  Unnamed: 1577               object \n",
      " 1578  Unnamed: 1578               object \n",
      " 1579  Unnamed: 1579               object \n",
      " 1580  Unnamed: 1580               object \n",
      " 1581  Unnamed: 1581               object \n",
      " 1582  Unnamed: 1582               object \n",
      " 1583  Unnamed: 1583               object \n",
      " 1584  Unnamed: 1584               object \n",
      " 1585  Unnamed: 1585               object \n",
      " 1586  Unnamed: 1586               object \n",
      " 1587  Unnamed: 1587               object \n",
      " 1588  Unnamed: 1588               object \n",
      " 1589  Unnamed: 1589               object \n",
      " 1590  Unnamed: 1590               object \n",
      " 1591  Unnamed: 1591               object \n",
      " 1592  Unnamed: 1592               object \n",
      " 1593  Unnamed: 1593               object \n",
      " 1594  Unnamed: 1594               object \n",
      " 1595  Unnamed: 1595               object \n",
      " 1596  Unnamed: 1596               object \n",
      " 1597  Unnamed: 1597               object \n",
      " 1598  Unnamed: 1598               object \n",
      " 1599  Unnamed: 1599               object \n",
      " 1600  Unnamed: 1600               object \n",
      " 1601  Unnamed: 1601               object \n",
      " 1602  Unnamed: 1602               object \n",
      " 1603  Unnamed: 1603               object \n",
      " 1604  Unnamed: 1604               object \n",
      " 1605  Unnamed: 1605               object \n",
      " 1606  Unnamed: 1606               object \n",
      " 1607  Unnamed: 1607               object \n",
      " 1608  Unnamed: 1608               object \n",
      " 1609  Unnamed: 1609               object \n",
      " 1610  Unnamed: 1610               object \n",
      " 1611  Unnamed: 1611               object \n",
      " 1612  Unnamed: 1612               object \n",
      " 1613  Unnamed: 1613               object \n",
      " 1614  Unnamed: 1614               object \n",
      " 1615  Unnamed: 1615               object \n",
      " 1616  Unnamed: 1616               object \n",
      " 1617  Unnamed: 1617               object \n",
      " 1618  Unnamed: 1618               object \n",
      " 1619  Unnamed: 1619               object \n",
      " 1620  Unnamed: 1620               object \n",
      " 1621  Unnamed: 1621               object \n",
      " 1622  Unnamed: 1622               object \n",
      " 1623  Unnamed: 1623               object \n",
      " 1624  Unnamed: 1624               object \n",
      " 1625  Unnamed: 1625               object \n",
      " 1626  Unnamed: 1626               object \n",
      " 1627  Unnamed: 1627               object \n",
      " 1628  Unnamed: 1628               object \n",
      " 1629  Unnamed: 1629               object \n",
      " 1630  Unnamed: 1630               object \n",
      " 1631  Unnamed: 1631               object \n",
      " 1632  Unnamed: 1632               object \n",
      " 1633  Unnamed: 1633               object \n",
      " 1634  Unnamed: 1634               object \n",
      " 1635  Unnamed: 1635               object \n",
      " 1636  Unnamed: 1636               object \n",
      " 1637  Unnamed: 1637               object \n",
      " 1638  Unnamed: 1638               object \n",
      " 1639  Unnamed: 1639               object \n",
      " 1640  Unnamed: 1640               object \n",
      " 1641  Unnamed: 1641               object \n",
      " 1642  Unnamed: 1642               object \n",
      " 1643  Unnamed: 1643               object \n",
      " 1644  Unnamed: 1644               object \n",
      " 1645  Unnamed: 1645               object \n",
      " 1646  Unnamed: 1646               object \n",
      " 1647  Unnamed: 1647               object \n",
      " 1648  Unnamed: 1648               object \n",
      " 1649  Unnamed: 1649               object \n",
      " 1650  Unnamed: 1650               object \n",
      " 1651  Unnamed: 1651               object \n",
      " 1652  Unnamed: 1652               object \n",
      " 1653  Unnamed: 1653               object \n",
      " 1654  Unnamed: 1654               object \n",
      " 1655  Unnamed: 1655               object \n",
      " 1656  Unnamed: 1656               object \n",
      " 1657  Unnamed: 1657               object \n",
      " 1658  Unnamed: 1658               float64\n",
      " 1659  Unnamed: 1659               object \n",
      " 1660  Unnamed: 1660               object \n",
      " 1661  Unnamed: 1661               object \n",
      " 1662  Unnamed: 1662               object \n",
      " 1663  Unnamed: 1663               object \n",
      " 1664  Unnamed: 1664               object \n",
      " 1665  Unnamed: 1665               object \n",
      " 1666  Unnamed: 1666               object \n",
      " 1667  Unnamed: 1667               object \n",
      " 1668  Unnamed: 1668               object \n",
      " 1669  Unnamed: 1669               object \n",
      " 1670  Unnamed: 1670               object \n",
      " 1671  Unnamed: 1671               object \n",
      " 1672  Unnamed: 1672               object \n",
      " 1673  Unnamed: 1673               object \n",
      " 1674  Unnamed: 1674               object \n",
      " 1675  Unnamed: 1675               object \n",
      " 1676  Unnamed: 1676               object \n",
      " 1677  Unnamed: 1677               object \n",
      " 1678  Unnamed: 1678               object \n",
      " 1679  Unnamed: 1679               object \n",
      " 1680  Unnamed: 1680               object \n",
      " 1681  Unnamed: 1681               object \n",
      " 1682  Unnamed: 1682               object \n",
      " 1683  Unnamed: 1683               object \n",
      " 1684  Unnamed: 1684               object \n",
      " 1685  Unnamed: 1685               object \n",
      " 1686  Unnamed: 1686               object \n",
      " 1687  Unnamed: 1687               object \n",
      " 1688  Unnamed: 1688               object \n",
      " 1689  Unnamed: 1689               object \n",
      " 1690  Unnamed: 1690               object \n",
      " 1691  Unnamed: 1691               object \n",
      " 1692  Unnamed: 1692               object \n",
      " 1693  Unnamed: 1693               object \n",
      " 1694  Unnamed: 1694               object \n",
      " 1695  Unnamed: 1695               object \n",
      " 1696  Unnamed: 1696               object \n",
      " 1697  Unnamed: 1697               object \n",
      " 1698  Unnamed: 1698               object \n",
      " 1699  Unnamed: 1699               object \n",
      " 1700  Unnamed: 1700               object \n",
      " 1701  Unnamed: 1701               object \n",
      " 1702  Unnamed: 1702               object \n",
      " 1703  Unnamed: 1703               object \n",
      " 1704  Unnamed: 1704               object \n",
      " 1705  Unnamed: 1705               object \n",
      " 1706  Unnamed: 1706               object \n",
      " 1707  Unnamed: 1707               object \n",
      " 1708  Unnamed: 1708               object \n",
      " 1709  Unnamed: 1709               object \n",
      " 1710  Unnamed: 1710               object \n",
      " 1711  Unnamed: 1711               object \n",
      " 1712  Unnamed: 1712               object \n",
      " 1713  Unnamed: 1713               object \n",
      " 1714  Unnamed: 1714               object \n",
      " 1715  Unnamed: 1715               object \n",
      " 1716  Unnamed: 1716               object \n",
      " 1717  Unnamed: 1717               object \n",
      " 1718  Unnamed: 1718               object \n",
      " 1719  Unnamed: 1719               object \n",
      " 1720  Unnamed: 1720               object \n",
      " 1721  Unnamed: 1721               object \n",
      " 1722  Unnamed: 1722               object \n",
      " 1723  Unnamed: 1723               object \n",
      " 1724  Unnamed: 1724               object \n",
      " 1725  Unnamed: 1725               object \n",
      " 1726  Unnamed: 1726               object \n",
      " 1727  Unnamed: 1727               object \n",
      " 1728  Unnamed: 1728               object \n",
      " 1729  Unnamed: 1729               object \n",
      " 1730  Unnamed: 1730               object \n",
      " 1731  Unnamed: 1731               object \n",
      " 1732  Unnamed: 1732               object \n",
      " 1733  Unnamed: 1733               object \n",
      " 1734  Unnamed: 1734               object \n",
      " 1735  Unnamed: 1735               object \n",
      " 1736  Unnamed: 1736               object \n",
      " 1737  Unnamed: 1737               object \n",
      " 1738  Unnamed: 1738               object \n",
      " 1739  Unnamed: 1739               object \n",
      " 1740  Unnamed: 1740               object \n",
      " 1741  Unnamed: 1741               object \n",
      " 1742  Unnamed: 1742               object \n",
      " 1743  Unnamed: 1743               object \n",
      " 1744  Unnamed: 1744               object \n",
      " 1745  Unnamed: 1745               object \n",
      " 1746  Unnamed: 1746               object \n",
      " 1747  Unnamed: 1747               object \n",
      " 1748  Unnamed: 1748               object \n",
      " 1749  Unnamed: 1749               object \n",
      " 1750  Unnamed: 1750               object \n",
      " 1751  Unnamed: 1751               object \n",
      " 1752  Unnamed: 1752               object \n",
      " 1753  Unnamed: 1753               object \n",
      " 1754  Unnamed: 1754               object \n",
      " 1755  Unnamed: 1755               object \n",
      " 1756  Unnamed: 1756               object \n",
      " 1757  Unnamed: 1757               object \n",
      " 1758  Unnamed: 1758               object \n",
      " 1759  Unnamed: 1759               object \n",
      " 1760  Unnamed: 1760               object \n",
      " 1761  Unnamed: 1761               object \n",
      " 1762  Unnamed: 1762               object \n",
      " 1763  Unnamed: 1763               object \n",
      " 1764  Unnamed: 1764               object \n",
      " 1765  Unnamed: 1765               object \n",
      " 1766  Unnamed: 1766               object \n",
      " 1767  Unnamed: 1767               object \n",
      " 1768  Unnamed: 1768               object \n",
      " 1769  Unnamed: 1769               object \n",
      " 1770  Unnamed: 1770               object \n",
      " 1771  Unnamed: 1771               object \n",
      " 1772  Unnamed: 1772               object \n",
      " 1773  Unnamed: 1773               object \n",
      " 1774  Unnamed: 1774               object \n",
      " 1775  Unnamed: 1775               object \n",
      " 1776  Unnamed: 1776               object \n",
      " 1777  Unnamed: 1777               object \n",
      " 1778  Unnamed: 1778               object \n",
      " 1779  Unnamed: 1779               object \n",
      " 1780  Unnamed: 1780               object \n",
      " 1781  Unnamed: 1781               object \n",
      " 1782  Unnamed: 1782               object \n",
      " 1783  Unnamed: 1783               object \n",
      " 1784  Unnamed: 1784               object \n",
      " 1785  Unnamed: 1785               object \n",
      " 1786  Unnamed: 1786               object \n",
      " 1787  Unnamed: 1787               object \n",
      " 1788  Unnamed: 1788               object \n",
      " 1789  Unnamed: 1789               object \n",
      " 1790  Unnamed: 1790               object \n",
      " 1791  Unnamed: 1791               object \n",
      " 1792  Unnamed: 1792               object \n",
      " 1793  Unnamed: 1793               object \n",
      " 1794  Unnamed: 1794               object \n",
      " 1795  Unnamed: 1795               object \n",
      " 1796  Unnamed: 1796               object \n",
      " 1797  Unnamed: 1797               object \n",
      " 1798  Unnamed: 1798               object \n",
      " 1799  Unnamed: 1799               object \n",
      " 1800  Unnamed: 1800               object \n",
      " 1801  Unnamed: 1801               object \n",
      " 1802  Unnamed: 1802               object \n",
      " 1803  Unnamed: 1803               object \n",
      " 1804  Unnamed: 1804               object \n",
      " 1805  Unnamed: 1805               object \n",
      " 1806  Unnamed: 1806               object \n",
      " 1807  Unnamed: 1807               object \n",
      " 1808  Unnamed: 1808               object \n",
      " 1809  Unnamed: 1809               object \n",
      " 1810  Unnamed: 1810               object \n",
      " 1811  Unnamed: 1811               object \n",
      " 1812  Unnamed: 1812               object \n",
      " 1813  Unnamed: 1813               object \n",
      " 1814  Unnamed: 1814               object \n",
      " 1815  Unnamed: 1815               object \n",
      " 1816  Unnamed: 1816               object \n",
      " 1817  Unnamed: 1817               object \n",
      " 1818  Unnamed: 1818               object \n",
      " 1819  Unnamed: 1819               object \n",
      " 1820  Unnamed: 1820               object \n",
      " 1821  Unnamed: 1821               object \n",
      " 1822  Unnamed: 1822               object \n",
      " 1823  Unnamed: 1823               object \n",
      " 1824  Unnamed: 1824               object \n",
      " 1825  Unnamed: 1825               object \n",
      " 1826  Unnamed: 1826               object \n",
      " 1827  Unnamed: 1827               object \n",
      " 1828  Unnamed: 1828               object \n",
      " 1829  Unnamed: 1829               object \n",
      " 1830  Unnamed: 1830               object \n",
      " 1831  Unnamed: 1831               object \n",
      " 1832  Unnamed: 1832               object \n",
      " 1833  Unnamed: 1833               object \n",
      " 1834  Unnamed: 1834               object \n",
      " 1835  Unnamed: 1835               object \n",
      " 1836  Unnamed: 1836               object \n",
      " 1837  Unnamed: 1837               object \n",
      " 1838  Unnamed: 1838               object \n",
      " 1839  Unnamed: 1839               object \n",
      " 1840  Unnamed: 1840               object \n",
      " 1841  Unnamed: 1841               object \n",
      " 1842  Unnamed: 1842               object \n",
      " 1843  Unnamed: 1843               object \n",
      " 1844  Unnamed: 1844               object \n",
      " 1845  Unnamed: 1845               object \n",
      " 1846  Unnamed: 1846               object \n",
      " 1847  Unnamed: 1847               object \n",
      " 1848  Unnamed: 1848               object \n",
      " 1849  Unnamed: 1849               object \n",
      " 1850  Unnamed: 1850               object \n",
      " 1851  Unnamed: 1851               object \n",
      " 1852  Unnamed: 1852               object \n",
      " 1853  Unnamed: 1853               object \n",
      " 1854  Unnamed: 1854               object \n",
      " 1855  Unnamed: 1855               object \n",
      " 1856  Unnamed: 1856               object \n",
      " 1857  Unnamed: 1857               float64\n",
      " 1858  Unnamed: 1858               object \n",
      " 1859  Unnamed: 1859               object \n",
      " 1860  Unnamed: 1860               object \n",
      " 1861  Unnamed: 1861               object \n",
      " 1862  Unnamed: 1862               float64\n",
      " 1863  Unnamed: 1863               object \n",
      " 1864  Unnamed: 1864               object \n",
      " 1865  Unnamed: 1865               object \n",
      " 1866  Unnamed: 1866               object \n",
      " 1867  Unnamed: 1867               object \n",
      " 1868  Unnamed: 1868               object \n",
      " 1869  Unnamed: 1869               object \n",
      " 1870  Unnamed: 1870               object \n",
      " 1871  Unnamed: 1871               object \n",
      " 1872  Unnamed: 1872               object \n",
      " 1873  Unnamed: 1873               object \n",
      " 1874  Unnamed: 1874               object \n",
      " 1875  Unnamed: 1875               object \n",
      " 1876  Unnamed: 1876               object \n",
      " 1877  Unnamed: 1877               object \n",
      " 1878  Unnamed: 1878               object \n",
      " 1879  Unnamed: 1879               object \n",
      " 1880  Unnamed: 1880               object \n",
      " 1881  Unnamed: 1881               object \n",
      " 1882  Unnamed: 1882               object \n",
      " 1883  Unnamed: 1883               object \n",
      " 1884  Unnamed: 1884               object \n",
      " 1885  Unnamed: 1885               object \n",
      " 1886  Unnamed: 1886               object \n",
      " 1887  Unnamed: 1887               object \n",
      " 1888  Unnamed: 1888               object \n",
      " 1889  Unnamed: 1889               object \n",
      " 1890  Unnamed: 1890               object \n",
      " 1891  Unnamed: 1891               object \n",
      " 1892  Unnamed: 1892               object \n",
      " 1893  Unnamed: 1893               object \n",
      " 1894  Unnamed: 1894               object \n",
      " 1895  Unnamed: 1895               object \n",
      " 1896  Unnamed: 1896               object \n",
      " 1897  Unnamed: 1897               object \n",
      " 1898  Unnamed: 1898               object \n",
      " 1899  Unnamed: 1899               object \n",
      " 1900  Unnamed: 1900               object \n",
      " 1901  Unnamed: 1901               object \n",
      " 1902  Unnamed: 1902               object \n",
      " 1903  Unnamed: 1903               object \n",
      " 1904  Unnamed: 1904               object \n",
      " 1905  Unnamed: 1905               object \n",
      " 1906  Unnamed: 1906               object \n",
      " 1907  Unnamed: 1907               object \n",
      " 1908  Unnamed: 1908               object \n",
      " 1909  Unnamed: 1909               object \n",
      " 1910  Unnamed: 1910               object \n",
      " 1911  Unnamed: 1911               object \n",
      " 1912  Unnamed: 1912               object \n",
      " 1913  Unnamed: 1913               object \n",
      " 1914  Unnamed: 1914               object \n",
      " 1915  Unnamed: 1915               object \n",
      " 1916  Unnamed: 1916               object \n",
      " 1917  Unnamed: 1917               object \n",
      " 1918  Unnamed: 1918               object \n",
      " 1919  Unnamed: 1919               object \n",
      " 1920  Unnamed: 1920               object \n",
      " 1921  Unnamed: 1921               object \n",
      " 1922  Unnamed: 1922               object \n",
      " 1923  Unnamed: 1923               object \n",
      " 1924  Unnamed: 1924               object \n",
      " 1925  Unnamed: 1925               object \n",
      " 1926  Unnamed: 1926               object \n",
      " 1927  Unnamed: 1927               object \n",
      " 1928  Unnamed: 1928               object \n",
      " 1929  Unnamed: 1929               object \n",
      " 1930  Unnamed: 1930               object \n",
      " 1931  Unnamed: 1931               object \n",
      " 1932  Unnamed: 1932               object \n",
      " 1933  Unnamed: 1933               object \n",
      " 1934  Unnamed: 1934               object \n",
      " 1935  Unnamed: 1935               object \n",
      " 1936  Unnamed: 1936               object \n",
      " 1937  Unnamed: 1937               object \n",
      " 1938  Unnamed: 1938               object \n",
      " 1939  Unnamed: 1939               object \n",
      " 1940  Unnamed: 1940               object \n",
      " 1941  Unnamed: 1941               object \n",
      " 1942  Unnamed: 1942               object \n",
      " 1943  Unnamed: 1943               object \n",
      " 1944  Unnamed: 1944               object \n",
      " 1945  Unnamed: 1945               object \n",
      " 1946  Unnamed: 1946               object \n",
      " 1947  Unnamed: 1947               object \n",
      " 1948  Unnamed: 1948               object \n",
      " 1949  Unnamed: 1949               object \n",
      " 1950  Unnamed: 1950               object \n",
      " 1951  Unnamed: 1951               object \n",
      " 1952  Unnamed: 1952               object \n",
      " 1953  Unnamed: 1953               object \n",
      " 1954  Unnamed: 1954               object \n",
      " 1955  Unnamed: 1955               object \n",
      " 1956  Unnamed: 1956               object \n",
      " 1957  Unnamed: 1957               object \n",
      " 1958  Unnamed: 1958               object \n",
      " 1959  Unnamed: 1959               object \n",
      " 1960  Unnamed: 1960               object \n",
      " 1961  Unnamed: 1961               object \n",
      " 1962  Unnamed: 1962               object \n",
      " 1963  Unnamed: 1963               object \n",
      " 1964  Unnamed: 1964               object \n",
      " 1965  Unnamed: 1965               object \n",
      " 1966  Unnamed: 1966               object \n",
      " 1967  Unnamed: 1967               object \n",
      " 1968  Unnamed: 1968               object \n",
      " 1969  Unnamed: 1969               object \n",
      " 1970  Unnamed: 1970               object \n",
      " 1971  Unnamed: 1971               object \n",
      " 1972  Unnamed: 1972               object \n",
      " 1973  Unnamed: 1973               object \n",
      " 1974  Unnamed: 1974               object \n",
      " 1975  Unnamed: 1975               object \n",
      " 1976  Unnamed: 1976               object \n",
      " 1977  Unnamed: 1977               object \n",
      " 1978  Unnamed: 1978               object \n",
      " 1979  Unnamed: 1979               object \n",
      " 1980  Unnamed: 1980               object \n",
      " 1981  Unnamed: 1981               object \n",
      " 1982  Unnamed: 1982               object \n",
      " 1983  Unnamed: 1983               object \n",
      " 1984  Unnamed: 1984               object \n",
      " 1985  Unnamed: 1985               object \n",
      " 1986  Unnamed: 1986               object \n",
      " 1987  Unnamed: 1987               object \n",
      " 1988  Unnamed: 1988               object \n",
      " 1989  Unnamed: 1989               object \n",
      " 1990  Unnamed: 1990               object \n",
      " 1991  Unnamed: 1991               object \n",
      " 1992  Unnamed: 1992               object \n",
      " 1993  Unnamed: 1993               object \n",
      " 1994  Unnamed: 1994               object \n",
      " 1995  Unnamed: 1995               object \n",
      " 1996  Unnamed: 1996               object \n",
      " 1997  Unnamed: 1997               object \n",
      " 1998  Unnamed: 1998               object \n",
      " 1999  Unnamed: 1999               object \n",
      " 2000  Unnamed: 2000               object \n",
      " 2001  Unnamed: 2001               object \n",
      " 2002  Unnamed: 2002               object \n",
      " 2003  Unnamed: 2003               object \n",
      " 2004  Unnamed: 2004               object \n",
      " 2005  Unnamed: 2005               object \n",
      " 2006  Unnamed: 2006               object \n",
      " 2007  Unnamed: 2007               object \n",
      " 2008  Unnamed: 2008               object \n",
      " 2009  Unnamed: 2009               object \n",
      " 2010  Unnamed: 2010               object \n",
      " 2011  Unnamed: 2011               object \n",
      " 2012  Unnamed: 2012               object \n",
      " 2013  Unnamed: 2013               object \n",
      " 2014  Unnamed: 2014               object \n",
      " 2015  Unnamed: 2015               object \n",
      " 2016  Unnamed: 2016               object \n",
      " 2017  Unnamed: 2017               object \n",
      " 2018  Unnamed: 2018               object \n",
      " 2019  Unnamed: 2019               object \n",
      " 2020  Unnamed: 2020               object \n",
      " 2021  Unnamed: 2021               object \n",
      " 2022  Unnamed: 2022               object \n",
      " 2023  Unnamed: 2023               object \n",
      " 2024  Unnamed: 2024               object \n",
      " 2025  Unnamed: 2025               object \n",
      " 2026  Unnamed: 2026               object \n",
      " 2027  Unnamed: 2027               object \n",
      " 2028  Unnamed: 2028               object \n",
      " 2029  Unnamed: 2029               object \n",
      " 2030  Unnamed: 2030               object \n",
      " 2031  Unnamed: 2031               float64\n",
      " 2032  Unnamed: 2032               object \n",
      " 2033  Unnamed: 2033               float64\n",
      " 2034  Unnamed: 2034               object \n",
      " 2035  Unnamed: 2035               object \n",
      " 2036  Unnamed: 2036               object \n",
      " 2037  Unnamed: 2037               float64\n",
      " 2038  Unnamed: 2038               object \n",
      " 2039  Unnamed: 2039               object \n",
      " 2040  Unnamed: 2040               object \n",
      " 2041  Unnamed: 2041               object \n",
      " 2042  Unnamed: 2042               object \n",
      " 2043  Unnamed: 2043               object \n",
      " 2044  Unnamed: 2044               object \n",
      " 2045  Unnamed: 2045               object \n",
      " 2046  Unnamed: 2046               object \n",
      " 2047  Unnamed: 2047               object \n",
      " 2048  Unnamed: 2048               object \n",
      " 2049  Unnamed: 2049               object \n",
      "dtypes: float64(63), object(1987)\n",
      "memory usage: 270.4+ MB\n"
     ]
    }
   ],
   "source": [
    "df.info(40)"
   ]
  },
  {
   "cell_type": "code",
   "execution_count": 7,
   "id": "f09a5f12",
   "metadata": {
    "execution": {
     "iopub.execute_input": "2025-01-04T16:02:30.838435Z",
     "iopub.status.busy": "2025-01-04T16:02:30.838225Z",
     "iopub.status.idle": "2025-01-04T16:02:31.587799Z",
     "shell.execute_reply": "2025-01-04T16:02:31.587032Z"
    },
    "papermill": {
     "duration": 0.765478,
     "end_time": "2025-01-04T16:02:31.589139",
     "exception": false,
     "start_time": "2025-01-04T16:02:30.823661",
     "status": "completed"
    },
    "tags": []
   },
   "outputs": [
    {
     "data": {
      "text/plain": [
       "Unnamed: 0           3\n",
       "NCT Number           8\n",
       "Study Title          8\n",
       "Study URL            8\n",
       "Acronym          13008\n",
       "                 ...  \n",
       "Unnamed: 2045    17285\n",
       "Unnamed: 2046    17285\n",
       "Unnamed: 2047    17285\n",
       "Unnamed: 2048    17285\n",
       "Unnamed: 2049    17285\n",
       "Length: 2050, dtype: int64"
      ]
     },
     "execution_count": 7,
     "metadata": {},
     "output_type": "execute_result"
    }
   ],
   "source": [
    "df.isnull().sum()"
   ]
  },
  {
   "cell_type": "code",
   "execution_count": 8,
   "id": "1542128c",
   "metadata": {
    "execution": {
     "iopub.execute_input": "2025-01-04T16:02:31.618942Z",
     "iopub.status.busy": "2025-01-04T16:02:31.618707Z",
     "iopub.status.idle": "2025-01-04T16:02:31.908716Z",
     "shell.execute_reply": "2025-01-04T16:02:31.908007Z"
    },
    "papermill": {
     "duration": 0.306506,
     "end_time": "2025-01-04T16:02:31.910378",
     "exception": false,
     "start_time": "2025-01-04T16:02:31.603872",
     "status": "completed"
    },
    "tags": []
   },
   "outputs": [],
   "source": [
    "df = df.loc[:, ~df.columns.str.contains('^Unnamed')]\n"
   ]
  },
  {
   "cell_type": "code",
   "execution_count": 9,
   "id": "22b4be01",
   "metadata": {
    "execution": {
     "iopub.execute_input": "2025-01-04T16:02:31.941906Z",
     "iopub.status.busy": "2025-01-04T16:02:31.941645Z",
     "iopub.status.idle": "2025-01-04T16:02:31.959335Z",
     "shell.execute_reply": "2025-01-04T16:02:31.958569Z"
    },
    "papermill": {
     "duration": 0.034258,
     "end_time": "2025-01-04T16:02:31.960623",
     "exception": false,
     "start_time": "2025-01-04T16:02:31.926365",
     "status": "completed"
    },
    "tags": []
   },
   "outputs": [
    {
     "data": {
      "text/plain": [
       "<bound method NDFrame.head of         NCT Number                                        Study Title  \\\n",
       "0      NCT03956797  Long Term Safety of Cooling Anesthesia for Int...   \n",
       "1      NCT04625231  Shared Decision-Making Tool for Opioid Prescri...   \n",
       "2      NCT03249688  Multimodal Preventive Trial for Alzheimer's Di...   \n",
       "3      NCT06045052        Eltrombopag for Treatment of Fanconi Anemia   \n",
       "4      NCT03616964  A Study of Baricitinib in Participants With Sy...   \n",
       "...            ...                                                ...   \n",
       "17281  NCT03331627  Safety and Efficacy of STR001-IT and STR001-ER...   \n",
       "17282  NCT03303326                 Arab American Women's Health Study   \n",
       "17283  NCT03293290  Project EMPOWERING: Evidence-based PrEP for Ju...   \n",
       "17284  NCT04622605  Hydrus Microstent and Lens Extraction for the ...   \n",
       "17285  NCT04528602  The Effect of Diaper Change Position on Preter...   \n",
       "\n",
       "                                          Study URL      Acronym Study Status  \\\n",
       "0      https://clinicaltrials.gov/study/NCT03956797       COOL-2    COMPLETED   \n",
       "1      https://clinicaltrials.gov/study/NCT04625231          NaN    COMPLETED   \n",
       "2      https://clinicaltrials.gov/study/NCT03249688  MIND-ADmini    COMPLETED   \n",
       "3      https://clinicaltrials.gov/study/NCT06045052          NaN    COMPLETED   \n",
       "4      https://clinicaltrials.gov/study/NCT03616964     BRAVE II    COMPLETED   \n",
       "...                                             ...          ...          ...   \n",
       "17281  https://clinicaltrials.gov/study/NCT03331627          NaN    COMPLETED   \n",
       "17282  https://clinicaltrials.gov/study/NCT03303326          NaN    COMPLETED   \n",
       "17283  https://clinicaltrials.gov/study/NCT03293290          NaN    COMPLETED   \n",
       "17284  https://clinicaltrials.gov/study/NCT04622605          NaN    COMPLETED   \n",
       "17285  https://clinicaltrials.gov/study/NCT04528602          NaN    COMPLETED   \n",
       "\n",
       "                                           Brief Summary Study Results  \\\n",
       "0      The purpose of this clinical study is to evalu...            NO   \n",
       "1      The purpose of this study is to determine if a...            NO   \n",
       "2      The main aim of the MIND-ADmini pilot trial is...            NO   \n",
       "3      An open-label, phase II study to assess the ef...            NO   \n",
       "4      The reason for this study is to see how effect...           YES   \n",
       "...                                                  ...           ...   \n",
       "17281  a multicenter, double-blind, placebo-controlle...            NO   \n",
       "17282  This study evaluates how Arab American women's...            NO   \n",
       "17283  This study has two components. The first compo...            NO   \n",
       "17284  This study is a prospective evaluation of the ...            NO   \n",
       "17285  The purpose of this study is to determine the ...            NO   \n",
       "\n",
       "                                              Conditions  \\\n",
       "0      Anesthesia, Local|Intravitreal Injection|Macul...   \n",
       "1                                     Opioid Use|Surgery   \n",
       "2                           Alzheimer Disease; Prodromal   \n",
       "3                                         Fanconi Anemia   \n",
       "4                           Systemic Lupus Erythematosus   \n",
       "...                                                  ...   \n",
       "17281                                 Acute Hearing Loss   \n",
       "17282                           Mental Health Wellness 1   \n",
       "17283                                     HIV Infections   \n",
       "17284  Primary Angle Closure Glaucoma|Primary Angle C...   \n",
       "17285                        Infant, Premature, Diseases   \n",
       "\n",
       "                                           Interventions  \\\n",
       "0               DEVICE: Recens Cooling Anesthesia Device   \n",
       "1      BEHAVIORAL: Educational Shared-Decision Making...   \n",
       "2      OTHER: Regular health advice|BEHAVIORAL: Multi...   \n",
       "3                                      DRUG: Eltrombopag   \n",
       "4                        DRUG: Baricitinib|DRUG: Placebo   \n",
       "...                                                  ...   \n",
       "17281                      DRUG: STR001-IT and STR001-ER   \n",
       "17282                    BEHAVIORAL: Immediate interview   \n",
       "17283                                         DRUG: PrEP   \n",
       "17284  DEVICE: Trabecular bypass and Schlemm's canal ...   \n",
       "17285  PROCEDURE: Control (Extended leg position) Gro...   \n",
       "\n",
       "                                Primary Outcome Measures  ...     Sex  \\\n",
       "0      Pain of Intravitreal Injection: VAS, Pain of i...  ...     ALL   \n",
       "1      Number of Opioid Pills Dispensed, 1 day (Once ...  ...     ALL   \n",
       "2      Recruitment rate, Recruitment rate of particip...  ...     ALL   \n",
       "3      Assessing the efficacy of eltrombopag on hemat...  ...     ALL   \n",
       "4      Percentage of Participants Achieving a Systemi...  ...     ALL   \n",
       "...                                                  ...  ...     ...   \n",
       "17281  Absolute hearing improvement after 12 weeks, A...  ...     ALL   \n",
       "17282  Patient Health Questionnaire, Physical symptom...  ...  FEMALE   \n",
       "17283  % PrEP uptake, # starting PrEP/ # enrolled sub...  ...  FEMALE   \n",
       "17284  Reduction in IOP, Proportion of subjects with ...  ...     ALL   \n",
       "17285  Change in Heart rate, Preterm infant will be m...  ...     ALL   \n",
       "\n",
       "                      Age  Phases Enrollment Funder Type      Study Type  \\\n",
       "0      ADULT, OLDER_ADULT     NaN         80    INDUSTRY  INTERVENTIONAL   \n",
       "1      ADULT, OLDER_ADULT     NaN         60       OTHER  INTERVENTIONAL   \n",
       "2      ADULT, OLDER_ADULT     NaN         93       OTHER  INTERVENTIONAL   \n",
       "3                   CHILD  PHASE2          8       OTHER  INTERVENTIONAL   \n",
       "4      ADULT, OLDER_ADULT  PHASE3        778    INDUSTRY  INTERVENTIONAL   \n",
       "...                   ...     ...        ...         ...             ...   \n",
       "17281  ADULT, OLDER_ADULT  PHASE3        165    INDUSTRY  INTERVENTIONAL   \n",
       "17282               ADULT     NaN        134       OTHER  INTERVENTIONAL   \n",
       "17283  ADULT, OLDER_ADULT  PHASE1        105       OTHER  INTERVENTIONAL   \n",
       "17284  ADULT, OLDER_ADULT     NaN         31    INDUSTRY  INTERVENTIONAL   \n",
       "17285               CHILD     NaN         60       OTHER  INTERVENTIONAL   \n",
       "\n",
       "                                            Study Design  \\\n",
       "0      Allocation: NON_RANDOMIZED|Intervention Model:...   \n",
       "1      Allocation: RANDOMIZED|Intervention Model: PAR...   \n",
       "2      Allocation: RANDOMIZED|Intervention Model: PAR...   \n",
       "3      Allocation: NA|Intervention Model: SINGLE_GROU...   \n",
       "4      Allocation: RANDOMIZED|Intervention Model: PAR...   \n",
       "...                                                  ...   \n",
       "17281  Allocation: RANDOMIZED|Intervention Model: PAR...   \n",
       "17282  Allocation: RANDOMIZED|Intervention Model: PAR...   \n",
       "17283  Allocation: NA|Intervention Model: SINGLE_GROU...   \n",
       "17284  Allocation: NA|Intervention Model: SINGLE_GROU...   \n",
       "17285  Allocation: RANDOMIZED|Intervention Model: PAR...   \n",
       "\n",
       "                              Other IDs  \\\n",
       "0                              COOL-2.0   \n",
       "1                               18-0160   \n",
       "2                              E0750301   \n",
       "3                               FANCREV   \n",
       "4      16677|I4V-MC-JAIA|2017-005027-25   \n",
       "...                                 ...   \n",
       "17281                    2017-000242-22   \n",
       "17282                         064917B3E   \n",
       "17283                        1606017882   \n",
       "17284                          2017-004   \n",
       "17285                           5/12/19   \n",
       "\n",
       "                                               Locations  \\\n",
       "0      Sierra Eye Associates, Reno, Nevada, 89502, Un...   \n",
       "1      Rocky Mountain Regional VA Medical Center, Aur...   \n",
       "2      Karolinska University Hospital, Huddinge, 1418...   \n",
       "3      Hospital Infantil Universitario Niño Jesús (HI...   \n",
       "4      University of Arizona Arthritis Center, Gilber...   \n",
       "...                                                  ...   \n",
       "17281  Fakultni nemocnice Hradec Kralove, Hradec Kral...   \n",
       "17282  Wayne State University, Detroit, Michigan, 482...   \n",
       "17283  Yale Clinical and Community Research, 270 Cong...   \n",
       "17284  Asian Eye Institute, Makati City, Metro Manila...   \n",
       "17285    Acıbadem University, Istanbul, Atasehir, Turkey   \n",
       "\n",
       "                                         Study Documents  \n",
       "0                                                    NaN  \n",
       "1                                                    NaN  \n",
       "2                                                    NaN  \n",
       "3                                                    NaN  \n",
       "4      Study Protocol, https://cdn.clinicaltrials.gov...  \n",
       "...                                                  ...  \n",
       "17281                                                NaN  \n",
       "17282                                                NaN  \n",
       "17283                                                NaN  \n",
       "17284                                                NaN  \n",
       "17285                                                NaN  \n",
       "\n",
       "[17286 rows x 24 columns]>"
      ]
     },
     "execution_count": 9,
     "metadata": {},
     "output_type": "execute_result"
    }
   ],
   "source": [
    "df.head"
   ]
  },
  {
   "cell_type": "code",
   "execution_count": 10,
   "id": "302769cc",
   "metadata": {
    "execution": {
     "iopub.execute_input": "2025-01-04T16:02:31.990734Z",
     "iopub.status.busy": "2025-01-04T16:02:31.990482Z",
     "iopub.status.idle": "2025-01-04T16:02:32.019677Z",
     "shell.execute_reply": "2025-01-04T16:02:32.018567Z"
    },
    "papermill": {
     "duration": 0.045873,
     "end_time": "2025-01-04T16:02:32.020996",
     "exception": false,
     "start_time": "2025-01-04T16:02:31.975123",
     "status": "completed"
    },
    "tags": []
   },
   "outputs": [
    {
     "name": "stdout",
     "output_type": "stream",
     "text": [
      "<class 'pandas.core.frame.DataFrame'>\n",
      "RangeIndex: 17286 entries, 0 to 17285\n",
      "Data columns (total 24 columns):\n",
      " #   Column                      Non-Null Count  Dtype \n",
      "---  ------                      --------------  ----- \n",
      " 0   NCT Number                  17278 non-null  object\n",
      " 1   Study Title                 17278 non-null  object\n",
      " 2   Study URL                   17278 non-null  object\n",
      " 3   Acronym                     4278 non-null   object\n",
      " 4   Study Status                17277 non-null  object\n",
      " 5   Brief Summary               17276 non-null  object\n",
      " 6   Study Results               17276 non-null  object\n",
      " 7   Conditions                  17277 non-null  object\n",
      " 8   Interventions               17275 non-null  object\n",
      " 9   Primary Outcome Measures    17276 non-null  object\n",
      " 10  Secondary Outcome Measures  13145 non-null  object\n",
      " 11  Other Outcome Measures      1724 non-null   object\n",
      " 12  Sponsor                     17248 non-null  object\n",
      " 13  Collaborators               5358 non-null   object\n",
      " 14  Sex                         17240 non-null  object\n",
      " 15  Age                         17248 non-null  object\n",
      " 16  Phases                      6434 non-null   object\n",
      " 17  Enrollment                  17247 non-null  object\n",
      " 18  Funder Type                 17248 non-null  object\n",
      " 19  Study Type                  17248 non-null  object\n",
      " 20  Study Design                17248 non-null  object\n",
      " 21  Other IDs                   17243 non-null  object\n",
      " 22  Locations                   16727 non-null  object\n",
      " 23  Study Documents             3702 non-null   object\n",
      "dtypes: object(24)\n",
      "memory usage: 3.2+ MB\n"
     ]
    }
   ],
   "source": [
    "df.info()"
   ]
  },
  {
   "cell_type": "code",
   "execution_count": 11,
   "id": "7b444ea2",
   "metadata": {
    "execution": {
     "iopub.execute_input": "2025-01-04T16:02:32.051579Z",
     "iopub.status.busy": "2025-01-04T16:02:32.051371Z",
     "iopub.status.idle": "2025-01-04T16:02:32.057334Z",
     "shell.execute_reply": "2025-01-04T16:02:32.056739Z"
    },
    "papermill": {
     "duration": 0.022407,
     "end_time": "2025-01-04T16:02:32.058502",
     "exception": false,
     "start_time": "2025-01-04T16:02:32.036095",
     "status": "completed"
    },
    "tags": []
   },
   "outputs": [],
   "source": [
    "df= df.drop(['NCT Number','Acronym','Study URL','Study Title','Brief Summary','Secondary Outcome Measures','Primary Outcome Measures','Other Outcome Measures','Other IDs','Study Documents'] , axis=1)"
   ]
  },
  {
   "cell_type": "code",
   "execution_count": 12,
   "id": "7391bb8f",
   "metadata": {
    "execution": {
     "iopub.execute_input": "2025-01-04T16:02:32.088547Z",
     "iopub.status.busy": "2025-01-04T16:02:32.088341Z",
     "iopub.status.idle": "2025-01-04T16:02:32.105760Z",
     "shell.execute_reply": "2025-01-04T16:02:32.104782Z"
    },
    "papermill": {
     "duration": 0.033866,
     "end_time": "2025-01-04T16:02:32.107003",
     "exception": false,
     "start_time": "2025-01-04T16:02:32.073137",
     "status": "completed"
    },
    "tags": []
   },
   "outputs": [
    {
     "name": "stdout",
     "output_type": "stream",
     "text": [
      "<class 'pandas.core.frame.DataFrame'>\n",
      "RangeIndex: 17286 entries, 0 to 17285\n",
      "Data columns (total 14 columns):\n",
      " #   Column         Non-Null Count  Dtype \n",
      "---  ------         --------------  ----- \n",
      " 0   Study Status   17277 non-null  object\n",
      " 1   Study Results  17276 non-null  object\n",
      " 2   Conditions     17277 non-null  object\n",
      " 3   Interventions  17275 non-null  object\n",
      " 4   Sponsor        17248 non-null  object\n",
      " 5   Collaborators  5358 non-null   object\n",
      " 6   Sex            17240 non-null  object\n",
      " 7   Age            17248 non-null  object\n",
      " 8   Phases         6434 non-null   object\n",
      " 9   Enrollment     17247 non-null  object\n",
      " 10  Funder Type    17248 non-null  object\n",
      " 11  Study Type     17248 non-null  object\n",
      " 12  Study Design   17248 non-null  object\n",
      " 13  Locations      16727 non-null  object\n",
      "dtypes: object(14)\n",
      "memory usage: 1.8+ MB\n"
     ]
    }
   ],
   "source": [
    "df.info()"
   ]
  },
  {
   "cell_type": "code",
   "execution_count": 13,
   "id": "642a8c47",
   "metadata": {
    "execution": {
     "iopub.execute_input": "2025-01-04T16:02:32.137548Z",
     "iopub.status.busy": "2025-01-04T16:02:32.137325Z",
     "iopub.status.idle": "2025-01-04T16:02:32.141468Z",
     "shell.execute_reply": "2025-01-04T16:02:32.140734Z"
    },
    "papermill": {
     "duration": 0.020478,
     "end_time": "2025-01-04T16:02:32.142599",
     "exception": false,
     "start_time": "2025-01-04T16:02:32.122121",
     "status": "completed"
    },
    "tags": []
   },
   "outputs": [
    {
     "data": {
      "text/plain": [
       "(17286, 14)"
      ]
     },
     "execution_count": 13,
     "metadata": {},
     "output_type": "execute_result"
    }
   ],
   "source": [
    "df.shape"
   ]
  },
  {
   "cell_type": "code",
   "execution_count": 14,
   "id": "b0152acf",
   "metadata": {
    "execution": {
     "iopub.execute_input": "2025-01-04T16:02:32.172884Z",
     "iopub.status.busy": "2025-01-04T16:02:32.172634Z",
     "iopub.status.idle": "2025-01-04T16:02:32.187928Z",
     "shell.execute_reply": "2025-01-04T16:02:32.187180Z"
    },
    "papermill": {
     "duration": 0.031569,
     "end_time": "2025-01-04T16:02:32.189077",
     "exception": false,
     "start_time": "2025-01-04T16:02:32.157508",
     "status": "completed"
    },
    "tags": []
   },
   "outputs": [
    {
     "data": {
      "text/plain": [
       "Study Status         9\n",
       "Study Results       10\n",
       "Conditions           9\n",
       "Interventions       11\n",
       "Sponsor             38\n",
       "Collaborators    11928\n",
       "Sex                 46\n",
       "Age                 38\n",
       "Phases           10852\n",
       "Enrollment          39\n",
       "Funder Type         38\n",
       "Study Type          38\n",
       "Study Design        38\n",
       "Locations          559\n",
       "dtype: int64"
      ]
     },
     "execution_count": 14,
     "metadata": {},
     "output_type": "execute_result"
    }
   ],
   "source": [
    "df.isnull().sum()"
   ]
  },
  {
   "cell_type": "code",
   "execution_count": 15,
   "id": "e83a6e4d",
   "metadata": {
    "execution": {
     "iopub.execute_input": "2025-01-04T16:02:32.220324Z",
     "iopub.status.busy": "2025-01-04T16:02:32.220075Z",
     "iopub.status.idle": "2025-01-04T16:02:32.237884Z",
     "shell.execute_reply": "2025-01-04T16:02:32.237053Z"
    },
    "papermill": {
     "duration": 0.034944,
     "end_time": "2025-01-04T16:02:32.239187",
     "exception": false,
     "start_time": "2025-01-04T16:02:32.204243",
     "status": "completed"
    },
    "tags": []
   },
   "outputs": [],
   "source": [
    "df_cleaned = df[df.isnull().sum(axis=1) <10]"
   ]
  },
  {
   "cell_type": "code",
   "execution_count": 16,
   "id": "2b9a32d5",
   "metadata": {
    "execution": {
     "iopub.execute_input": "2025-01-04T16:02:32.269661Z",
     "iopub.status.busy": "2025-01-04T16:02:32.269427Z",
     "iopub.status.idle": "2025-01-04T16:02:32.273619Z",
     "shell.execute_reply": "2025-01-04T16:02:32.272884Z"
    },
    "papermill": {
     "duration": 0.020975,
     "end_time": "2025-01-04T16:02:32.274877",
     "exception": false,
     "start_time": "2025-01-04T16:02:32.253902",
     "status": "completed"
    },
    "tags": []
   },
   "outputs": [
    {
     "data": {
      "text/plain": [
       "(17248, 14)"
      ]
     },
     "execution_count": 16,
     "metadata": {},
     "output_type": "execute_result"
    }
   ],
   "source": [
    "df_cleaned.shape"
   ]
  },
  {
   "cell_type": "code",
   "execution_count": 17,
   "id": "03b6d539",
   "metadata": {
    "execution": {
     "iopub.execute_input": "2025-01-04T16:02:32.305465Z",
     "iopub.status.busy": "2025-01-04T16:02:32.305266Z",
     "iopub.status.idle": "2025-01-04T16:02:32.320621Z",
     "shell.execute_reply": "2025-01-04T16:02:32.319898Z"
    },
    "papermill": {
     "duration": 0.032076,
     "end_time": "2025-01-04T16:02:32.321971",
     "exception": false,
     "start_time": "2025-01-04T16:02:32.289895",
     "status": "completed"
    },
    "tags": []
   },
   "outputs": [
    {
     "data": {
      "text/plain": [
       "Study Status         0\n",
       "Study Results        1\n",
       "Conditions           0\n",
       "Interventions        2\n",
       "Sponsor              0\n",
       "Collaborators    11890\n",
       "Sex                  8\n",
       "Age                  0\n",
       "Phases           10814\n",
       "Enrollment           1\n",
       "Funder Type          0\n",
       "Study Type           0\n",
       "Study Design         0\n",
       "Locations          521\n",
       "dtype: int64"
      ]
     },
     "execution_count": 17,
     "metadata": {},
     "output_type": "execute_result"
    }
   ],
   "source": [
    "df_cleaned.isnull().sum()"
   ]
  },
  {
   "cell_type": "code",
   "execution_count": 18,
   "id": "dc7af912",
   "metadata": {
    "execution": {
     "iopub.execute_input": "2025-01-04T16:02:32.353881Z",
     "iopub.status.busy": "2025-01-04T16:02:32.353625Z",
     "iopub.status.idle": "2025-01-04T16:02:32.362025Z",
     "shell.execute_reply": "2025-01-04T16:02:32.361145Z"
    },
    "papermill": {
     "duration": 0.02531,
     "end_time": "2025-01-04T16:02:32.363221",
     "exception": false,
     "start_time": "2025-01-04T16:02:32.337911",
     "status": "completed"
    },
    "tags": []
   },
   "outputs": [
    {
     "data": {
      "text/plain": [
       "Collaborators\n",
       "National Cancer Institute (NCI)                                                                                                                                                                114\n",
       "National Institute on Drug Abuse (NIDA)                                                                                                                                                         52\n",
       "National Institute on Aging (NIA)                                                                                                                                                               50\n",
       "Merck Sharp & Dohme LLC                                                                                                                                                                         50\n",
       "National Institute of Mental Health (NIMH)                                                                                                                                                      42\n",
       "                                                                                                                                                                                              ... \n",
       "Ministry of public Health Afghanistan|United Nations World Food Programme (WFP)|The Aga Khan Foundation|Aga Khan Health Services                                                                 1\n",
       "Iuppa Industriale S.r.l.                                                                                                                                                                         1\n",
       "Universidad Rey Juan Carlos|Hospital Beata María Ana                                                                                                                                             1\n",
       "US National Institute of Allergy and Infectious Diseases|Eunice Kennedy Shriver National Institute of Child Health and Human Development (NICHD)|National Institute of Mental Health (NIMH)      1\n",
       "University of Bordeaux|University Hospital, Bordeaux                                                                                                                                             1\n",
       "Name: count, Length: 3771, dtype: int64"
      ]
     },
     "execution_count": 18,
     "metadata": {},
     "output_type": "execute_result"
    }
   ],
   "source": [
    "df_cleaned['Collaborators'].value_counts()"
   ]
  },
  {
   "cell_type": "code",
   "execution_count": 19,
   "id": "b111574d",
   "metadata": {
    "execution": {
     "iopub.execute_input": "2025-01-04T16:02:32.394152Z",
     "iopub.status.busy": "2025-01-04T16:02:32.393928Z",
     "iopub.status.idle": "2025-01-04T16:02:32.400750Z",
     "shell.execute_reply": "2025-01-04T16:02:32.400001Z"
    },
    "papermill": {
     "duration": 0.023374,
     "end_time": "2025-01-04T16:02:32.401971",
     "exception": false,
     "start_time": "2025-01-04T16:02:32.378597",
     "status": "completed"
    },
    "tags": []
   },
   "outputs": [
    {
     "data": {
      "text/plain": [
       "array([nan,\n",
       "       'University of Eastern Finland|Universität des Saarlandes|University Hospital, Toulouse',\n",
       "       'Incyte Corporation', ...,\n",
       "       'Wakunga of America Co. Ltd.|Purity Life Health Products LP',\n",
       "       'National Association of Chain Drug Stores', 'Ivantis, Inc.'],\n",
       "      dtype=object)"
      ]
     },
     "execution_count": 19,
     "metadata": {},
     "output_type": "execute_result"
    }
   ],
   "source": [
    "df_cleaned.Collaborators.unique()"
   ]
  },
  {
   "cell_type": "code",
   "execution_count": 20,
   "id": "413711f0",
   "metadata": {
    "execution": {
     "iopub.execute_input": "2025-01-04T16:02:32.433008Z",
     "iopub.status.busy": "2025-01-04T16:02:32.432808Z",
     "iopub.status.idle": "2025-01-04T16:02:32.440185Z",
     "shell.execute_reply": "2025-01-04T16:02:32.439614Z"
    },
    "papermill": {
     "duration": 0.024201,
     "end_time": "2025-01-04T16:02:32.441543",
     "exception": false,
     "start_time": "2025-01-04T16:02:32.417342",
     "status": "completed"
    },
    "tags": []
   },
   "outputs": [],
   "source": [
    "df_cleaned= df_cleaned.dropna(subset=['Collaborators'])\n"
   ]
  },
  {
   "cell_type": "code",
   "execution_count": 21,
   "id": "e937906e",
   "metadata": {
    "execution": {
     "iopub.execute_input": "2025-01-04T16:02:32.472887Z",
     "iopub.status.busy": "2025-01-04T16:02:32.472632Z",
     "iopub.status.idle": "2025-01-04T16:02:32.481582Z",
     "shell.execute_reply": "2025-01-04T16:02:32.480753Z"
    },
    "papermill": {
     "duration": 0.025788,
     "end_time": "2025-01-04T16:02:32.482750",
     "exception": false,
     "start_time": "2025-01-04T16:02:32.456962",
     "status": "completed"
    },
    "tags": []
   },
   "outputs": [
    {
     "data": {
      "text/plain": [
       "Study Status        0\n",
       "Study Results       1\n",
       "Conditions          0\n",
       "Interventions       1\n",
       "Sponsor             0\n",
       "Collaborators       0\n",
       "Sex                 3\n",
       "Age                 0\n",
       "Phases           3455\n",
       "Enrollment          0\n",
       "Funder Type         0\n",
       "Study Type          0\n",
       "Study Design        0\n",
       "Locations         110\n",
       "dtype: int64"
      ]
     },
     "execution_count": 21,
     "metadata": {},
     "output_type": "execute_result"
    }
   ],
   "source": [
    "df_cleaned.isnull().sum()"
   ]
  },
  {
   "cell_type": "code",
   "execution_count": 22,
   "id": "88504039",
   "metadata": {
    "execution": {
     "iopub.execute_input": "2025-01-04T16:02:32.514264Z",
     "iopub.status.busy": "2025-01-04T16:02:32.514042Z",
     "iopub.status.idle": "2025-01-04T16:02:32.520073Z",
     "shell.execute_reply": "2025-01-04T16:02:32.519242Z"
    },
    "papermill": {
     "duration": 0.023013,
     "end_time": "2025-01-04T16:02:32.521216",
     "exception": false,
     "start_time": "2025-01-04T16:02:32.498203",
     "status": "completed"
    },
    "tags": []
   },
   "outputs": [],
   "source": [
    "df_cleaned= df_cleaned.dropna(subset=['Phases'])"
   ]
  },
  {
   "cell_type": "code",
   "execution_count": 23,
   "id": "57767728",
   "metadata": {
    "execution": {
     "iopub.execute_input": "2025-01-04T16:02:32.552456Z",
     "iopub.status.busy": "2025-01-04T16:02:32.552225Z",
     "iopub.status.idle": "2025-01-04T16:02:32.558625Z",
     "shell.execute_reply": "2025-01-04T16:02:32.557896Z"
    },
    "papermill": {
     "duration": 0.023336,
     "end_time": "2025-01-04T16:02:32.559898",
     "exception": false,
     "start_time": "2025-01-04T16:02:32.536562",
     "status": "completed"
    },
    "tags": []
   },
   "outputs": [
    {
     "data": {
      "text/plain": [
       "Study Status      0\n",
       "Study Results     1\n",
       "Conditions        0\n",
       "Interventions     1\n",
       "Sponsor           0\n",
       "Collaborators     0\n",
       "Sex               2\n",
       "Age               0\n",
       "Phases            0\n",
       "Enrollment        0\n",
       "Funder Type       0\n",
       "Study Type        0\n",
       "Study Design      0\n",
       "Locations        29\n",
       "dtype: int64"
      ]
     },
     "execution_count": 23,
     "metadata": {},
     "output_type": "execute_result"
    }
   ],
   "source": [
    "df_cleaned.isnull().sum()"
   ]
  },
  {
   "cell_type": "code",
   "execution_count": 24,
   "id": "4400ec94",
   "metadata": {
    "execution": {
     "iopub.execute_input": "2025-01-04T16:02:32.591818Z",
     "iopub.status.busy": "2025-01-04T16:02:32.591589Z",
     "iopub.status.idle": "2025-01-04T16:02:32.597037Z",
     "shell.execute_reply": "2025-01-04T16:02:32.596161Z"
    },
    "papermill": {
     "duration": 0.022607,
     "end_time": "2025-01-04T16:02:32.598191",
     "exception": false,
     "start_time": "2025-01-04T16:02:32.575584",
     "status": "completed"
    },
    "tags": []
   },
   "outputs": [],
   "source": [
    "df_cleaned= df_cleaned.dropna(subset=['Locations'])"
   ]
  },
  {
   "cell_type": "code",
   "execution_count": 25,
   "id": "e7c8da61",
   "metadata": {
    "execution": {
     "iopub.execute_input": "2025-01-04T16:02:32.632462Z",
     "iopub.status.busy": "2025-01-04T16:02:32.632216Z",
     "iopub.status.idle": "2025-01-04T16:02:32.639507Z",
     "shell.execute_reply": "2025-01-04T16:02:32.638653Z"
    },
    "papermill": {
     "duration": 0.026644,
     "end_time": "2025-01-04T16:02:32.640887",
     "exception": false,
     "start_time": "2025-01-04T16:02:32.614243",
     "status": "completed"
    },
    "tags": []
   },
   "outputs": [
    {
     "data": {
      "text/plain": [
       "Study Status     0\n",
       "Study Results    0\n",
       "Conditions       0\n",
       "Interventions    0\n",
       "Sponsor          0\n",
       "Collaborators    0\n",
       "Sex              1\n",
       "Age              0\n",
       "Phases           0\n",
       "Enrollment       0\n",
       "Funder Type      0\n",
       "Study Type       0\n",
       "Study Design     0\n",
       "Locations        0\n",
       "dtype: int64"
      ]
     },
     "execution_count": 25,
     "metadata": {},
     "output_type": "execute_result"
    }
   ],
   "source": [
    "df_cleaned.isnull().sum()"
   ]
  },
  {
   "cell_type": "code",
   "execution_count": 26,
   "id": "c42e276c",
   "metadata": {
    "execution": {
     "iopub.execute_input": "2025-01-04T16:02:32.677268Z",
     "iopub.status.busy": "2025-01-04T16:02:32.677038Z",
     "iopub.status.idle": "2025-01-04T16:02:32.682431Z",
     "shell.execute_reply": "2025-01-04T16:02:32.681668Z"
    },
    "papermill": {
     "duration": 0.025268,
     "end_time": "2025-01-04T16:02:32.683937",
     "exception": false,
     "start_time": "2025-01-04T16:02:32.658669",
     "status": "completed"
    },
    "tags": []
   },
   "outputs": [],
   "source": [
    "df_cleaned= df_cleaned.dropna(subset=['Sex'])"
   ]
  },
  {
   "cell_type": "code",
   "execution_count": 27,
   "id": "86ea7ecd",
   "metadata": {
    "execution": {
     "iopub.execute_input": "2025-01-04T16:02:32.721994Z",
     "iopub.status.busy": "2025-01-04T16:02:32.721735Z",
     "iopub.status.idle": "2025-01-04T16:02:32.728700Z",
     "shell.execute_reply": "2025-01-04T16:02:32.727983Z"
    },
    "papermill": {
     "duration": 0.026791,
     "end_time": "2025-01-04T16:02:32.730036",
     "exception": false,
     "start_time": "2025-01-04T16:02:32.703245",
     "status": "completed"
    },
    "tags": []
   },
   "outputs": [
    {
     "data": {
      "text/plain": [
       "Study Status     0\n",
       "Study Results    0\n",
       "Conditions       0\n",
       "Interventions    0\n",
       "Sponsor          0\n",
       "Collaborators    0\n",
       "Sex              0\n",
       "Age              0\n",
       "Phases           0\n",
       "Enrollment       0\n",
       "Funder Type      0\n",
       "Study Type       0\n",
       "Study Design     0\n",
       "Locations        0\n",
       "dtype: int64"
      ]
     },
     "execution_count": 27,
     "metadata": {},
     "output_type": "execute_result"
    }
   ],
   "source": [
    "df_cleaned.isnull().sum()"
   ]
  },
  {
   "cell_type": "code",
   "execution_count": 28,
   "id": "9a83b8ae",
   "metadata": {
    "execution": {
     "iopub.execute_input": "2025-01-04T16:02:32.766987Z",
     "iopub.status.busy": "2025-01-04T16:02:32.766729Z",
     "iopub.status.idle": "2025-01-04T16:02:32.773948Z",
     "shell.execute_reply": "2025-01-04T16:02:32.773020Z"
    },
    "papermill": {
     "duration": 0.027206,
     "end_time": "2025-01-04T16:02:32.775232",
     "exception": false,
     "start_time": "2025-01-04T16:02:32.748026",
     "status": "completed"
    },
    "tags": []
   },
   "outputs": [
    {
     "data": {
      "text/plain": [
       "Enrollment\n",
       "30        41\n",
       "20        38\n",
       "10        32\n",
       "60        25\n",
       "20        25\n",
       "          ..\n",
       "1000.0     1\n",
       "364.0      1\n",
       "161.0      1\n",
       "527        1\n",
       "44247      1\n",
       "Name: count, Length: 615, dtype: int64"
      ]
     },
     "execution_count": 28,
     "metadata": {},
     "output_type": "execute_result"
    }
   ],
   "source": [
    "(df_cleaned['Enrollment'].value_counts())"
   ]
  },
  {
   "cell_type": "code",
   "execution_count": 29,
   "id": "10bf3c4d",
   "metadata": {
    "execution": {
     "iopub.execute_input": "2025-01-04T16:02:32.813079Z",
     "iopub.status.busy": "2025-01-04T16:02:32.812835Z",
     "iopub.status.idle": "2025-01-04T16:02:32.823132Z",
     "shell.execute_reply": "2025-01-04T16:02:32.822371Z"
    },
    "papermill": {
     "duration": 0.029917,
     "end_time": "2025-01-04T16:02:32.824348",
     "exception": false,
     "start_time": "2025-01-04T16:02:32.794431",
     "status": "completed"
    },
    "tags": []
   },
   "outputs": [
    {
     "data": {
      "text/plain": [
       "<bound method DataFrame.info of       Study Status Study Results  \\\n",
       "4        COMPLETED           YES   \n",
       "15       COMPLETED            NO   \n",
       "16       COMPLETED           YES   \n",
       "17       COMPLETED           YES   \n",
       "38       COMPLETED            NO   \n",
       "...            ...           ...   \n",
       "17245    COMPLETED            NO   \n",
       "17249    COMPLETED            NO   \n",
       "17251    COMPLETED           YES   \n",
       "17254    COMPLETED            NO   \n",
       "17260    COMPLETED           YES   \n",
       "\n",
       "                                              Conditions  \\\n",
       "4                           Systemic Lupus Erythematosus   \n",
       "15                                         Low Back Pain   \n",
       "16                          Delayed Sleep Phase Syndrome   \n",
       "17     Advanced Digestive System Neuroendocrine Neopl...   \n",
       "38                              Nasopharyngeal Carcinoma   \n",
       "...                                                  ...   \n",
       "17245                      COVID-19 (Healthy Volunteers)   \n",
       "17249                                            Allergy   \n",
       "17251                          Diabetes Mellitus, Type 1   \n",
       "17254                     Glutathione Metabolism Anemias   \n",
       "17260                                            Healthy   \n",
       "\n",
       "                                           Interventions  \\\n",
       "4                        DRUG: Baricitinib|DRUG: Placebo   \n",
       "15            DRUG: Biosimilar Infliximab|OTHER: Placebo   \n",
       "16     DRUG: Melatonin 0.5 MG|OTHER: Dim Light Melato...   \n",
       "17     OTHER: Laboratory Biomarker Analysis|OTHER: Ph...   \n",
       "38                                     BIOLOGICAL: AK104   \n",
       "...                                                  ...   \n",
       "17245  BIOLOGICAL: GBP510 adjuvanted with Alum (RBD 1...   \n",
       "17249         DRUG: 5-grass mix SLIT-drops|DRUG: Placebo   \n",
       "17251     DRUG: MYL-1601D Product|DRUG: FlexPen NovoLog®   \n",
       "17254               DRUG: N-acetylcysteine|DRUG: Lactose   \n",
       "17260  DRUG: Empagliflozin/linagliptin/metformin HCl|...   \n",
       "\n",
       "                                    Sponsor  \\\n",
       "4                     Eli Lilly and Company   \n",
       "15                 Oslo University Hospital   \n",
       "16                   University of Michigan   \n",
       "17              M.D. Anderson Cancer Center   \n",
       "38                                    Akeso   \n",
       "...                                     ...   \n",
       "17245               SK Bioscience Co., Ltd.   \n",
       "17249                        ALK-Abelló A/S   \n",
       "17251                            Mylan Inc.   \n",
       "17254  Aristotle University Of Thessaloniki   \n",
       "17260                  Boehringer Ingelheim   \n",
       "\n",
       "                                           Collaborators   Sex  \\\n",
       "4                                     Incyte Corporation   ALL   \n",
       "15     Haukeland University Hospital|St. Olavs Hospit...   ALL   \n",
       "16                    American Academy of Sleep Medicine   ALL   \n",
       "17              National Cancer Institute (NCI)|Novartis   ALL   \n",
       "38                           Akeso Pharmaceuticals, Inc.   ALL   \n",
       "...                                                  ...   ...   \n",
       "17245    Coalition for Epidemic Preparedness Innovations   ALL   \n",
       "17249                                      Syneos Health   ALL   \n",
       "17251                                         Mylan GmbH   ALL   \n",
       "17254  National and Kapodistrian University of Athens...  MALE   \n",
       "17260                              Eli Lilly and Company   ALL   \n",
       "\n",
       "                      Age         Phases Enrollment Funder Type  \\\n",
       "4      ADULT, OLDER_ADULT         PHASE3        778    INDUSTRY   \n",
       "15     ADULT, OLDER_ADULT         PHASE3        128       OTHER   \n",
       "16     ADULT, OLDER_ADULT         PHASE3         44       OTHER   \n",
       "17     ADULT, OLDER_ADULT         PHASE2         21       OTHER   \n",
       "38     ADULT, OLDER_ADULT         PHASE2         34    INDUSTRY   \n",
       "...                   ...            ...        ...         ...   \n",
       "17245  ADULT, OLDER_ADULT  PHASE1|PHASE2        260    INDUSTRY   \n",
       "17249  ADULT, OLDER_ADULT         PHASE3        445    INDUSTRY   \n",
       "17251  ADULT, OLDER_ADULT         PHASE3        478    INDUSTRY   \n",
       "17254               ADULT         PHASE2         36       OTHER   \n",
       "17260               ADULT         PHASE1         30    INDUSTRY   \n",
       "\n",
       "           Study Type                                       Study Design  \\\n",
       "4      INTERVENTIONAL  Allocation: RANDOMIZED|Intervention Model: PAR...   \n",
       "15     INTERVENTIONAL  Allocation: RANDOMIZED|Intervention Model: PAR...   \n",
       "16     INTERVENTIONAL  Allocation: RANDOMIZED|Intervention Model: PAR...   \n",
       "17     INTERVENTIONAL  Allocation: NA|Intervention Model: SINGLE_GROU...   \n",
       "38     INTERVENTIONAL  Allocation: NON_RANDOMIZED|Intervention Model:...   \n",
       "...               ...                                                ...   \n",
       "17245  INTERVENTIONAL  Allocation: RANDOMIZED|Intervention Model: PAR...   \n",
       "17249  INTERVENTIONAL  Allocation: RANDOMIZED|Intervention Model: PAR...   \n",
       "17251  INTERVENTIONAL  Allocation: RANDOMIZED|Intervention Model: PAR...   \n",
       "17254  INTERVENTIONAL  Allocation: RANDOMIZED|Intervention Model: PAR...   \n",
       "17260  INTERVENTIONAL  Allocation: RANDOMIZED|Intervention Model: CRO...   \n",
       "\n",
       "                                               Locations  \n",
       "4      University of Arizona Arthritis Center, Gilber...  \n",
       "15     Haukeland University Hospital, Bergen, Norway|...  \n",
       "16     University of Michigan, Ann Arbor, Michigan, 4...  \n",
       "17     M D Anderson Cancer Center, Houston, Texas, 77...  \n",
       "38     Sun Yat-sen University Cancer Center, Guangzho...  \n",
       "...                                                  ...  \n",
       "17245  Korea University Ansan Hospital, Ansan, Korea,...  \n",
       "17249  Fakultni Nemocnice u Sv. Anny - FNUSA, Brno, 6...  \n",
       "17251  Endocrinology Associates Montgomery, Montgomer...  \n",
       "17254  European University Cyprus, Nicosia, 1516, Cyp...  \n",
       "17260  Humanpharmakologisches Zentrum Biberach, Biber...  \n",
       "\n",
       "[1873 rows x 14 columns]>"
      ]
     },
     "execution_count": 29,
     "metadata": {},
     "output_type": "execute_result"
    }
   ],
   "source": [
    "df_cleaned.info"
   ]
  },
  {
   "cell_type": "code",
   "execution_count": null,
   "id": "ea445971",
   "metadata": {
    "papermill": {
     "duration": 0.017018,
     "end_time": "2025-01-04T16:02:32.859270",
     "exception": false,
     "start_time": "2025-01-04T16:02:32.842252",
     "status": "completed"
    },
    "tags": []
   },
   "outputs": [],
   "source": [
    "\n"
   ]
  },
  {
   "cell_type": "code",
   "execution_count": 30,
   "id": "b210374c",
   "metadata": {
    "execution": {
     "iopub.execute_input": "2025-01-04T16:02:32.894099Z",
     "iopub.status.busy": "2025-01-04T16:02:32.893895Z",
     "iopub.status.idle": "2025-01-04T16:02:32.900727Z",
     "shell.execute_reply": "2025-01-04T16:02:32.900071Z"
    },
    "papermill": {
     "duration": 0.025016,
     "end_time": "2025-01-04T16:02:32.901895",
     "exception": false,
     "start_time": "2025-01-04T16:02:32.876879",
     "status": "completed"
    },
    "tags": []
   },
   "outputs": [
    {
     "data": {
      "text/plain": [
       "Study Status     0\n",
       "Study Results    0\n",
       "Conditions       0\n",
       "Interventions    0\n",
       "Sponsor          0\n",
       "Collaborators    0\n",
       "Sex              0\n",
       "Age              0\n",
       "Phases           0\n",
       "Enrollment       0\n",
       "Funder Type      0\n",
       "Study Type       0\n",
       "Study Design     0\n",
       "Locations        0\n",
       "dtype: int64"
      ]
     },
     "execution_count": 30,
     "metadata": {},
     "output_type": "execute_result"
    }
   ],
   "source": [
    "df_cleaned.isnull().sum()"
   ]
  },
  {
   "cell_type": "code",
   "execution_count": 31,
   "id": "f25e934e",
   "metadata": {
    "execution": {
     "iopub.execute_input": "2025-01-04T16:02:32.935213Z",
     "iopub.status.busy": "2025-01-04T16:02:32.935018Z",
     "iopub.status.idle": "2025-01-04T16:02:32.941205Z",
     "shell.execute_reply": "2025-01-04T16:02:32.940536Z"
    },
    "papermill": {
     "duration": 0.02405,
     "end_time": "2025-01-04T16:02:32.942355",
     "exception": false,
     "start_time": "2025-01-04T16:02:32.918305",
     "status": "completed"
    },
    "tags": []
   },
   "outputs": [
    {
     "data": {
      "text/plain": [
       "Conditions\n",
       "Healthy                                                              56\n",
       "COVID-19                                                             30\n",
       "Healthy Volunteers                                                   22\n",
       "Bioequivalence                                                       15\n",
       "Breast Cancer                                                        13\n",
       "                                                                     ..\n",
       "Primary CNS Lymphoma (PCNSL)                                          1\n",
       "Leukemia, Myeloid, Chronic                                            1\n",
       "Peritoneal Dialysis Chronic Kidney Disease Patients With Anemia       1\n",
       "Malaria Fever|Plasmodium Falciparum Malaria|Uncomplicated Malaria     1\n",
       "Osteoarthritis|Post-traumatic Osteoarthritis                          1\n",
       "Name: count, Length: 1407, dtype: int64"
      ]
     },
     "execution_count": 31,
     "metadata": {},
     "output_type": "execute_result"
    }
   ],
   "source": [
    "df_cleaned['Conditions'].value_counts()"
   ]
  },
  {
   "cell_type": "code",
   "execution_count": 32,
   "id": "fbbc6c8d",
   "metadata": {
    "execution": {
     "iopub.execute_input": "2025-01-04T16:02:32.977589Z",
     "iopub.status.busy": "2025-01-04T16:02:32.977386Z",
     "iopub.status.idle": "2025-01-04T16:02:32.986620Z",
     "shell.execute_reply": "2025-01-04T16:02:32.985889Z"
    },
    "papermill": {
     "duration": 0.027647,
     "end_time": "2025-01-04T16:02:32.987935",
     "exception": false,
     "start_time": "2025-01-04T16:02:32.960288",
     "status": "completed"
    },
    "tags": []
   },
   "outputs": [
    {
     "data": {
      "text/plain": [
       "<bound method DataFrame.info of       Study Status Study Results  \\\n",
       "4        COMPLETED           YES   \n",
       "15       COMPLETED            NO   \n",
       "16       COMPLETED           YES   \n",
       "17       COMPLETED           YES   \n",
       "38       COMPLETED            NO   \n",
       "...            ...           ...   \n",
       "17245    COMPLETED            NO   \n",
       "17249    COMPLETED            NO   \n",
       "17251    COMPLETED           YES   \n",
       "17254    COMPLETED            NO   \n",
       "17260    COMPLETED           YES   \n",
       "\n",
       "                                              Conditions  \\\n",
       "4                           Systemic Lupus Erythematosus   \n",
       "15                                         Low Back Pain   \n",
       "16                          Delayed Sleep Phase Syndrome   \n",
       "17     Advanced Digestive System Neuroendocrine Neopl...   \n",
       "38                              Nasopharyngeal Carcinoma   \n",
       "...                                                  ...   \n",
       "17245                      COVID-19 (Healthy Volunteers)   \n",
       "17249                                            Allergy   \n",
       "17251                          Diabetes Mellitus, Type 1   \n",
       "17254                     Glutathione Metabolism Anemias   \n",
       "17260                                            Healthy   \n",
       "\n",
       "                                           Interventions  \\\n",
       "4                        DRUG: Baricitinib|DRUG: Placebo   \n",
       "15            DRUG: Biosimilar Infliximab|OTHER: Placebo   \n",
       "16     DRUG: Melatonin 0.5 MG|OTHER: Dim Light Melato...   \n",
       "17     OTHER: Laboratory Biomarker Analysis|OTHER: Ph...   \n",
       "38                                     BIOLOGICAL: AK104   \n",
       "...                                                  ...   \n",
       "17245  BIOLOGICAL: GBP510 adjuvanted with Alum (RBD 1...   \n",
       "17249         DRUG: 5-grass mix SLIT-drops|DRUG: Placebo   \n",
       "17251     DRUG: MYL-1601D Product|DRUG: FlexPen NovoLog®   \n",
       "17254               DRUG: N-acetylcysteine|DRUG: Lactose   \n",
       "17260  DRUG: Empagliflozin/linagliptin/metformin HCl|...   \n",
       "\n",
       "                                    Sponsor  \\\n",
       "4                     Eli Lilly and Company   \n",
       "15                 Oslo University Hospital   \n",
       "16                   University of Michigan   \n",
       "17              M.D. Anderson Cancer Center   \n",
       "38                                    Akeso   \n",
       "...                                     ...   \n",
       "17245               SK Bioscience Co., Ltd.   \n",
       "17249                        ALK-Abelló A/S   \n",
       "17251                            Mylan Inc.   \n",
       "17254  Aristotle University Of Thessaloniki   \n",
       "17260                  Boehringer Ingelheim   \n",
       "\n",
       "                                           Collaborators   Sex  \\\n",
       "4                                     Incyte Corporation   ALL   \n",
       "15     Haukeland University Hospital|St. Olavs Hospit...   ALL   \n",
       "16                    American Academy of Sleep Medicine   ALL   \n",
       "17              National Cancer Institute (NCI)|Novartis   ALL   \n",
       "38                           Akeso Pharmaceuticals, Inc.   ALL   \n",
       "...                                                  ...   ...   \n",
       "17245    Coalition for Epidemic Preparedness Innovations   ALL   \n",
       "17249                                      Syneos Health   ALL   \n",
       "17251                                         Mylan GmbH   ALL   \n",
       "17254  National and Kapodistrian University of Athens...  MALE   \n",
       "17260                              Eli Lilly and Company   ALL   \n",
       "\n",
       "                      Age         Phases Enrollment Funder Type  \\\n",
       "4      ADULT, OLDER_ADULT         PHASE3        778    INDUSTRY   \n",
       "15     ADULT, OLDER_ADULT         PHASE3        128       OTHER   \n",
       "16     ADULT, OLDER_ADULT         PHASE3         44       OTHER   \n",
       "17     ADULT, OLDER_ADULT         PHASE2         21       OTHER   \n",
       "38     ADULT, OLDER_ADULT         PHASE2         34    INDUSTRY   \n",
       "...                   ...            ...        ...         ...   \n",
       "17245  ADULT, OLDER_ADULT  PHASE1|PHASE2        260    INDUSTRY   \n",
       "17249  ADULT, OLDER_ADULT         PHASE3        445    INDUSTRY   \n",
       "17251  ADULT, OLDER_ADULT         PHASE3        478    INDUSTRY   \n",
       "17254               ADULT         PHASE2         36       OTHER   \n",
       "17260               ADULT         PHASE1         30    INDUSTRY   \n",
       "\n",
       "           Study Type                                       Study Design  \\\n",
       "4      INTERVENTIONAL  Allocation: RANDOMIZED|Intervention Model: PAR...   \n",
       "15     INTERVENTIONAL  Allocation: RANDOMIZED|Intervention Model: PAR...   \n",
       "16     INTERVENTIONAL  Allocation: RANDOMIZED|Intervention Model: PAR...   \n",
       "17     INTERVENTIONAL  Allocation: NA|Intervention Model: SINGLE_GROU...   \n",
       "38     INTERVENTIONAL  Allocation: NON_RANDOMIZED|Intervention Model:...   \n",
       "...               ...                                                ...   \n",
       "17245  INTERVENTIONAL  Allocation: RANDOMIZED|Intervention Model: PAR...   \n",
       "17249  INTERVENTIONAL  Allocation: RANDOMIZED|Intervention Model: PAR...   \n",
       "17251  INTERVENTIONAL  Allocation: RANDOMIZED|Intervention Model: PAR...   \n",
       "17254  INTERVENTIONAL  Allocation: RANDOMIZED|Intervention Model: PAR...   \n",
       "17260  INTERVENTIONAL  Allocation: RANDOMIZED|Intervention Model: CRO...   \n",
       "\n",
       "                                               Locations  \n",
       "4      University of Arizona Arthritis Center, Gilber...  \n",
       "15     Haukeland University Hospital, Bergen, Norway|...  \n",
       "16     University of Michigan, Ann Arbor, Michigan, 4...  \n",
       "17     M D Anderson Cancer Center, Houston, Texas, 77...  \n",
       "38     Sun Yat-sen University Cancer Center, Guangzho...  \n",
       "...                                                  ...  \n",
       "17245  Korea University Ansan Hospital, Ansan, Korea,...  \n",
       "17249  Fakultni Nemocnice u Sv. Anny - FNUSA, Brno, 6...  \n",
       "17251  Endocrinology Associates Montgomery, Montgomer...  \n",
       "17254  European University Cyprus, Nicosia, 1516, Cyp...  \n",
       "17260  Humanpharmakologisches Zentrum Biberach, Biber...  \n",
       "\n",
       "[1873 rows x 14 columns]>"
      ]
     },
     "execution_count": 32,
     "metadata": {},
     "output_type": "execute_result"
    }
   ],
   "source": [
    "df_cleaned.info"
   ]
  },
  {
   "cell_type": "code",
   "execution_count": 33,
   "id": "a1e641ae",
   "metadata": {
    "execution": {
     "iopub.execute_input": "2025-01-04T16:02:33.022603Z",
     "iopub.status.busy": "2025-01-04T16:02:33.022388Z",
     "iopub.status.idle": "2025-01-04T16:02:33.028602Z",
     "shell.execute_reply": "2025-01-04T16:02:33.027916Z"
    },
    "papermill": {
     "duration": 0.025056,
     "end_time": "2025-01-04T16:02:33.029919",
     "exception": false,
     "start_time": "2025-01-04T16:02:33.004863",
     "status": "completed"
    },
    "tags": []
   },
   "outputs": [
    {
     "data": {
      "text/plain": [
       "Study Results\n",
       "NO                                                                                                                                                                                                                                                                                                                                                                                                               1196\n",
       "YES                                                                                                                                                                                                                                                                                                                                                                                                               645\n",
       " and scaling                                                                                                                                                                                                                                                                                                                                                                                                        1\n",
       " peripheral vision) plus a single-item general health rating question. The score of each individual question ranged from 0 (worst) to 100 which indicated the best possible response. The composite score and score of each construct also ranged from 0 to 100 as they were calculated as total scores divided by the number of questions. The higher the values of total scores represented better outcome.       1\n",
       " alkaline phosphatase                                                                                                                                                                                                                                                                                                                                                                                               1\n",
       " or that begins during infusion of IP or within 72 h following the end of IP infusion                                                                                                                                                                                                                                                                                                                               1\n",
       " from 0 to 4 hours (AUC0-4h) of a mixed meal tolerance test (MMTT) stimulated C-peptide at week 80 is presented as ratio to baseline. AUC of C-peptide was measured as Nano moles\\*hour per liter (nmol\\*h/L).                                                                                                                                                                                                      1\n",
       " Oradea                                                                                                                                                                                                                                                                                                                                                                                                             1\n",
       " severity                                                                                                                                                                                                                                                                                                                                                                                                           1\n",
       " 37-48                                                                                                                                                                                                                                                                                                                                                                                                              1\n",
       " Liverpool                                                                                                                                                                                                                                                                                                                                                                                                          1\n",
       " Middletown                                                                                                                                                                                                                                                                                                                                                                                                         1\n",
       "12                                                                                                                                                                                                                                                                                                                                                                                                                  1\n",
       " refer to outcome n°46 for the overall (across age strata) post-dose 2 results.                                                                                                                                                                                                                                                                                                                                     1\n",
       "69076                                                                                                                                                                                                                                                                                                                                                                                                               1\n",
       " on which the participant self-assesses their current health status; 0 being the worst health you can imagine and 100 being the best health you can imagine. Higher scores are reflective of better health.                                                                                                                                                                                                         1\n",
       " right-backward (135°)                                                                                                                                                                                                                                                                                                                                                                                              1\n",
       "8                                                                                                                                                                                                                                                                                                                                                                                                                   1\n",
       " Best Corrected Visual Acuity (BCVA) was measured on the Early Treatment Diabetic Retinopathy Study (ETDRS) chart at a starting distance of 4 meters. The BCVA letter score ranges from 0 to 100 (best score)                                                                                                                                                                                                       1\n",
       "99336                                                                                                                                                                                                                                                                                                                                                                                                               1\n",
       " Physical examination parameters are categorised as general appearance; nervous system (central and peripheral); cardiovascular system; gastrointestinal system; skin; respiratory system; lymph node palpation; thyroid gland; left foot; right foot; left leg and right leg. The number of participants assessed as normal                                                                                        1\n",
       "32                                                                                                                                                                                                                                                                                                                                                                                                                  1\n",
       " Gwangju                                                                                                                                                                                                                                                                                                                                                                                                            1\n",
       " Neutrophils                                                                                                                                                                                                                                                                                                                                                                                                        1\n",
       " or discontinued study agent due to lack of therapeutic effect or due to an AE of worsening of UC prior to Week 44 had their Week 0 value of the induction study carried forward or who had all 4 Mayo subscores missing at Week 44 had their last available individual Mayo subscores carried forward. Endoscopy subscore as assessed during central review of video of endoscopy was used.                        1\n",
       " and pregnancy/neonatal related. Multiple occurrences of AEs were counted only once per participant. LVEF = left ventricular ejection fraction                                                                                                                                                                                                                                                                      1\n",
       " measured with the Mobil-O-Graph® PWA. Measurements analysed at timepoints t1 (t1 = mean of the measurements recorded from minute 1-10 of the pre-intervention rest period)                                                                                                                                                                                                                                         1\n",
       " Cycle 1 Day 2: post dose; Cycle 2 and 4 Day 1: pre-dose and post dose|Plasma Concentration of Polatuzumab Vedotin Analyte: Unconjugated MMAE                                                                                                                                                                                                                                                                       1\n",
       " Blood samples were collected at indicated time points for the analysis of hematology parameter erythrocytes mean corpuscular volume. Baseline is defined as the latest pre-dose assessment with a non-missing value                                                                                                                                                                                                1\n",
       " In case of inadequate pain relief                                                                                                                                                                                                                                                                                                                                                                                  1\n",
       " mild                                                                                                                                                                                                                                                                                                                                                                                                               1\n",
       " lower extremities. Each area was assessed separately for percentage of area involved and translated to numeric score ranging from 0 (no involvement) to 6 (90 to 100% involvement)                                                                                                                                                                                                                                 1\n",
       " Up to Day 33|Number of Participants With Abnormal Electrocardiogram (ECG) Findings in Part 1                                                                                                                                                                                                                                                                                                                       1\n",
       "1.5                                                                                                                                                                                                                                                                                                                                                                                                                 1\n",
       "Name: count, dtype: int64"
      ]
     },
     "execution_count": 33,
     "metadata": {},
     "output_type": "execute_result"
    }
   ],
   "source": [
    "df_cleaned['Study Results'].value_counts()"
   ]
  },
  {
   "cell_type": "code",
   "execution_count": 34,
   "id": "42570861",
   "metadata": {
    "execution": {
     "iopub.execute_input": "2025-01-04T16:02:33.065829Z",
     "iopub.status.busy": "2025-01-04T16:02:33.065600Z",
     "iopub.status.idle": "2025-01-04T16:02:33.072314Z",
     "shell.execute_reply": "2025-01-04T16:02:33.071642Z"
    },
    "papermill": {
     "duration": 0.025379,
     "end_time": "2025-01-04T16:02:33.073406",
     "exception": false,
     "start_time": "2025-01-04T16:02:33.048027",
     "status": "completed"
    },
    "tags": []
   },
   "outputs": [
    {
     "data": {
      "text/plain": [
       "Interventions\n",
       "DRUG: Pembrolizumab                                                                                                                 3\n",
       "DRUG: Selpercatinib                                                                                                                 2\n",
       "DRUG: Enzalutamide                                                                                                                  2\n",
       "DRUG: Trastuzumab deruxtecan                                                                                                        2\n",
       "DRUG: IDP-118 Lotion|DRUG: IDP-118 Vehicle Lotion                                                                                   2\n",
       "                                                                                                                                   ..\n",
       "BEHAVIORAL: Feel-Good- Group                                                                                                        1\n",
       "BIOLOGICAL: AK101|BIOLOGICAL: placebo                                                                                               1\n",
       "DRUG: amobarbital/Gel-One (one dose)|DRUG: Placebo (single dose)|DRUG: amobarbital/Gel-One (two doses)|DRUG: Placebo (two doses)    1\n",
       "DRUG: Hecolin|DRUG: Hepa-B                                                                                                          1\n",
       "BIOLOGICAL: F-627 240 μg/kg|BIOLOGICAL: F-627 320 μg/kg                                                                             1\n",
       "Name: count, Length: 1838, dtype: int64"
      ]
     },
     "execution_count": 34,
     "metadata": {},
     "output_type": "execute_result"
    }
   ],
   "source": [
    "df_cleaned['Interventions'].value_counts()"
   ]
  },
  {
   "cell_type": "code",
   "execution_count": 35,
   "id": "8a49f551",
   "metadata": {
    "execution": {
     "iopub.execute_input": "2025-01-04T16:02:33.108672Z",
     "iopub.status.busy": "2025-01-04T16:02:33.108461Z",
     "iopub.status.idle": "2025-01-04T16:02:33.112675Z",
     "shell.execute_reply": "2025-01-04T16:02:33.112079Z"
    },
    "papermill": {
     "duration": 0.023208,
     "end_time": "2025-01-04T16:02:33.113782",
     "exception": false,
     "start_time": "2025-01-04T16:02:33.090574",
     "status": "completed"
    },
    "tags": []
   },
   "outputs": [
    {
     "data": {
      "text/plain": [
       "dtype('O')"
      ]
     },
     "execution_count": 35,
     "metadata": {},
     "output_type": "execute_result"
    }
   ],
   "source": [
    "df_cleaned['Interventions'].dtype"
   ]
  },
  {
   "cell_type": "code",
   "execution_count": 36,
   "id": "18c638a0",
   "metadata": {
    "execution": {
     "iopub.execute_input": "2025-01-04T16:02:33.149055Z",
     "iopub.status.busy": "2025-01-04T16:02:33.148861Z",
     "iopub.status.idle": "2025-01-04T16:02:33.155342Z",
     "shell.execute_reply": "2025-01-04T16:02:33.154576Z"
    },
    "papermill": {
     "duration": 0.025474,
     "end_time": "2025-01-04T16:02:33.156817",
     "exception": false,
     "start_time": "2025-01-04T16:02:33.131343",
     "status": "completed"
    },
    "tags": []
   },
   "outputs": [
    {
     "data": {
      "text/plain": [
       "Interventions\n",
       "DRUG: Pembrolizumab                                                                                                                 3\n",
       "DRUG: Selpercatinib                                                                                                                 2\n",
       "DRUG: Enzalutamide                                                                                                                  2\n",
       "DRUG: Trastuzumab deruxtecan                                                                                                        2\n",
       "DRUG: IDP-118 Lotion|DRUG: IDP-118 Vehicle Lotion                                                                                   2\n",
       "                                                                                                                                   ..\n",
       "BEHAVIORAL: Feel-Good- Group                                                                                                        1\n",
       "BIOLOGICAL: AK101|BIOLOGICAL: placebo                                                                                               1\n",
       "DRUG: amobarbital/Gel-One (one dose)|DRUG: Placebo (single dose)|DRUG: amobarbital/Gel-One (two doses)|DRUG: Placebo (two doses)    1\n",
       "DRUG: Hecolin|DRUG: Hepa-B                                                                                                          1\n",
       "BIOLOGICAL: F-627 240 μg/kg|BIOLOGICAL: F-627 320 μg/kg                                                                             1\n",
       "Name: count, Length: 1838, dtype: int64"
      ]
     },
     "execution_count": 36,
     "metadata": {},
     "output_type": "execute_result"
    }
   ],
   "source": [
    "(df_cleaned['Interventions'].value_counts())"
   ]
  },
  {
   "cell_type": "code",
   "execution_count": 37,
   "id": "cafdf049",
   "metadata": {
    "execution": {
     "iopub.execute_input": "2025-01-04T16:02:33.192294Z",
     "iopub.status.busy": "2025-01-04T16:02:33.192078Z",
     "iopub.status.idle": "2025-01-04T16:02:33.197824Z",
     "shell.execute_reply": "2025-01-04T16:02:33.197209Z"
    },
    "papermill": {
     "duration": 0.025028,
     "end_time": "2025-01-04T16:02:33.199031",
     "exception": false,
     "start_time": "2025-01-04T16:02:33.174003",
     "status": "completed"
    },
    "tags": []
   },
   "outputs": [],
   "source": [
    "df_cleaned['Interventions_Numeric'] = df_cleaned['Interventions'].astype('category').cat.codes"
   ]
  },
  {
   "cell_type": "code",
   "execution_count": 38,
   "id": "61f0eeb0",
   "metadata": {
    "execution": {
     "iopub.execute_input": "2025-01-04T16:02:33.234338Z",
     "iopub.status.busy": "2025-01-04T16:02:33.234127Z",
     "iopub.status.idle": "2025-01-04T16:02:33.240331Z",
     "shell.execute_reply": "2025-01-04T16:02:33.239650Z"
    },
    "papermill": {
     "duration": 0.024991,
     "end_time": "2025-01-04T16:02:33.241442",
     "exception": false,
     "start_time": "2025-01-04T16:02:33.216451",
     "status": "completed"
    },
    "tags": []
   },
   "outputs": [
    {
     "data": {
      "text/plain": [
       "Interventions\n",
       "DRUG: Pembrolizumab                                                                                                                 3\n",
       "DRUG: Selpercatinib                                                                                                                 2\n",
       "DRUG: Enzalutamide                                                                                                                  2\n",
       "DRUG: Trastuzumab deruxtecan                                                                                                        2\n",
       "DRUG: IDP-118 Lotion|DRUG: IDP-118 Vehicle Lotion                                                                                   2\n",
       "                                                                                                                                   ..\n",
       "BEHAVIORAL: Feel-Good- Group                                                                                                        1\n",
       "BIOLOGICAL: AK101|BIOLOGICAL: placebo                                                                                               1\n",
       "DRUG: amobarbital/Gel-One (one dose)|DRUG: Placebo (single dose)|DRUG: amobarbital/Gel-One (two doses)|DRUG: Placebo (two doses)    1\n",
       "DRUG: Hecolin|DRUG: Hepa-B                                                                                                          1\n",
       "BIOLOGICAL: F-627 240 μg/kg|BIOLOGICAL: F-627 320 μg/kg                                                                             1\n",
       "Name: count, Length: 1838, dtype: int64"
      ]
     },
     "execution_count": 38,
     "metadata": {},
     "output_type": "execute_result"
    }
   ],
   "source": [
    "df_cleaned['Interventions'].value_counts()"
   ]
  },
  {
   "cell_type": "code",
   "execution_count": 39,
   "id": "649bd8f2",
   "metadata": {
    "execution": {
     "iopub.execute_input": "2025-01-04T16:02:33.277282Z",
     "iopub.status.busy": "2025-01-04T16:02:33.277079Z",
     "iopub.status.idle": "2025-01-04T16:02:33.281870Z",
     "shell.execute_reply": "2025-01-04T16:02:33.281201Z"
    },
    "papermill": {
     "duration": 0.024157,
     "end_time": "2025-01-04T16:02:33.283004",
     "exception": false,
     "start_time": "2025-01-04T16:02:33.258847",
     "status": "completed"
    },
    "tags": []
   },
   "outputs": [
    {
     "data": {
      "text/plain": [
       "<bound method Series.info of 4        YES\n",
       "15        NO\n",
       "16       YES\n",
       "17       YES\n",
       "38        NO\n",
       "        ... \n",
       "17245     NO\n",
       "17249     NO\n",
       "17251    YES\n",
       "17254     NO\n",
       "17260    YES\n",
       "Name: Study Results, Length: 1873, dtype: object>"
      ]
     },
     "execution_count": 39,
     "metadata": {},
     "output_type": "execute_result"
    }
   ],
   "source": [
    "df_cleaned['Study Results'].info"
   ]
  },
  {
   "cell_type": "code",
   "execution_count": 40,
   "id": "a0764881",
   "metadata": {
    "execution": {
     "iopub.execute_input": "2025-01-04T16:02:33.318992Z",
     "iopub.status.busy": "2025-01-04T16:02:33.318795Z",
     "iopub.status.idle": "2025-01-04T16:02:33.326441Z",
     "shell.execute_reply": "2025-01-04T16:02:33.325542Z"
    },
    "papermill": {
     "duration": 0.026806,
     "end_time": "2025-01-04T16:02:33.327612",
     "exception": false,
     "start_time": "2025-01-04T16:02:33.300806",
     "status": "completed"
    },
    "tags": []
   },
   "outputs": [
    {
     "name": "stdout",
     "output_type": "stream",
     "text": [
      "   Study Results\n",
      "0              1\n",
      "1              0\n",
      "2              1\n",
      "3              1\n",
      "4              0\n",
      "5              0\n",
      "6              1\n",
      "7              0\n",
      "8              1\n"
     ]
    }
   ],
   "source": [
    "import pandas as pd\n",
    "\n",
    "# Assuming 'df' is your DataFrame with the 'Study Results' column\n",
    "# Example column data\n",
    "data = {\n",
    "    'Study Results': ['YES', 'NO', 'YES', 'YES', 'NO', 'NO', 'YES', 'NO', 'YES']\n",
    "}\n",
    "df = pd.DataFrame(data)\n",
    "\n",
    "# Map categorical values to numerical\n",
    "df['Study Results'] = df['Study Results'].map({'YES': 1, 'NO': 0})\n",
    "\n",
    "# Display the updated DataFrame\n",
    "print(df)\n"
   ]
  },
  {
   "cell_type": "code",
   "execution_count": 41,
   "id": "3e6c01ff",
   "metadata": {
    "execution": {
     "iopub.execute_input": "2025-01-04T16:02:33.364062Z",
     "iopub.status.busy": "2025-01-04T16:02:33.363845Z",
     "iopub.status.idle": "2025-01-04T16:02:33.368094Z",
     "shell.execute_reply": "2025-01-04T16:02:33.367335Z"
    },
    "papermill": {
     "duration": 0.023971,
     "end_time": "2025-01-04T16:02:33.369310",
     "exception": false,
     "start_time": "2025-01-04T16:02:33.345339",
     "status": "completed"
    },
    "tags": []
   },
   "outputs": [
    {
     "data": {
      "text/plain": [
       "dtype('O')"
      ]
     },
     "execution_count": 41,
     "metadata": {},
     "output_type": "execute_result"
    }
   ],
   "source": [
    "df_cleaned['Study Results'].dtype"
   ]
  },
  {
   "cell_type": "code",
   "execution_count": 42,
   "id": "737741c6",
   "metadata": {
    "execution": {
     "iopub.execute_input": "2025-01-04T16:02:33.405735Z",
     "iopub.status.busy": "2025-01-04T16:02:33.405480Z",
     "iopub.status.idle": "2025-01-04T16:02:33.411441Z",
     "shell.execute_reply": "2025-01-04T16:02:33.410683Z"
    },
    "papermill": {
     "duration": 0.02525,
     "end_time": "2025-01-04T16:02:33.412538",
     "exception": false,
     "start_time": "2025-01-04T16:02:33.387288",
     "status": "completed"
    },
    "tags": []
   },
   "outputs": [
    {
     "data": {
      "text/plain": [
       "Study Results\n",
       "NO                                                                                                                                                                                                                                                                                                                                                                                                               1196\n",
       "YES                                                                                                                                                                                                                                                                                                                                                                                                               645\n",
       " and scaling                                                                                                                                                                                                                                                                                                                                                                                                        1\n",
       " peripheral vision) plus a single-item general health rating question. The score of each individual question ranged from 0 (worst) to 100 which indicated the best possible response. The composite score and score of each construct also ranged from 0 to 100 as they were calculated as total scores divided by the number of questions. The higher the values of total scores represented better outcome.       1\n",
       " alkaline phosphatase                                                                                                                                                                                                                                                                                                                                                                                               1\n",
       " or that begins during infusion of IP or within 72 h following the end of IP infusion                                                                                                                                                                                                                                                                                                                               1\n",
       " from 0 to 4 hours (AUC0-4h) of a mixed meal tolerance test (MMTT) stimulated C-peptide at week 80 is presented as ratio to baseline. AUC of C-peptide was measured as Nano moles\\*hour per liter (nmol\\*h/L).                                                                                                                                                                                                      1\n",
       " Oradea                                                                                                                                                                                                                                                                                                                                                                                                             1\n",
       " severity                                                                                                                                                                                                                                                                                                                                                                                                           1\n",
       " 37-48                                                                                                                                                                                                                                                                                                                                                                                                              1\n",
       " Liverpool                                                                                                                                                                                                                                                                                                                                                                                                          1\n",
       " Middletown                                                                                                                                                                                                                                                                                                                                                                                                         1\n",
       "12                                                                                                                                                                                                                                                                                                                                                                                                                  1\n",
       " refer to outcome n°46 for the overall (across age strata) post-dose 2 results.                                                                                                                                                                                                                                                                                                                                     1\n",
       "69076                                                                                                                                                                                                                                                                                                                                                                                                               1\n",
       " on which the participant self-assesses their current health status; 0 being the worst health you can imagine and 100 being the best health you can imagine. Higher scores are reflective of better health.                                                                                                                                                                                                         1\n",
       " right-backward (135°)                                                                                                                                                                                                                                                                                                                                                                                              1\n",
       "8                                                                                                                                                                                                                                                                                                                                                                                                                   1\n",
       " Best Corrected Visual Acuity (BCVA) was measured on the Early Treatment Diabetic Retinopathy Study (ETDRS) chart at a starting distance of 4 meters. The BCVA letter score ranges from 0 to 100 (best score)                                                                                                                                                                                                       1\n",
       "99336                                                                                                                                                                                                                                                                                                                                                                                                               1\n",
       " Physical examination parameters are categorised as general appearance; nervous system (central and peripheral); cardiovascular system; gastrointestinal system; skin; respiratory system; lymph node palpation; thyroid gland; left foot; right foot; left leg and right leg. The number of participants assessed as normal                                                                                        1\n",
       "32                                                                                                                                                                                                                                                                                                                                                                                                                  1\n",
       " Gwangju                                                                                                                                                                                                                                                                                                                                                                                                            1\n",
       " Neutrophils                                                                                                                                                                                                                                                                                                                                                                                                        1\n",
       " or discontinued study agent due to lack of therapeutic effect or due to an AE of worsening of UC prior to Week 44 had their Week 0 value of the induction study carried forward or who had all 4 Mayo subscores missing at Week 44 had their last available individual Mayo subscores carried forward. Endoscopy subscore as assessed during central review of video of endoscopy was used.                        1\n",
       " and pregnancy/neonatal related. Multiple occurrences of AEs were counted only once per participant. LVEF = left ventricular ejection fraction                                                                                                                                                                                                                                                                      1\n",
       " measured with the Mobil-O-Graph® PWA. Measurements analysed at timepoints t1 (t1 = mean of the measurements recorded from minute 1-10 of the pre-intervention rest period)                                                                                                                                                                                                                                         1\n",
       " Cycle 1 Day 2: post dose; Cycle 2 and 4 Day 1: pre-dose and post dose|Plasma Concentration of Polatuzumab Vedotin Analyte: Unconjugated MMAE                                                                                                                                                                                                                                                                       1\n",
       " Blood samples were collected at indicated time points for the analysis of hematology parameter erythrocytes mean corpuscular volume. Baseline is defined as the latest pre-dose assessment with a non-missing value                                                                                                                                                                                                1\n",
       " In case of inadequate pain relief                                                                                                                                                                                                                                                                                                                                                                                  1\n",
       " mild                                                                                                                                                                                                                                                                                                                                                                                                               1\n",
       " lower extremities. Each area was assessed separately for percentage of area involved and translated to numeric score ranging from 0 (no involvement) to 6 (90 to 100% involvement)                                                                                                                                                                                                                                 1\n",
       " Up to Day 33|Number of Participants With Abnormal Electrocardiogram (ECG) Findings in Part 1                                                                                                                                                                                                                                                                                                                       1\n",
       "1.5                                                                                                                                                                                                                                                                                                                                                                                                                 1\n",
       "Name: count, dtype: int64"
      ]
     },
     "execution_count": 42,
     "metadata": {},
     "output_type": "execute_result"
    }
   ],
   "source": [
    "df_cleaned['Study Results'].value_counts()"
   ]
  },
  {
   "cell_type": "code",
   "execution_count": 43,
   "id": "3361a8b2",
   "metadata": {
    "execution": {
     "iopub.execute_input": "2025-01-04T16:02:33.449727Z",
     "iopub.status.busy": "2025-01-04T16:02:33.449468Z",
     "iopub.status.idle": "2025-01-04T16:02:33.458357Z",
     "shell.execute_reply": "2025-01-04T16:02:33.457520Z"
    },
    "papermill": {
     "duration": 0.028549,
     "end_time": "2025-01-04T16:02:33.459513",
     "exception": false,
     "start_time": "2025-01-04T16:02:33.430964",
     "status": "completed"
    },
    "tags": []
   },
   "outputs": [],
   "source": [
    "df_one_hot = pd.get_dummies(df_cleaned, columns=['Study Results'])"
   ]
  },
  {
   "cell_type": "code",
   "execution_count": 44,
   "id": "d34f5a63",
   "metadata": {
    "execution": {
     "iopub.execute_input": "2025-01-04T16:02:33.496477Z",
     "iopub.status.busy": "2025-01-04T16:02:33.496207Z",
     "iopub.status.idle": "2025-01-04T16:02:33.500575Z",
     "shell.execute_reply": "2025-01-04T16:02:33.499821Z"
    },
    "papermill": {
     "duration": 0.02404,
     "end_time": "2025-01-04T16:02:33.501674",
     "exception": false,
     "start_time": "2025-01-04T16:02:33.477634",
     "status": "completed"
    },
    "tags": []
   },
   "outputs": [
    {
     "data": {
      "text/plain": [
       "dtype('O')"
      ]
     },
     "execution_count": 44,
     "metadata": {},
     "output_type": "execute_result"
    }
   ],
   "source": [
    "df_cleaned['Study Results'].dtype"
   ]
  },
  {
   "cell_type": "code",
   "execution_count": 45,
   "id": "bf825cf1",
   "metadata": {
    "execution": {
     "iopub.execute_input": "2025-01-04T16:02:33.538654Z",
     "iopub.status.busy": "2025-01-04T16:02:33.538434Z",
     "iopub.status.idle": "2025-01-04T16:02:33.591630Z",
     "shell.execute_reply": "2025-01-04T16:02:33.590682Z"
    },
    "papermill": {
     "duration": 0.073348,
     "end_time": "2025-01-04T16:02:33.593213",
     "exception": false,
     "start_time": "2025-01-04T16:02:33.519865",
     "status": "completed"
    },
    "tags": []
   },
   "outputs": [
    {
     "name": "stdout",
     "output_type": "stream",
     "text": [
      "      Study Status  Study Results  \\\n",
      "4        COMPLETED              0   \n",
      "15       COMPLETED              0   \n",
      "16       COMPLETED              0   \n",
      "17       COMPLETED              0   \n",
      "38       COMPLETED              0   \n",
      "...            ...            ...   \n",
      "17245    COMPLETED              0   \n",
      "17249    COMPLETED              0   \n",
      "17251    COMPLETED              0   \n",
      "17254    COMPLETED              0   \n",
      "17260    COMPLETED              0   \n",
      "\n",
      "                                              Conditions  \\\n",
      "4                           Systemic Lupus Erythematosus   \n",
      "15                                         Low Back Pain   \n",
      "16                          Delayed Sleep Phase Syndrome   \n",
      "17     Advanced Digestive System Neuroendocrine Neopl...   \n",
      "38                              Nasopharyngeal Carcinoma   \n",
      "...                                                  ...   \n",
      "17245                      COVID-19 (Healthy Volunteers)   \n",
      "17249                                            Allergy   \n",
      "17251                          Diabetes Mellitus, Type 1   \n",
      "17254                     Glutathione Metabolism Anemias   \n",
      "17260                                            Healthy   \n",
      "\n",
      "                                           Interventions  \\\n",
      "4                        DRUG: Baricitinib|DRUG: Placebo   \n",
      "15            DRUG: Biosimilar Infliximab|OTHER: Placebo   \n",
      "16     DRUG: Melatonin 0.5 MG|OTHER: Dim Light Melato...   \n",
      "17     OTHER: Laboratory Biomarker Analysis|OTHER: Ph...   \n",
      "38                                     BIOLOGICAL: AK104   \n",
      "...                                                  ...   \n",
      "17245  BIOLOGICAL: GBP510 adjuvanted with Alum (RBD 1...   \n",
      "17249         DRUG: 5-grass mix SLIT-drops|DRUG: Placebo   \n",
      "17251     DRUG: MYL-1601D Product|DRUG: FlexPen NovoLog®   \n",
      "17254               DRUG: N-acetylcysteine|DRUG: Lactose   \n",
      "17260  DRUG: Empagliflozin/linagliptin/metformin HCl|...   \n",
      "\n",
      "                                    Sponsor  \\\n",
      "4                     Eli Lilly and Company   \n",
      "15                 Oslo University Hospital   \n",
      "16                   University of Michigan   \n",
      "17              M.D. Anderson Cancer Center   \n",
      "38                                    Akeso   \n",
      "...                                     ...   \n",
      "17245               SK Bioscience Co., Ltd.   \n",
      "17249                        ALK-Abelló A/S   \n",
      "17251                            Mylan Inc.   \n",
      "17254  Aristotle University Of Thessaloniki   \n",
      "17260                  Boehringer Ingelheim   \n",
      "\n",
      "                                           Collaborators   Sex  \\\n",
      "4                                     Incyte Corporation   ALL   \n",
      "15     Haukeland University Hospital|St. Olavs Hospit...   ALL   \n",
      "16                    American Academy of Sleep Medicine   ALL   \n",
      "17              National Cancer Institute (NCI)|Novartis   ALL   \n",
      "38                           Akeso Pharmaceuticals, Inc.   ALL   \n",
      "...                                                  ...   ...   \n",
      "17245    Coalition for Epidemic Preparedness Innovations   ALL   \n",
      "17249                                      Syneos Health   ALL   \n",
      "17251                                         Mylan GmbH   ALL   \n",
      "17254  National and Kapodistrian University of Athens...  MALE   \n",
      "17260                              Eli Lilly and Company   ALL   \n",
      "\n",
      "                      Age         Phases Enrollment Funder Type  \\\n",
      "4      ADULT, OLDER_ADULT         PHASE3        778    INDUSTRY   \n",
      "15     ADULT, OLDER_ADULT         PHASE3        128       OTHER   \n",
      "16     ADULT, OLDER_ADULT         PHASE3         44       OTHER   \n",
      "17     ADULT, OLDER_ADULT         PHASE2         21       OTHER   \n",
      "38     ADULT, OLDER_ADULT         PHASE2         34    INDUSTRY   \n",
      "...                   ...            ...        ...         ...   \n",
      "17245  ADULT, OLDER_ADULT  PHASE1|PHASE2        260    INDUSTRY   \n",
      "17249  ADULT, OLDER_ADULT         PHASE3        445    INDUSTRY   \n",
      "17251  ADULT, OLDER_ADULT         PHASE3        478    INDUSTRY   \n",
      "17254               ADULT         PHASE2         36       OTHER   \n",
      "17260               ADULT         PHASE1         30    INDUSTRY   \n",
      "\n",
      "           Study Type                                       Study Design  \\\n",
      "4      INTERVENTIONAL  Allocation: RANDOMIZED|Intervention Model: PAR...   \n",
      "15     INTERVENTIONAL  Allocation: RANDOMIZED|Intervention Model: PAR...   \n",
      "16     INTERVENTIONAL  Allocation: RANDOMIZED|Intervention Model: PAR...   \n",
      "17     INTERVENTIONAL  Allocation: NA|Intervention Model: SINGLE_GROU...   \n",
      "38     INTERVENTIONAL  Allocation: NON_RANDOMIZED|Intervention Model:...   \n",
      "...               ...                                                ...   \n",
      "17245  INTERVENTIONAL  Allocation: RANDOMIZED|Intervention Model: PAR...   \n",
      "17249  INTERVENTIONAL  Allocation: RANDOMIZED|Intervention Model: PAR...   \n",
      "17251  INTERVENTIONAL  Allocation: RANDOMIZED|Intervention Model: PAR...   \n",
      "17254  INTERVENTIONAL  Allocation: RANDOMIZED|Intervention Model: PAR...   \n",
      "17260  INTERVENTIONAL  Allocation: RANDOMIZED|Intervention Model: CRO...   \n",
      "\n",
      "                                               Locations  \\\n",
      "4      University of Arizona Arthritis Center, Gilber...   \n",
      "15     Haukeland University Hospital, Bergen, Norway|...   \n",
      "16     University of Michigan, Ann Arbor, Michigan, 4...   \n",
      "17     M D Anderson Cancer Center, Houston, Texas, 77...   \n",
      "38     Sun Yat-sen University Cancer Center, Guangzho...   \n",
      "...                                                  ...   \n",
      "17245  Korea University Ansan Hospital, Ansan, Korea,...   \n",
      "17249  Fakultni Nemocnice u Sv. Anny - FNUSA, Brno, 6...   \n",
      "17251  Endocrinology Associates Montgomery, Montgomer...   \n",
      "17254  European University Cyprus, Nicosia, 1516, Cyp...   \n",
      "17260  Humanpharmakologisches Zentrum Biberach, Biber...   \n",
      "\n",
      "       Interventions_Numeric  \n",
      "4                        663  \n",
      "15                       677  \n",
      "16                      1200  \n",
      "17                      1792  \n",
      "38                        77  \n",
      "...                      ...  \n",
      "17245                    173  \n",
      "17249                    480  \n",
      "17251                   1194  \n",
      "17254                   1235  \n",
      "17260                    897  \n",
      "\n",
      "[1873 rows x 15 columns]\n"
     ]
    }
   ],
   "source": [
    "# Assuming 'df_cleaned' is your DataFrame\n",
    "# Replace NaN and empty values\n",
    "df_cleaned = df_cleaned[df_cleaned['Study Results'].notna() & (df_cleaned['Study Results'] != '')]\n",
    "df_cleaned['Study Results'] = df_cleaned['Study Results'].fillna('0')\n",
    "\n",
    "# Convert column to string to standardize\n",
    "df_cleaned['Study Results'] = df_cleaned['Study Results'].astype(str)\n",
    "\n",
    "# Convert strings to numeric where possible (ignore errors)\n",
    "df_cleaned['Study Results'] = pd.to_numeric(df_cleaned['Study Results'], errors='coerce')\n",
    "\n",
    "# Dynamically update values based on their frequency\n",
    "name_counts = df_cleaned['Study Results'].value_counts()\n",
    "\n",
    "# Loop from 1 to 20 and skip NaN values explicitly\n",
    "for i in range(1, 21):\n",
    "    df_cleaned['Study Results'] = df_cleaned['Study Results'].apply(\n",
    "        lambda x: i if pd.notna(x) and name_counts.get(x, 0) == i else x\n",
    "    )\n",
    "    name_counts = df_cleaned['Study Results'].value_counts()\n",
    "\n",
    "# Convert back to integer (after handling non-convertible values)\n",
    "df_cleaned['Study Results'] = df_cleaned['Study Results'].fillna(0).astype(int)\n",
    "\n",
    "# Display the cleaned DataFrame\n",
    "print(df_cleaned)\n"
   ]
  },
  {
   "cell_type": "code",
   "execution_count": 46,
   "id": "d1d750b6",
   "metadata": {
    "execution": {
     "iopub.execute_input": "2025-01-04T16:02:33.632045Z",
     "iopub.status.busy": "2025-01-04T16:02:33.631835Z",
     "iopub.status.idle": "2025-01-04T16:02:33.636332Z",
     "shell.execute_reply": "2025-01-04T16:02:33.635421Z"
    },
    "papermill": {
     "duration": 0.024858,
     "end_time": "2025-01-04T16:02:33.637582",
     "exception": false,
     "start_time": "2025-01-04T16:02:33.612724",
     "status": "completed"
    },
    "tags": []
   },
   "outputs": [
    {
     "data": {
      "text/plain": [
       "dtype('int64')"
      ]
     },
     "execution_count": 46,
     "metadata": {},
     "output_type": "execute_result"
    }
   ],
   "source": [
    "df_cleaned['Study Results'].dtype"
   ]
  },
  {
   "cell_type": "code",
   "execution_count": 47,
   "id": "f43343f5",
   "metadata": {
    "execution": {
     "iopub.execute_input": "2025-01-04T16:02:33.675774Z",
     "iopub.status.busy": "2025-01-04T16:02:33.675484Z",
     "iopub.status.idle": "2025-01-04T16:02:33.685877Z",
     "shell.execute_reply": "2025-01-04T16:02:33.685049Z"
    },
    "papermill": {
     "duration": 0.030856,
     "end_time": "2025-01-04T16:02:33.687073",
     "exception": false,
     "start_time": "2025-01-04T16:02:33.656217",
     "status": "completed"
    },
    "tags": []
   },
   "outputs": [
    {
     "data": {
      "text/plain": [
       "<bound method DataFrame.info of       Study Status  Study Results  \\\n",
       "4        COMPLETED              0   \n",
       "15       COMPLETED              0   \n",
       "16       COMPLETED              0   \n",
       "17       COMPLETED              0   \n",
       "38       COMPLETED              0   \n",
       "...            ...            ...   \n",
       "17245    COMPLETED              0   \n",
       "17249    COMPLETED              0   \n",
       "17251    COMPLETED              0   \n",
       "17254    COMPLETED              0   \n",
       "17260    COMPLETED              0   \n",
       "\n",
       "                                              Conditions  \\\n",
       "4                           Systemic Lupus Erythematosus   \n",
       "15                                         Low Back Pain   \n",
       "16                          Delayed Sleep Phase Syndrome   \n",
       "17     Advanced Digestive System Neuroendocrine Neopl...   \n",
       "38                              Nasopharyngeal Carcinoma   \n",
       "...                                                  ...   \n",
       "17245                      COVID-19 (Healthy Volunteers)   \n",
       "17249                                            Allergy   \n",
       "17251                          Diabetes Mellitus, Type 1   \n",
       "17254                     Glutathione Metabolism Anemias   \n",
       "17260                                            Healthy   \n",
       "\n",
       "                                           Interventions  \\\n",
       "4                        DRUG: Baricitinib|DRUG: Placebo   \n",
       "15            DRUG: Biosimilar Infliximab|OTHER: Placebo   \n",
       "16     DRUG: Melatonin 0.5 MG|OTHER: Dim Light Melato...   \n",
       "17     OTHER: Laboratory Biomarker Analysis|OTHER: Ph...   \n",
       "38                                     BIOLOGICAL: AK104   \n",
       "...                                                  ...   \n",
       "17245  BIOLOGICAL: GBP510 adjuvanted with Alum (RBD 1...   \n",
       "17249         DRUG: 5-grass mix SLIT-drops|DRUG: Placebo   \n",
       "17251     DRUG: MYL-1601D Product|DRUG: FlexPen NovoLog®   \n",
       "17254               DRUG: N-acetylcysteine|DRUG: Lactose   \n",
       "17260  DRUG: Empagliflozin/linagliptin/metformin HCl|...   \n",
       "\n",
       "                                    Sponsor  \\\n",
       "4                     Eli Lilly and Company   \n",
       "15                 Oslo University Hospital   \n",
       "16                   University of Michigan   \n",
       "17              M.D. Anderson Cancer Center   \n",
       "38                                    Akeso   \n",
       "...                                     ...   \n",
       "17245               SK Bioscience Co., Ltd.   \n",
       "17249                        ALK-Abelló A/S   \n",
       "17251                            Mylan Inc.   \n",
       "17254  Aristotle University Of Thessaloniki   \n",
       "17260                  Boehringer Ingelheim   \n",
       "\n",
       "                                           Collaborators   Sex  \\\n",
       "4                                     Incyte Corporation   ALL   \n",
       "15     Haukeland University Hospital|St. Olavs Hospit...   ALL   \n",
       "16                    American Academy of Sleep Medicine   ALL   \n",
       "17              National Cancer Institute (NCI)|Novartis   ALL   \n",
       "38                           Akeso Pharmaceuticals, Inc.   ALL   \n",
       "...                                                  ...   ...   \n",
       "17245    Coalition for Epidemic Preparedness Innovations   ALL   \n",
       "17249                                      Syneos Health   ALL   \n",
       "17251                                         Mylan GmbH   ALL   \n",
       "17254  National and Kapodistrian University of Athens...  MALE   \n",
       "17260                              Eli Lilly and Company   ALL   \n",
       "\n",
       "                      Age         Phases Enrollment Funder Type  \\\n",
       "4      ADULT, OLDER_ADULT         PHASE3        778    INDUSTRY   \n",
       "15     ADULT, OLDER_ADULT         PHASE3        128       OTHER   \n",
       "16     ADULT, OLDER_ADULT         PHASE3         44       OTHER   \n",
       "17     ADULT, OLDER_ADULT         PHASE2         21       OTHER   \n",
       "38     ADULT, OLDER_ADULT         PHASE2         34    INDUSTRY   \n",
       "...                   ...            ...        ...         ...   \n",
       "17245  ADULT, OLDER_ADULT  PHASE1|PHASE2        260    INDUSTRY   \n",
       "17249  ADULT, OLDER_ADULT         PHASE3        445    INDUSTRY   \n",
       "17251  ADULT, OLDER_ADULT         PHASE3        478    INDUSTRY   \n",
       "17254               ADULT         PHASE2         36       OTHER   \n",
       "17260               ADULT         PHASE1         30    INDUSTRY   \n",
       "\n",
       "           Study Type                                       Study Design  \\\n",
       "4      INTERVENTIONAL  Allocation: RANDOMIZED|Intervention Model: PAR...   \n",
       "15     INTERVENTIONAL  Allocation: RANDOMIZED|Intervention Model: PAR...   \n",
       "16     INTERVENTIONAL  Allocation: RANDOMIZED|Intervention Model: PAR...   \n",
       "17     INTERVENTIONAL  Allocation: NA|Intervention Model: SINGLE_GROU...   \n",
       "38     INTERVENTIONAL  Allocation: NON_RANDOMIZED|Intervention Model:...   \n",
       "...               ...                                                ...   \n",
       "17245  INTERVENTIONAL  Allocation: RANDOMIZED|Intervention Model: PAR...   \n",
       "17249  INTERVENTIONAL  Allocation: RANDOMIZED|Intervention Model: PAR...   \n",
       "17251  INTERVENTIONAL  Allocation: RANDOMIZED|Intervention Model: PAR...   \n",
       "17254  INTERVENTIONAL  Allocation: RANDOMIZED|Intervention Model: PAR...   \n",
       "17260  INTERVENTIONAL  Allocation: RANDOMIZED|Intervention Model: CRO...   \n",
       "\n",
       "                                               Locations  \\\n",
       "4      University of Arizona Arthritis Center, Gilber...   \n",
       "15     Haukeland University Hospital, Bergen, Norway|...   \n",
       "16     University of Michigan, Ann Arbor, Michigan, 4...   \n",
       "17     M D Anderson Cancer Center, Houston, Texas, 77...   \n",
       "38     Sun Yat-sen University Cancer Center, Guangzho...   \n",
       "...                                                  ...   \n",
       "17245  Korea University Ansan Hospital, Ansan, Korea,...   \n",
       "17249  Fakultni Nemocnice u Sv. Anny - FNUSA, Brno, 6...   \n",
       "17251  Endocrinology Associates Montgomery, Montgomer...   \n",
       "17254  European University Cyprus, Nicosia, 1516, Cyp...   \n",
       "17260  Humanpharmakologisches Zentrum Biberach, Biber...   \n",
       "\n",
       "       Interventions_Numeric  \n",
       "4                        663  \n",
       "15                       677  \n",
       "16                      1200  \n",
       "17                      1792  \n",
       "38                        77  \n",
       "...                      ...  \n",
       "17245                    173  \n",
       "17249                    480  \n",
       "17251                   1194  \n",
       "17254                   1235  \n",
       "17260                    897  \n",
       "\n",
       "[1873 rows x 15 columns]>"
      ]
     },
     "execution_count": 47,
     "metadata": {},
     "output_type": "execute_result"
    }
   ],
   "source": [
    "df_cleaned.info"
   ]
  },
  {
   "cell_type": "code",
   "execution_count": 48,
   "id": "9a5d58d5",
   "metadata": {
    "execution": {
     "iopub.execute_input": "2025-01-04T16:02:33.725267Z",
     "iopub.status.busy": "2025-01-04T16:02:33.725049Z",
     "iopub.status.idle": "2025-01-04T16:02:33.729335Z",
     "shell.execute_reply": "2025-01-04T16:02:33.728542Z"
    },
    "papermill": {
     "duration": 0.024588,
     "end_time": "2025-01-04T16:02:33.730551",
     "exception": false,
     "start_time": "2025-01-04T16:02:33.705963",
     "status": "completed"
    },
    "tags": []
   },
   "outputs": [
    {
     "data": {
      "text/plain": [
       "dtype('O')"
      ]
     },
     "execution_count": 48,
     "metadata": {},
     "output_type": "execute_result"
    }
   ],
   "source": [
    "\n",
    "df_cleaned['Study Status'].dtype"
   ]
  },
  {
   "cell_type": "code",
   "execution_count": 49,
   "id": "6529d619",
   "metadata": {
    "execution": {
     "iopub.execute_input": "2025-01-04T16:02:33.774942Z",
     "iopub.status.busy": "2025-01-04T16:02:33.774702Z",
     "iopub.status.idle": "2025-01-04T16:02:33.780189Z",
     "shell.execute_reply": "2025-01-04T16:02:33.779487Z"
    },
    "papermill": {
     "duration": 0.026365,
     "end_time": "2025-01-04T16:02:33.781396",
     "exception": false,
     "start_time": "2025-01-04T16:02:33.755031",
     "status": "completed"
    },
    "tags": []
   },
   "outputs": [
    {
     "data": {
      "text/plain": [
       "Study Results\n",
       "0    1867\n",
       "6       6\n",
       "Name: count, dtype: int64"
      ]
     },
     "execution_count": 49,
     "metadata": {},
     "output_type": "execute_result"
    }
   ],
   "source": [
    "df_cleaned['Study Results'].value_counts()"
   ]
  },
  {
   "cell_type": "code",
   "execution_count": 50,
   "id": "1592b530",
   "metadata": {
    "execution": {
     "iopub.execute_input": "2025-01-04T16:02:33.823267Z",
     "iopub.status.busy": "2025-01-04T16:02:33.823046Z",
     "iopub.status.idle": "2025-01-04T16:02:33.827177Z",
     "shell.execute_reply": "2025-01-04T16:02:33.826431Z"
    },
    "papermill": {
     "duration": 0.025101,
     "end_time": "2025-01-04T16:02:33.828383",
     "exception": false,
     "start_time": "2025-01-04T16:02:33.803282",
     "status": "completed"
    },
    "tags": []
   },
   "outputs": [
    {
     "data": {
      "text/plain": [
       "dtype('O')"
      ]
     },
     "execution_count": 50,
     "metadata": {},
     "output_type": "execute_result"
    }
   ],
   "source": [
    "df_cleaned['Conditions'].dtype\n",
    "# df_cleaned['Conditions'].value_counts()"
   ]
  },
  {
   "cell_type": "code",
   "execution_count": 51,
   "id": "346b1a8a",
   "metadata": {
    "execution": {
     "iopub.execute_input": "2025-01-04T16:02:33.867306Z",
     "iopub.status.busy": "2025-01-04T16:02:33.867082Z",
     "iopub.status.idle": "2025-01-04T16:02:33.871475Z",
     "shell.execute_reply": "2025-01-04T16:02:33.870755Z"
    },
    "papermill": {
     "duration": 0.025408,
     "end_time": "2025-01-04T16:02:33.873113",
     "exception": false,
     "start_time": "2025-01-04T16:02:33.847705",
     "status": "completed"
    },
    "tags": []
   },
   "outputs": [],
   "source": [
    "df_cleaned = df_cleaned.drop(['Interventions'] , axis=1)"
   ]
  },
  {
   "cell_type": "code",
   "execution_count": 52,
   "id": "1cd93acb",
   "metadata": {
    "execution": {
     "iopub.execute_input": "2025-01-04T16:02:33.928359Z",
     "iopub.status.busy": "2025-01-04T16:02:33.927954Z",
     "iopub.status.idle": "2025-01-04T16:02:33.936300Z",
     "shell.execute_reply": "2025-01-04T16:02:33.935496Z"
    },
    "papermill": {
     "duration": 0.0382,
     "end_time": "2025-01-04T16:02:33.937480",
     "exception": false,
     "start_time": "2025-01-04T16:02:33.899280",
     "status": "completed"
    },
    "tags": []
   },
   "outputs": [
    {
     "data": {
      "text/plain": [
       "Sponsor\n",
       "M.D. Anderson Cancer Center            33\n",
       "AstraZeneca                            26\n",
       "Eli Lilly and Company                  18\n",
       "Johns Hopkins University               15\n",
       "Yale University                        14\n",
       "                                       ..\n",
       "Millennium Pharmaceuticals, Inc.        1\n",
       "University Medical Centre Ljubljana     1\n",
       "PhenoSolve, LLC                         1\n",
       "Klinički Bolnički Centar Zagreb         1\n",
       "ACO Hud Nordic AB                       1\n",
       "Name: count, Length: 1135, dtype: int64"
      ]
     },
     "execution_count": 52,
     "metadata": {},
     "output_type": "execute_result"
    }
   ],
   "source": [
    "df_cleaned['Sponsor'].value_counts()"
   ]
  },
  {
   "cell_type": "code",
   "execution_count": 53,
   "id": "03564f39",
   "metadata": {
    "execution": {
     "iopub.execute_input": "2025-01-04T16:02:33.985162Z",
     "iopub.status.busy": "2025-01-04T16:02:33.984924Z",
     "iopub.status.idle": "2025-01-04T16:02:34.038379Z",
     "shell.execute_reply": "2025-01-04T16:02:34.037066Z"
    },
    "papermill": {
     "duration": 0.075122,
     "end_time": "2025-01-04T16:02:34.039791",
     "exception": false,
     "start_time": "2025-01-04T16:02:33.964669",
     "status": "completed"
    },
    "tags": []
   },
   "outputs": [
    {
     "name": "stdout",
     "output_type": "stream",
     "text": [
      "      Study Status  Study Results  \\\n",
      "4        COMPLETED              0   \n",
      "15       COMPLETED              0   \n",
      "16       COMPLETED              0   \n",
      "17       COMPLETED              0   \n",
      "38       COMPLETED              0   \n",
      "...            ...            ...   \n",
      "17245    COMPLETED              0   \n",
      "17249    COMPLETED              0   \n",
      "17251    COMPLETED              0   \n",
      "17254    COMPLETED              0   \n",
      "17260    COMPLETED              0   \n",
      "\n",
      "                                              Conditions  Sponsor  \\\n",
      "4                           Systemic Lupus Erythematosus        0   \n",
      "15                                         Low Back Pain        0   \n",
      "16                          Delayed Sleep Phase Syndrome        0   \n",
      "17     Advanced Digestive System Neuroendocrine Neopl...        0   \n",
      "38                              Nasopharyngeal Carcinoma        0   \n",
      "...                                                  ...      ...   \n",
      "17245                      COVID-19 (Healthy Volunteers)        0   \n",
      "17249                                            Allergy        0   \n",
      "17251                          Diabetes Mellitus, Type 1        0   \n",
      "17254                     Glutathione Metabolism Anemias        0   \n",
      "17260                                            Healthy        0   \n",
      "\n",
      "                                           Collaborators   Sex  \\\n",
      "4                                     Incyte Corporation   ALL   \n",
      "15     Haukeland University Hospital|St. Olavs Hospit...   ALL   \n",
      "16                    American Academy of Sleep Medicine   ALL   \n",
      "17              National Cancer Institute (NCI)|Novartis   ALL   \n",
      "38                           Akeso Pharmaceuticals, Inc.   ALL   \n",
      "...                                                  ...   ...   \n",
      "17245    Coalition for Epidemic Preparedness Innovations   ALL   \n",
      "17249                                      Syneos Health   ALL   \n",
      "17251                                         Mylan GmbH   ALL   \n",
      "17254  National and Kapodistrian University of Athens...  MALE   \n",
      "17260                              Eli Lilly and Company   ALL   \n",
      "\n",
      "                      Age         Phases Enrollment Funder Type  \\\n",
      "4      ADULT, OLDER_ADULT         PHASE3        778    INDUSTRY   \n",
      "15     ADULT, OLDER_ADULT         PHASE3        128       OTHER   \n",
      "16     ADULT, OLDER_ADULT         PHASE3         44       OTHER   \n",
      "17     ADULT, OLDER_ADULT         PHASE2         21       OTHER   \n",
      "38     ADULT, OLDER_ADULT         PHASE2         34    INDUSTRY   \n",
      "...                   ...            ...        ...         ...   \n",
      "17245  ADULT, OLDER_ADULT  PHASE1|PHASE2        260    INDUSTRY   \n",
      "17249  ADULT, OLDER_ADULT         PHASE3        445    INDUSTRY   \n",
      "17251  ADULT, OLDER_ADULT         PHASE3        478    INDUSTRY   \n",
      "17254               ADULT         PHASE2         36       OTHER   \n",
      "17260               ADULT         PHASE1         30    INDUSTRY   \n",
      "\n",
      "           Study Type                                       Study Design  \\\n",
      "4      INTERVENTIONAL  Allocation: RANDOMIZED|Intervention Model: PAR...   \n",
      "15     INTERVENTIONAL  Allocation: RANDOMIZED|Intervention Model: PAR...   \n",
      "16     INTERVENTIONAL  Allocation: RANDOMIZED|Intervention Model: PAR...   \n",
      "17     INTERVENTIONAL  Allocation: NA|Intervention Model: SINGLE_GROU...   \n",
      "38     INTERVENTIONAL  Allocation: NON_RANDOMIZED|Intervention Model:...   \n",
      "...               ...                                                ...   \n",
      "17245  INTERVENTIONAL  Allocation: RANDOMIZED|Intervention Model: PAR...   \n",
      "17249  INTERVENTIONAL  Allocation: RANDOMIZED|Intervention Model: PAR...   \n",
      "17251  INTERVENTIONAL  Allocation: RANDOMIZED|Intervention Model: PAR...   \n",
      "17254  INTERVENTIONAL  Allocation: RANDOMIZED|Intervention Model: PAR...   \n",
      "17260  INTERVENTIONAL  Allocation: RANDOMIZED|Intervention Model: CRO...   \n",
      "\n",
      "                                               Locations  \\\n",
      "4      University of Arizona Arthritis Center, Gilber...   \n",
      "15     Haukeland University Hospital, Bergen, Norway|...   \n",
      "16     University of Michigan, Ann Arbor, Michigan, 4...   \n",
      "17     M D Anderson Cancer Center, Houston, Texas, 77...   \n",
      "38     Sun Yat-sen University Cancer Center, Guangzho...   \n",
      "...                                                  ...   \n",
      "17245  Korea University Ansan Hospital, Ansan, Korea,...   \n",
      "17249  Fakultni Nemocnice u Sv. Anny - FNUSA, Brno, 6...   \n",
      "17251  Endocrinology Associates Montgomery, Montgomer...   \n",
      "17254  European University Cyprus, Nicosia, 1516, Cyp...   \n",
      "17260  Humanpharmakologisches Zentrum Biberach, Biber...   \n",
      "\n",
      "       Interventions_Numeric  \n",
      "4                        663  \n",
      "15                       677  \n",
      "16                      1200  \n",
      "17                      1792  \n",
      "38                        77  \n",
      "...                      ...  \n",
      "17245                    173  \n",
      "17249                    480  \n",
      "17251                   1194  \n",
      "17254                   1235  \n",
      "17260                    897  \n",
      "\n",
      "[1873 rows x 14 columns]\n"
     ]
    }
   ],
   "source": [
    "# Assuming 'df_cleaned' is your DataFrame\n",
    "# Replace NaN and empty values\n",
    "df_cleaned = df_cleaned[df_cleaned['Sponsor'].notna() & (df_cleaned['Sponsor'] != '')]\n",
    "df_cleaned['Sponsor'] = df_cleaned['Sponsor'].fillna('0')\n",
    "\n",
    "# Convert column to string to standardize\n",
    "df_cleaned['Sponsor'] = df_cleaned['Sponsor'].astype(str)\n",
    "\n",
    "# Convert strings to numeric where possible (ignore errors)\n",
    "df_cleaned['Sponsor'] = pd.to_numeric(df_cleaned['Sponsor'], errors='coerce')\n",
    "\n",
    "# Dynamically update values based on their frequency\n",
    "name_counts = df_cleaned['Sponsor'].value_counts()\n",
    "\n",
    "# Loop from 1 to 20 and skip NaN values explicitly\n",
    "for i in range(1, 21):\n",
    "    df_cleaned['Sponsor'] = df_cleaned['Sponsor'].apply(\n",
    "        lambda x: i if pd.notna(x) and name_counts.get(x, 0) == i else x\n",
    "    )\n",
    "    name_counts = df_cleaned['Sponsor'].value_counts()\n",
    "\n",
    "# Convert back to integer (after handling non-convertible values)\n",
    "df_cleaned['Sponsor'] = df_cleaned['Sponsor'].fillna(0).astype(int)\n",
    "\n",
    "# Display the cleaned DataFrame\n",
    "print(df_cleaned)\n"
   ]
  },
  {
   "cell_type": "code",
   "execution_count": 54,
   "id": "32acc6b3",
   "metadata": {
    "execution": {
     "iopub.execute_input": "2025-01-04T16:02:34.079393Z",
     "iopub.status.busy": "2025-01-04T16:02:34.079187Z",
     "iopub.status.idle": "2025-01-04T16:02:34.084209Z",
     "shell.execute_reply": "2025-01-04T16:02:34.083589Z"
    },
    "papermill": {
     "duration": 0.026157,
     "end_time": "2025-01-04T16:02:34.085326",
     "exception": false,
     "start_time": "2025-01-04T16:02:34.059169",
     "status": "completed"
    },
    "tags": []
   },
   "outputs": [
    {
     "data": {
      "text/plain": [
       "Sponsor\n",
       "0    1868\n",
       "5       5\n",
       "Name: count, dtype: int64"
      ]
     },
     "execution_count": 54,
     "metadata": {},
     "output_type": "execute_result"
    }
   ],
   "source": [
    "df_cleaned['Sponsor'].value_counts()"
   ]
  },
  {
   "cell_type": "code",
   "execution_count": 55,
   "id": "6d7fb6af",
   "metadata": {
    "execution": {
     "iopub.execute_input": "2025-01-04T16:02:34.125093Z",
     "iopub.status.busy": "2025-01-04T16:02:34.124873Z",
     "iopub.status.idle": "2025-01-04T16:02:34.131382Z",
     "shell.execute_reply": "2025-01-04T16:02:34.130525Z"
    },
    "papermill": {
     "duration": 0.027306,
     "end_time": "2025-01-04T16:02:34.132520",
     "exception": false,
     "start_time": "2025-01-04T16:02:34.105214",
     "status": "completed"
    },
    "tags": []
   },
   "outputs": [
    {
     "data": {
      "text/plain": [
       "Collaborators\n",
       "National Cancer Institute (NCI)                                                                                                                                                                                                                                                           64\n",
       "Merck Sharp & Dohme LLC                                                                                                                                                                                                                                                                   47\n",
       "National Institute on Drug Abuse (NIDA)                                                                                                                                                                                                                                                   26\n",
       "Bristol-Myers Squibb                                                                                                                                                                                                                                                                      18\n",
       "National Institute of Allergy and Infectious Diseases (NIAID)                                                                                                                                                                                                                             14\n",
       "                                                                                                                                                                                                                                                                                          ..\n",
       "Ohio Pain Clinic                                                                                                                                                                                                                                                                           1\n",
       "Institut de Myologie, France|Consultants for Research in Imaging and Spectroscopy|Great Ormond Street Hospital for Children NHS Foundation Trust|Catholic University of the Sacred Heart|Royal Holloway University|SYSNAV|University College, London|University of Newcastle Upon-Tyne     1\n",
       "Genentech, Inc.|Clovis Oncology, Inc.                                                                                                                                                                                                                                                      1\n",
       "QST Consultations, Ltd.                                                                                                                                                                                                                                                                    1\n",
       "James Graham Brown Cancer Center                                                                                                                                                                                                                                                           1\n",
       "Name: count, Length: 1281, dtype: int64"
      ]
     },
     "execution_count": 55,
     "metadata": {},
     "output_type": "execute_result"
    }
   ],
   "source": [
    "df_cleaned['Collaborators'].value_counts()"
   ]
  },
  {
   "cell_type": "code",
   "execution_count": 56,
   "id": "565c2cd2",
   "metadata": {
    "execution": {
     "iopub.execute_input": "2025-01-04T16:02:34.172538Z",
     "iopub.status.busy": "2025-01-04T16:02:34.172316Z",
     "iopub.status.idle": "2025-01-04T16:02:34.192771Z",
     "shell.execute_reply": "2025-01-04T16:02:34.191894Z"
    },
    "papermill": {
     "duration": 0.042035,
     "end_time": "2025-01-04T16:02:34.194059",
     "exception": false,
     "start_time": "2025-01-04T16:02:34.152024",
     "status": "completed"
    },
    "tags": []
   },
   "outputs": [
    {
     "name": "stdout",
     "output_type": "stream",
     "text": [
      "      Study Status  Study Results  \\\n",
      "4        COMPLETED              0   \n",
      "15       COMPLETED              0   \n",
      "16       COMPLETED              0   \n",
      "17       COMPLETED              0   \n",
      "38       COMPLETED              0   \n",
      "...            ...            ...   \n",
      "17245    COMPLETED              0   \n",
      "17249    COMPLETED              0   \n",
      "17251    COMPLETED              0   \n",
      "17254    COMPLETED              0   \n",
      "17260    COMPLETED              0   \n",
      "\n",
      "                                              Conditions  Sponsor  \\\n",
      "4                           Systemic Lupus Erythematosus        0   \n",
      "15                                         Low Back Pain        0   \n",
      "16                          Delayed Sleep Phase Syndrome        0   \n",
      "17     Advanced Digestive System Neuroendocrine Neopl...        0   \n",
      "38                              Nasopharyngeal Carcinoma        0   \n",
      "...                                                  ...      ...   \n",
      "17245                      COVID-19 (Healthy Volunteers)        0   \n",
      "17249                                            Allergy        0   \n",
      "17251                          Diabetes Mellitus, Type 1        0   \n",
      "17254                     Glutathione Metabolism Anemias        0   \n",
      "17260                                            Healthy        0   \n",
      "\n",
      "       Collaborators   Sex                 Age         Phases Enrollment  \\\n",
      "4                  2   ALL  ADULT, OLDER_ADULT         PHASE3        778   \n",
      "15                 1   ALL  ADULT, OLDER_ADULT         PHASE3        128   \n",
      "16                 1   ALL  ADULT, OLDER_ADULT         PHASE3         44   \n",
      "17                 1   ALL  ADULT, OLDER_ADULT         PHASE2         21   \n",
      "38                 3   ALL  ADULT, OLDER_ADULT         PHASE2         34   \n",
      "...              ...   ...                 ...            ...        ...   \n",
      "17245              4   ALL  ADULT, OLDER_ADULT  PHASE1|PHASE2        260   \n",
      "17249              9   ALL  ADULT, OLDER_ADULT         PHASE3        445   \n",
      "17251              2   ALL  ADULT, OLDER_ADULT         PHASE3        478   \n",
      "17254              1  MALE               ADULT         PHASE2         36   \n",
      "17260             11   ALL               ADULT         PHASE1         30   \n",
      "\n",
      "      Funder Type      Study Type  \\\n",
      "4        INDUSTRY  INTERVENTIONAL   \n",
      "15          OTHER  INTERVENTIONAL   \n",
      "16          OTHER  INTERVENTIONAL   \n",
      "17          OTHER  INTERVENTIONAL   \n",
      "38       INDUSTRY  INTERVENTIONAL   \n",
      "...           ...             ...   \n",
      "17245    INDUSTRY  INTERVENTIONAL   \n",
      "17249    INDUSTRY  INTERVENTIONAL   \n",
      "17251    INDUSTRY  INTERVENTIONAL   \n",
      "17254       OTHER  INTERVENTIONAL   \n",
      "17260    INDUSTRY  INTERVENTIONAL   \n",
      "\n",
      "                                            Study Design  \\\n",
      "4      Allocation: RANDOMIZED|Intervention Model: PAR...   \n",
      "15     Allocation: RANDOMIZED|Intervention Model: PAR...   \n",
      "16     Allocation: RANDOMIZED|Intervention Model: PAR...   \n",
      "17     Allocation: NA|Intervention Model: SINGLE_GROU...   \n",
      "38     Allocation: NON_RANDOMIZED|Intervention Model:...   \n",
      "...                                                  ...   \n",
      "17245  Allocation: RANDOMIZED|Intervention Model: PAR...   \n",
      "17249  Allocation: RANDOMIZED|Intervention Model: PAR...   \n",
      "17251  Allocation: RANDOMIZED|Intervention Model: PAR...   \n",
      "17254  Allocation: RANDOMIZED|Intervention Model: PAR...   \n",
      "17260  Allocation: RANDOMIZED|Intervention Model: CRO...   \n",
      "\n",
      "                                               Locations  \\\n",
      "4      University of Arizona Arthritis Center, Gilber...   \n",
      "15     Haukeland University Hospital, Bergen, Norway|...   \n",
      "16     University of Michigan, Ann Arbor, Michigan, 4...   \n",
      "17     M D Anderson Cancer Center, Houston, Texas, 77...   \n",
      "38     Sun Yat-sen University Cancer Center, Guangzho...   \n",
      "...                                                  ...   \n",
      "17245  Korea University Ansan Hospital, Ansan, Korea,...   \n",
      "17249  Fakultni Nemocnice u Sv. Anny - FNUSA, Brno, 6...   \n",
      "17251  Endocrinology Associates Montgomery, Montgomer...   \n",
      "17254  European University Cyprus, Nicosia, 1516, Cyp...   \n",
      "17260  Humanpharmakologisches Zentrum Biberach, Biber...   \n",
      "\n",
      "       Interventions_Numeric  \n",
      "4                        663  \n",
      "15                       677  \n",
      "16                      1200  \n",
      "17                      1792  \n",
      "38                        77  \n",
      "...                      ...  \n",
      "17245                    173  \n",
      "17249                    480  \n",
      "17251                   1194  \n",
      "17254                   1235  \n",
      "17260                    897  \n",
      "\n",
      "[1873 rows x 14 columns]\n"
     ]
    }
   ],
   "source": [
    "# Assuming 'df_cleaned' is your DataFrame\n",
    "# Replace NaN and empty values in 'Collaborators' column\n",
    "df_cleaned['Collaborators'] = df_cleaned['Collaborators'].fillna('0')  # Replacing NaN with '0'\n",
    "\n",
    "# Replace empty strings with '0'\n",
    "df_cleaned['Collaborators'] = df_cleaned['Collaborators'].replace('', '0')\n",
    "\n",
    "# Convert column to string to standardize\n",
    "df_cleaned['Collaborators'] = df_cleaned['Collaborators'].astype(str)\n",
    "\n",
    "# Count the frequency of each unique value in the 'Collaborators' column\n",
    "name_counts = df_cleaned['Collaborators'].value_counts()\n",
    "\n",
    "# Loop through the column and replace each unique value by its count (how many times it is repeated)\n",
    "df_cleaned['Collaborators'] = df_cleaned['Collaborators'].apply(\n",
    "    lambda x: name_counts.get(x, 0)  # Replace with frequency of occurrence\n",
    ")\n",
    "\n",
    "# Convert the column to integer type\n",
    "df_cleaned['Collaborators'] = df_cleaned['Collaborators'].astype(int)\n",
    "\n",
    "# Display the cleaned DataFrame\n",
    "print(df_cleaned)\n"
   ]
  },
  {
   "cell_type": "code",
   "execution_count": 57,
   "id": "a853bf2f",
   "metadata": {
    "execution": {
     "iopub.execute_input": "2025-01-04T16:02:34.235235Z",
     "iopub.status.busy": "2025-01-04T16:02:34.235037Z",
     "iopub.status.idle": "2025-01-04T16:02:34.240516Z",
     "shell.execute_reply": "2025-01-04T16:02:34.239752Z"
    },
    "papermill": {
     "duration": 0.027444,
     "end_time": "2025-01-04T16:02:34.241825",
     "exception": false,
     "start_time": "2025-01-04T16:02:34.214381",
     "status": "completed"
    },
    "tags": []
   },
   "outputs": [
    {
     "data": {
      "text/plain": [
       "Collaborators\n",
       "1     1116\n",
       "2      144\n",
       "3       96\n",
       "4       72\n",
       "5       65\n",
       "64      64\n",
       "47      47\n",
       "6       42\n",
       "7       42\n",
       "10      40\n",
       "13      39\n",
       "26      26\n",
       "18      18\n",
       "8       16\n",
       "14      14\n",
       "12      12\n",
       "11      11\n",
       "9        9\n",
       "Name: count, dtype: int64"
      ]
     },
     "execution_count": 57,
     "metadata": {},
     "output_type": "execute_result"
    }
   ],
   "source": [
    "df_cleaned['Collaborators'].value_counts()"
   ]
  },
  {
   "cell_type": "code",
   "execution_count": 58,
   "id": "c0bbaae7",
   "metadata": {
    "execution": {
     "iopub.execute_input": "2025-01-04T16:02:34.282067Z",
     "iopub.status.busy": "2025-01-04T16:02:34.281865Z",
     "iopub.status.idle": "2025-01-04T16:02:34.287879Z",
     "shell.execute_reply": "2025-01-04T16:02:34.287078Z"
    },
    "papermill": {
     "duration": 0.027806,
     "end_time": "2025-01-04T16:02:34.289224",
     "exception": false,
     "start_time": "2025-01-04T16:02:34.261418",
     "status": "completed"
    },
    "tags": []
   },
   "outputs": [
    {
     "data": {
      "text/plain": [
       "Sex\n",
       "ALL                                                                                                                                                                                1606\n",
       "FEMALE                                                                                                                                                                              154\n",
       "MALE                                                                                                                                                                                 81\n",
       " and for erythema                                                                                                                                                                     1\n",
       " near activities                                                                                                                                                                      1\n",
       " sodium                                                                                                                                                                               1\n",
       " i.e.                                                                                                                                                                                 1\n",
       " from 0 to 4 hours (AUC0-4h) of a MMTT stimulated glucose at week 80 is presented as ratio to baseline. AUC of glucose was measured as Milli moles\\*hour per liter (mmol\\*h/L).       1\n",
       " Cluj-Napoca                                                                                                                                                                          1\n",
       " severity                                                                                                                                                                             1\n",
       " 133-144                                                                                                                                                                              1\n",
       " Doncaster                                                                                                                                                                            1\n",
       " New York                                                                                                                                                                             1\n",
       "44                                                                                                                                                                                    1\n",
       " \"\"18 to 65 years\"\" and \"\"\\>65 years\"\". All subjects who received the second dose of vaccine                                                                                          1\n",
       " GL53 7AS                                                                                                                                                                             1\n",
       " as Assessed by the EmiPref Questionnaire                                                                                                                                             1\n",
       " OH). During the limits of stability task                                                                                                                                             1\n",
       "1                                                                                                                                                                                     1\n",
       "8                                                                                                                                                                                     1\n",
       "98499                                                                                                                                                                                 1\n",
       " including any period after initiation of rescue medication or premature treatment discontinuation.                                                                                   1\n",
       "64                                                                                                                                                                                    1\n",
       " Incheon                                                                                                                                                                              1\n",
       " Eosinophils                                                                                                                                                                          1\n",
       " or used a rescue medication after clinical flare                                                                                                                                     1\n",
       " mucositis                                                                                                                                                                            1\n",
       " m/s)                                                                                                                                                                                 1\n",
       " Cycle 1 Day 2: pre-dose                                                                                                                                                              1\n",
       " Baseline (Day 10) and at Days 21 and 24|Period 1: Absolute Values of Hematology Parameter: Erythrocytes                                                                              1\n",
       " Weeks 2                                                                                                                                                                              1\n",
       " severe                                                                                                                                                                               1\n",
       " trunk                                                                                                                                                                                1\n",
       " Day 1 at 4 hours post intervention and Day 2 of each treatment period|Absolute Values for Pulse Rate in Part 1                                                                       1\n",
       "6                                                                                                                                                                                     1\n",
       "Name: count, dtype: int64"
      ]
     },
     "execution_count": 58,
     "metadata": {},
     "output_type": "execute_result"
    }
   ],
   "source": [
    "df_cleaned['Sex'].value_counts()"
   ]
  },
  {
   "cell_type": "code",
   "execution_count": 59,
   "id": "c7094e0a",
   "metadata": {
    "execution": {
     "iopub.execute_input": "2025-01-04T16:02:34.330071Z",
     "iopub.status.busy": "2025-01-04T16:02:34.329851Z",
     "iopub.status.idle": "2025-01-04T16:02:34.383154Z",
     "shell.execute_reply": "2025-01-04T16:02:34.382144Z"
    },
    "papermill": {
     "duration": 0.074991,
     "end_time": "2025-01-04T16:02:34.384378",
     "exception": false,
     "start_time": "2025-01-04T16:02:34.309387",
     "status": "completed"
    },
    "tags": []
   },
   "outputs": [
    {
     "name": "stdout",
     "output_type": "stream",
     "text": [
      "      Study Status  Study Results  \\\n",
      "4        COMPLETED              0   \n",
      "15       COMPLETED              0   \n",
      "16       COMPLETED              0   \n",
      "17       COMPLETED              0   \n",
      "38       COMPLETED              0   \n",
      "...            ...            ...   \n",
      "17245    COMPLETED              0   \n",
      "17249    COMPLETED              0   \n",
      "17251    COMPLETED              0   \n",
      "17254    COMPLETED              0   \n",
      "17260    COMPLETED              0   \n",
      "\n",
      "                                              Conditions  Sponsor  \\\n",
      "4                           Systemic Lupus Erythematosus        0   \n",
      "15                                         Low Back Pain        0   \n",
      "16                          Delayed Sleep Phase Syndrome        0   \n",
      "17     Advanced Digestive System Neuroendocrine Neopl...        0   \n",
      "38                              Nasopharyngeal Carcinoma        0   \n",
      "...                                                  ...      ...   \n",
      "17245                      COVID-19 (Healthy Volunteers)        0   \n",
      "17249                                            Allergy        0   \n",
      "17251                          Diabetes Mellitus, Type 1        0   \n",
      "17254                     Glutathione Metabolism Anemias        0   \n",
      "17260                                            Healthy        0   \n",
      "\n",
      "       Collaborators  Sex                 Age         Phases Enrollment  \\\n",
      "4                  2    0  ADULT, OLDER_ADULT         PHASE3        778   \n",
      "15                 1    0  ADULT, OLDER_ADULT         PHASE3        128   \n",
      "16                 1    0  ADULT, OLDER_ADULT         PHASE3         44   \n",
      "17                 1    0  ADULT, OLDER_ADULT         PHASE2         21   \n",
      "38                 3    0  ADULT, OLDER_ADULT         PHASE2         34   \n",
      "...              ...  ...                 ...            ...        ...   \n",
      "17245              4    0  ADULT, OLDER_ADULT  PHASE1|PHASE2        260   \n",
      "17249              9    0  ADULT, OLDER_ADULT         PHASE3        445   \n",
      "17251              2    0  ADULT, OLDER_ADULT         PHASE3        478   \n",
      "17254              1    0               ADULT         PHASE2         36   \n",
      "17260             11    0               ADULT         PHASE1         30   \n",
      "\n",
      "      Funder Type      Study Type  \\\n",
      "4        INDUSTRY  INTERVENTIONAL   \n",
      "15          OTHER  INTERVENTIONAL   \n",
      "16          OTHER  INTERVENTIONAL   \n",
      "17          OTHER  INTERVENTIONAL   \n",
      "38       INDUSTRY  INTERVENTIONAL   \n",
      "...           ...             ...   \n",
      "17245    INDUSTRY  INTERVENTIONAL   \n",
      "17249    INDUSTRY  INTERVENTIONAL   \n",
      "17251    INDUSTRY  INTERVENTIONAL   \n",
      "17254       OTHER  INTERVENTIONAL   \n",
      "17260    INDUSTRY  INTERVENTIONAL   \n",
      "\n",
      "                                            Study Design  \\\n",
      "4      Allocation: RANDOMIZED|Intervention Model: PAR...   \n",
      "15     Allocation: RANDOMIZED|Intervention Model: PAR...   \n",
      "16     Allocation: RANDOMIZED|Intervention Model: PAR...   \n",
      "17     Allocation: NA|Intervention Model: SINGLE_GROU...   \n",
      "38     Allocation: NON_RANDOMIZED|Intervention Model:...   \n",
      "...                                                  ...   \n",
      "17245  Allocation: RANDOMIZED|Intervention Model: PAR...   \n",
      "17249  Allocation: RANDOMIZED|Intervention Model: PAR...   \n",
      "17251  Allocation: RANDOMIZED|Intervention Model: PAR...   \n",
      "17254  Allocation: RANDOMIZED|Intervention Model: PAR...   \n",
      "17260  Allocation: RANDOMIZED|Intervention Model: CRO...   \n",
      "\n",
      "                                               Locations  \\\n",
      "4      University of Arizona Arthritis Center, Gilber...   \n",
      "15     Haukeland University Hospital, Bergen, Norway|...   \n",
      "16     University of Michigan, Ann Arbor, Michigan, 4...   \n",
      "17     M D Anderson Cancer Center, Houston, Texas, 77...   \n",
      "38     Sun Yat-sen University Cancer Center, Guangzho...   \n",
      "...                                                  ...   \n",
      "17245  Korea University Ansan Hospital, Ansan, Korea,...   \n",
      "17249  Fakultni Nemocnice u Sv. Anny - FNUSA, Brno, 6...   \n",
      "17251  Endocrinology Associates Montgomery, Montgomer...   \n",
      "17254  European University Cyprus, Nicosia, 1516, Cyp...   \n",
      "17260  Humanpharmakologisches Zentrum Biberach, Biber...   \n",
      "\n",
      "       Interventions_Numeric  \n",
      "4                        663  \n",
      "15                       677  \n",
      "16                      1200  \n",
      "17                      1792  \n",
      "38                        77  \n",
      "...                      ...  \n",
      "17245                    173  \n",
      "17249                    480  \n",
      "17251                   1194  \n",
      "17254                   1235  \n",
      "17260                    897  \n",
      "\n",
      "[1873 rows x 14 columns]\n"
     ]
    }
   ],
   "source": [
    "# Assuming 'df_cleaned' is your DataFrame\n",
    "# Replace NaN and empty values\n",
    "df_cleaned = df_cleaned[df_cleaned['Sex'].notna() & (df_cleaned['Sex'] != '')]\n",
    "df_cleaned['Sex'] = df_cleaned['Sex'].fillna('0')\n",
    "\n",
    "# Convert column to string to standardize\n",
    "df_cleaned['Sex'] = df_cleaned['Sex'].astype(str)\n",
    "\n",
    "# Convert strings to numeric where possible (ignore errors)\n",
    "df_cleaned['Sex'] = pd.to_numeric(df_cleaned['Sex'], errors='coerce')\n",
    "\n",
    "# Dynamically update values based on their frequency\n",
    "name_counts = df_cleaned['Sex'].value_counts()\n",
    "\n",
    "# Loop from 1 to 20 and skip NaN values explicitly\n",
    "for i in range(1, 21):\n",
    "    df_cleaned['Sex'] = df_cleaned['Sex'].apply(\n",
    "        lambda x: i if pd.notna(x) and name_counts.get(x, 0) == i else x\n",
    "    )\n",
    "    name_counts = df_cleaned['Sex'].value_counts()\n",
    "\n",
    "# Convert back to integer (after handling non-convertible values)\n",
    "df_cleaned['Sex'] = df_cleaned['Sex'].fillna(0).astype(int)\n",
    "\n",
    "# Display the cleaned DataFrame\n",
    "print(df_cleaned)\n"
   ]
  },
  {
   "cell_type": "code",
   "execution_count": 60,
   "id": "622fed6b",
   "metadata": {
    "execution": {
     "iopub.execute_input": "2025-01-04T16:02:34.425563Z",
     "iopub.status.busy": "2025-01-04T16:02:34.425346Z",
     "iopub.status.idle": "2025-01-04T16:02:34.429328Z",
     "shell.execute_reply": "2025-01-04T16:02:34.428726Z"
    },
    "papermill": {
     "duration": 0.025811,
     "end_time": "2025-01-04T16:02:34.430462",
     "exception": false,
     "start_time": "2025-01-04T16:02:34.404651",
     "status": "completed"
    },
    "tags": []
   },
   "outputs": [
    {
     "data": {
      "text/plain": [
       "dtype('int64')"
      ]
     },
     "execution_count": 60,
     "metadata": {},
     "output_type": "execute_result"
    }
   ],
   "source": [
    "df_cleaned['Sex'].dtype"
   ]
  },
  {
   "cell_type": "code",
   "execution_count": 61,
   "id": "ddc60bf3",
   "metadata": {
    "execution": {
     "iopub.execute_input": "2025-01-04T16:02:34.471622Z",
     "iopub.status.busy": "2025-01-04T16:02:34.471393Z",
     "iopub.status.idle": "2025-01-04T16:02:34.478289Z",
     "shell.execute_reply": "2025-01-04T16:02:34.477513Z"
    },
    "papermill": {
     "duration": 0.028572,
     "end_time": "2025-01-04T16:02:34.479438",
     "exception": false,
     "start_time": "2025-01-04T16:02:34.450866",
     "status": "completed"
    },
    "tags": []
   },
   "outputs": [
    {
     "data": {
      "text/plain": [
       "Age\n",
       "ADULT, OLDER_ADULT                                                                                                                                                                                                                                                                                                                                                                                                                    1201\n",
       "ADULT                                                                                                                                                                                                                                                                                                                                                                                                                                  360\n",
       "CHILD                                                                                                                                                                                                                                                                                                                                                                                                                                  104\n",
       "CHILD, ADULT, OLDER_ADULT                                                                                                                                                                                                                                                                                                                                                                                                               92\n",
       "CHILD, ADULT                                                                                                                                                                                                                                                                                                                                                                                                                            66\n",
       "OLDER_ADULT                                                                                                                                                                                                                                                                                                                                                                                                                             18\n",
       " induration                                                                                                                                                                                                                                                                                                                                                                                                                              1\n",
       " distance activities                                                                                                                                                                                                                                                                                                                                                                                                                     1\n",
       " potassium                                                                                                                                                                                                                                                                                                                                                                                                                               1\n",
       " the sum of duration of treatment for all participants in the safety analysis set                                                                                                                                                                                                                                                                                                                                                        1\n",
       " 0 - 4 hours post-dose on week 0 and week 80|AUC0-2h of Glucose at Week 80 Relative to Baseline                                                                                                                                                                                                                                                                                                                                          1\n",
       " Cluj                                                                                                                                                                                                                                                                                                                                                                                                                                    1\n",
       " and causality of each AE. Ocular AEs of special interest included the following: Suspected transmission of an infectious agent by the study drug; Sight-threatening AEs that cause a drop in visual acuity (VA) score ≥30 letters lasting more than 1 hour                                                                                                                                                                              1\n",
       " 145-156                                                                                                                                                                                                                                                                                                                                                                                                                                 1\n",
       " South Yorkshire                                                                                                                                                                                                                                                                                                                                                                                                                         1\n",
       " New York                                                                                                                                                                                                                                                                                                                                                                                                                                1\n",
       "48                                                                                                                                                                                                                                                                                                                                                                                                                                       1\n",
       " were in the first age stratum: \"\"6 months to 17 years\"\". Please                                                                                                                                                                                                                                                                                                                                                                         1\n",
       " United Kingdom|Royal United Hospitals Bath NHS Foundation Trust                                                                                                                                                                                                                                                                                                                                                                         1\n",
       " The EmiPref questionnaire asked participants to specify the treatment they would prefer to continue to receive after receiving treatment with their previous episodic or prophylactic regimen and subcutaneous (SC) emicizumab                                                                                                                                                                                                          1\n",
       " subjects were instructed to shift their weight by moving their pelvis and torso without flexing their hips or knees                                                                                                                                                                                                                                                                                                                     1\n",
       "1.5                                                                                                                                                                                                                                                                                                                                                                                                                                      1\n",
       "12                                                                                                                                                                                                                                                                                                                                                                                                                                       1\n",
       " United States|PeaceHealth Saint John Medical Center                                                                                                                                                                                                                                                                                                                                                                                     1\n",
       " week 30                                                                                                                                                                                                                                                                                                                                                                                                                                 1\n",
       "68                                                                                                                                                                                                                                                                                                                                                                                                                                       1\n",
       "21565                                                                                                                                                                                                                                                                                                                                                                                                                                    1\n",
       " Lymphocytes                                                                                                                                                                                                                                                                                                                                                                                                                             1\n",
       " or discontinued study agent due to lack of therapeutic effect or due to an AE of worsening of UC prior to the Week 44 had their Week 0 value of the induction study carried forward from the time of the event onward or who had all 4 Mayo subscores missing at Week 44 had their last available individual Mayo subscores carried forward. Endoscopy subscore as assessed during central review of video of endoscopy was used.       1\n",
       " interstitial lung disease (ILD)                                                                                                                                                                                                                                                                                                                                                                                                         1\n",
       " measured with the Mobil-O-Graph® PWA. Measurements analysed at timepoints t1 (t1 = mean of the measurements recorded from minute 1-10 of the pre-intervention rest period)                                                                                                                                                                                                                                                              1\n",
       " 5 min                                                                                                                                                                                                                                                                                                                                                                                                                                   1\n",
       " Blood samples were collected at indicated time points for the analysis of hematology parameter erythrocytes. Baseline is defined as the latest pre-dose assessment with a non-missing value                                                                                                                                                                                                                                             1\n",
       "4                                                                                                                                                                                                                                                                                                                                                                                                                                        1\n",
       " very severe). Serious rash will be defined as rash ranked as severe or very severe and attributable to furosemide. The percentage of participants reporting a severe or very severe rash attributable to furosemide will be determined.                                                                                                                                                                                                 1\n",
       " upper extremities                                                                                                                                                                                                                                                                                                                                                                                                                       1\n",
       " Pulse rate of participants were measured at indicated time points in semi-supine position after 5 minutes rest.                                                                                                                                                                                                                                                                                                                         1\n",
       "8                                                                                                                                                                                                                                                                                                                                                                                                                                        1\n",
       "Name: count, dtype: int64"
      ]
     },
     "execution_count": 61,
     "metadata": {},
     "output_type": "execute_result"
    }
   ],
   "source": [
    "df_cleaned['Age'].value_counts()"
   ]
  },
  {
   "cell_type": "code",
   "execution_count": 62,
   "id": "f2e701aa",
   "metadata": {
    "execution": {
     "iopub.execute_input": "2025-01-04T16:02:34.522474Z",
     "iopub.status.busy": "2025-01-04T16:02:34.522274Z",
     "iopub.status.idle": "2025-01-04T16:02:34.571827Z",
     "shell.execute_reply": "2025-01-04T16:02:34.570784Z"
    },
    "papermill": {
     "duration": 0.072469,
     "end_time": "2025-01-04T16:02:34.573139",
     "exception": false,
     "start_time": "2025-01-04T16:02:34.500670",
     "status": "completed"
    },
    "tags": []
   },
   "outputs": [
    {
     "name": "stdout",
     "output_type": "stream",
     "text": [
      "      Study Status  Study Results  \\\n",
      "4        COMPLETED              0   \n",
      "15       COMPLETED              0   \n",
      "16       COMPLETED              0   \n",
      "17       COMPLETED              0   \n",
      "38       COMPLETED              0   \n",
      "...            ...            ...   \n",
      "17245    COMPLETED              0   \n",
      "17249    COMPLETED              0   \n",
      "17251    COMPLETED              0   \n",
      "17254    COMPLETED              0   \n",
      "17260    COMPLETED              0   \n",
      "\n",
      "                                              Conditions  Sponsor  \\\n",
      "4                           Systemic Lupus Erythematosus        0   \n",
      "15                                         Low Back Pain        0   \n",
      "16                          Delayed Sleep Phase Syndrome        0   \n",
      "17     Advanced Digestive System Neuroendocrine Neopl...        0   \n",
      "38                              Nasopharyngeal Carcinoma        0   \n",
      "...                                                  ...      ...   \n",
      "17245                      COVID-19 (Healthy Volunteers)        0   \n",
      "17249                                            Allergy        0   \n",
      "17251                          Diabetes Mellitus, Type 1        0   \n",
      "17254                     Glutathione Metabolism Anemias        0   \n",
      "17260                                            Healthy        0   \n",
      "\n",
      "       Collaborators  Sex  Age         Phases Enrollment Funder Type  \\\n",
      "4                  2    0    0         PHASE3        778    INDUSTRY   \n",
      "15                 1    0    0         PHASE3        128       OTHER   \n",
      "16                 1    0    0         PHASE3         44       OTHER   \n",
      "17                 1    0    0         PHASE2         21       OTHER   \n",
      "38                 3    0    0         PHASE2         34    INDUSTRY   \n",
      "...              ...  ...  ...            ...        ...         ...   \n",
      "17245              4    0    0  PHASE1|PHASE2        260    INDUSTRY   \n",
      "17249              9    0    0         PHASE3        445    INDUSTRY   \n",
      "17251              2    0    0         PHASE3        478    INDUSTRY   \n",
      "17254              1    0    0         PHASE2         36       OTHER   \n",
      "17260             11    0    0         PHASE1         30    INDUSTRY   \n",
      "\n",
      "           Study Type                                       Study Design  \\\n",
      "4      INTERVENTIONAL  Allocation: RANDOMIZED|Intervention Model: PAR...   \n",
      "15     INTERVENTIONAL  Allocation: RANDOMIZED|Intervention Model: PAR...   \n",
      "16     INTERVENTIONAL  Allocation: RANDOMIZED|Intervention Model: PAR...   \n",
      "17     INTERVENTIONAL  Allocation: NA|Intervention Model: SINGLE_GROU...   \n",
      "38     INTERVENTIONAL  Allocation: NON_RANDOMIZED|Intervention Model:...   \n",
      "...               ...                                                ...   \n",
      "17245  INTERVENTIONAL  Allocation: RANDOMIZED|Intervention Model: PAR...   \n",
      "17249  INTERVENTIONAL  Allocation: RANDOMIZED|Intervention Model: PAR...   \n",
      "17251  INTERVENTIONAL  Allocation: RANDOMIZED|Intervention Model: PAR...   \n",
      "17254  INTERVENTIONAL  Allocation: RANDOMIZED|Intervention Model: PAR...   \n",
      "17260  INTERVENTIONAL  Allocation: RANDOMIZED|Intervention Model: CRO...   \n",
      "\n",
      "                                               Locations  \\\n",
      "4      University of Arizona Arthritis Center, Gilber...   \n",
      "15     Haukeland University Hospital, Bergen, Norway|...   \n",
      "16     University of Michigan, Ann Arbor, Michigan, 4...   \n",
      "17     M D Anderson Cancer Center, Houston, Texas, 77...   \n",
      "38     Sun Yat-sen University Cancer Center, Guangzho...   \n",
      "...                                                  ...   \n",
      "17245  Korea University Ansan Hospital, Ansan, Korea,...   \n",
      "17249  Fakultni Nemocnice u Sv. Anny - FNUSA, Brno, 6...   \n",
      "17251  Endocrinology Associates Montgomery, Montgomer...   \n",
      "17254  European University Cyprus, Nicosia, 1516, Cyp...   \n",
      "17260  Humanpharmakologisches Zentrum Biberach, Biber...   \n",
      "\n",
      "       Interventions_Numeric  \n",
      "4                        663  \n",
      "15                       677  \n",
      "16                      1200  \n",
      "17                      1792  \n",
      "38                        77  \n",
      "...                      ...  \n",
      "17245                    173  \n",
      "17249                    480  \n",
      "17251                   1194  \n",
      "17254                   1235  \n",
      "17260                    897  \n",
      "\n",
      "[1873 rows x 14 columns]\n"
     ]
    }
   ],
   "source": [
    "import pandas as pd\n",
    "\n",
    "# Assuming 'df_cleaned' is your DataFrame\n",
    "# Replace NaN and empty values\n",
    "df_cleaned = df_cleaned[df_cleaned['Age'].notna() & (df_cleaned['Age'] != '')]\n",
    "df_cleaned['Age'] = df_cleaned['Age'].fillna('0')\n",
    "\n",
    "# Convert column to string to standardize\n",
    "df_cleaned['Age'] = df_cleaned['Age'].astype(str)\n",
    "\n",
    "# Convert strings to numeric where possible (ignore errors)\n",
    "df_cleaned['Age'] = pd.to_numeric(df_cleaned['Age'], errors='coerce')\n",
    "\n",
    "# Dynamically update values based on their frequency\n",
    "name_counts = df_cleaned['Age'].value_counts()\n",
    "\n",
    "# Replace each unique value with its frequency\n",
    "for i in range(1, 21):  # Adjust the range if you expect more repetitions\n",
    "    df_cleaned['Age'] = df_cleaned['Age'].apply(\n",
    "        lambda x: i if pd.notna(x) and name_counts.get(x, 0) == i else x\n",
    "    )\n",
    "    name_counts = df_cleaned['Age'].value_counts()\n",
    "\n",
    "# Convert back to integer (after handling non-convertible values)\n",
    "df_cleaned['Age'] = df_cleaned['Age'].fillna(0).astype(int)\n",
    "\n",
    "# Display the cleaned DataFrame\n",
    "print(df_cleaned)\n"
   ]
  },
  {
   "cell_type": "code",
   "execution_count": 63,
   "id": "f8a3a7e0",
   "metadata": {
    "execution": {
     "iopub.execute_input": "2025-01-04T16:02:34.615937Z",
     "iopub.status.busy": "2025-01-04T16:02:34.615644Z",
     "iopub.status.idle": "2025-01-04T16:02:34.621060Z",
     "shell.execute_reply": "2025-01-04T16:02:34.620259Z"
    },
    "papermill": {
     "duration": 0.02822,
     "end_time": "2025-01-04T16:02:34.622199",
     "exception": false,
     "start_time": "2025-01-04T16:02:34.593979",
     "status": "completed"
    },
    "tags": []
   },
   "outputs": [
    {
     "data": {
      "text/plain": [
       "Age\n",
       "0    1866\n",
       "7       7\n",
       "Name: count, dtype: int64"
      ]
     },
     "execution_count": 63,
     "metadata": {},
     "output_type": "execute_result"
    }
   ],
   "source": [
    "df_cleaned['Age'].value_counts()"
   ]
  },
  {
   "cell_type": "code",
   "execution_count": 64,
   "id": "683def97",
   "metadata": {
    "execution": {
     "iopub.execute_input": "2025-01-04T16:02:34.664790Z",
     "iopub.status.busy": "2025-01-04T16:02:34.664560Z",
     "iopub.status.idle": "2025-01-04T16:02:34.670535Z",
     "shell.execute_reply": "2025-01-04T16:02:34.669649Z"
    },
    "papermill": {
     "duration": 0.028758,
     "end_time": "2025-01-04T16:02:34.671656",
     "exception": false,
     "start_time": "2025-01-04T16:02:34.642898",
     "status": "completed"
    },
    "tags": []
   },
   "outputs": [
    {
     "data": {
      "text/plain": [
       "Study Status\n",
       "COMPLETED                                                                                                                                                                                                             1841\n",
       " and for erythema                                                                                                                                                                                                        1\n",
       " driving                                                                                                                                                                                                                 1\n",
       " creatinine                                                                                                                                                                                                              1\n",
       " Expressed as Number of Events Per Participant                                                                                                                                                                           1\n",
       " week 80)|Area Under the Concentration-time Curve (AUC) 0-4h of Mixed Meal Tolerance Test (MMTT) Stimulated C-peptide at Week 80 Relative to Baseline                                                                    1\n",
       "694                                                                                                                                                                                                                      1\n",
       " Baseline and Week 112|Percentage of Participants With at Least One Adverse Event                                                                                                                                        1\n",
       " 13-24                                                                                                                                                                                                                   1\n",
       " SG1 4AB                                                                                                                                                                                                                 1\n",
       "11030                                                                                                                                                                                                                    1\n",
       " Weeks 4                                                                                                                                                                                                                 1\n",
       " \"\"18 to 65 years\"\" and \"\"\\>65 years\"\". All subjects who received the second dose of vaccine                                                                                                                             1\n",
       " Ukraine|LLC \"\"Diaservis\"\"                                                                                                                                                                                               1\n",
       " self-reported                                                                                                                                                                                                           1\n",
       " right-forward (45°)                                                                                                                                                                                                     1\n",
       "4                                                                                                                                                                                                                        1\n",
       " and 56|Percentage of Participants With BCVA Snellen Equivalent of 20/200 or Worse (BCVA ≤38 Letters) in the Study Eye Over Time                                                                                         1\n",
       " Kennewick                                                                                                                                                                                                               1\n",
       " Week 0                                                                                                                                                                                                                  1\n",
       "24                                                                                                                                                                                                                       1\n",
       " Korea                                                                                                                                                                                                                   1\n",
       " Lymphocytes                                                                                                                                                                                                             1\n",
       " where 3 to 5 = mild; 6 to 10 = moderate; and 11 to 12 = severe; higher scores indicate worsening of the disease. Participants who had a prohibited change in concomitant UC medication or an ostomy or colectomy        1\n",
       " (febrile) neutropenia                                                                                                                                                                                                   1\n",
       " GETEMED; Bittium Faros 360TM) and every 2 min (Mobil-O-Graph® PWA) for a total duration of 50 min.|Change in Augmentation Index                                                                                         1\n",
       " 18 & 24; study treatment completion visit (up to approx. 84 months)|Arm G+H (Phase II NF Cohorts): Plasma Concentration of Polatuzumab Vedotin Analyte: Total Ab                                                        1\n",
       " within each treatment.                                                                                                                                                                                                  1\n",
       "40                                                                                                                                                                                                                       1\n",
       " Study week 12 (12 weeks after study medication start)|Percentage of Participants Reporting a Severe or Very Severe Rash Attributable to Furosemide at Week 14                                                           1\n",
       " trunk                                                                                                                                                                                                                   1\n",
       " Urine samples were collected for analysis of urine pH. pH is calculated on a scale of 0 to 14                                                                                                                           1\n",
       " pre-dose                                                                                                                                                                                                                1\n",
       "Name: count, dtype: int64"
      ]
     },
     "execution_count": 64,
     "metadata": {},
     "output_type": "execute_result"
    }
   ],
   "source": [
    "df_cleaned['Study Status'].value_counts()"
   ]
  },
  {
   "cell_type": "code",
   "execution_count": 65,
   "id": "93ef5cc4",
   "metadata": {
    "execution": {
     "iopub.execute_input": "2025-01-04T16:02:34.716128Z",
     "iopub.status.busy": "2025-01-04T16:02:34.715900Z",
     "iopub.status.idle": "2025-01-04T16:02:34.732251Z",
     "shell.execute_reply": "2025-01-04T16:02:34.731183Z"
    },
    "papermill": {
     "duration": 0.040972,
     "end_time": "2025-01-04T16:02:34.733603",
     "exception": false,
     "start_time": "2025-01-04T16:02:34.692631",
     "status": "completed"
    },
    "tags": []
   },
   "outputs": [
    {
     "name": "stdout",
     "output_type": "stream",
     "text": [
      "       Study Status  Study Results  \\\n",
      "4                 0              0   \n",
      "15                0              0   \n",
      "16                0              0   \n",
      "17                0              0   \n",
      "38                0              0   \n",
      "...             ...            ...   \n",
      "17245             0              0   \n",
      "17249             0              0   \n",
      "17251             0              0   \n",
      "17254             0              0   \n",
      "17260             0              0   \n",
      "\n",
      "                                              Conditions  Sponsor  \\\n",
      "4                           Systemic Lupus Erythematosus        0   \n",
      "15                                         Low Back Pain        0   \n",
      "16                          Delayed Sleep Phase Syndrome        0   \n",
      "17     Advanced Digestive System Neuroendocrine Neopl...        0   \n",
      "38                              Nasopharyngeal Carcinoma        0   \n",
      "...                                                  ...      ...   \n",
      "17245                      COVID-19 (Healthy Volunteers)        0   \n",
      "17249                                            Allergy        0   \n",
      "17251                          Diabetes Mellitus, Type 1        0   \n",
      "17254                     Glutathione Metabolism Anemias        0   \n",
      "17260                                            Healthy        0   \n",
      "\n",
      "       Collaborators  Sex  Age         Phases Enrollment Funder Type  \\\n",
      "4                  2    0    0         PHASE3        778    INDUSTRY   \n",
      "15                 1    0    0         PHASE3        128       OTHER   \n",
      "16                 1    0    0         PHASE3         44       OTHER   \n",
      "17                 1    0    0         PHASE2         21       OTHER   \n",
      "38                 3    0    0         PHASE2         34    INDUSTRY   \n",
      "...              ...  ...  ...            ...        ...         ...   \n",
      "17245              4    0    0  PHASE1|PHASE2        260    INDUSTRY   \n",
      "17249              9    0    0         PHASE3        445    INDUSTRY   \n",
      "17251              2    0    0         PHASE3        478    INDUSTRY   \n",
      "17254              1    0    0         PHASE2         36       OTHER   \n",
      "17260             11    0    0         PHASE1         30    INDUSTRY   \n",
      "\n",
      "           Study Type                                       Study Design  \\\n",
      "4      INTERVENTIONAL  Allocation: RANDOMIZED|Intervention Model: PAR...   \n",
      "15     INTERVENTIONAL  Allocation: RANDOMIZED|Intervention Model: PAR...   \n",
      "16     INTERVENTIONAL  Allocation: RANDOMIZED|Intervention Model: PAR...   \n",
      "17     INTERVENTIONAL  Allocation: NA|Intervention Model: SINGLE_GROU...   \n",
      "38     INTERVENTIONAL  Allocation: NON_RANDOMIZED|Intervention Model:...   \n",
      "...               ...                                                ...   \n",
      "17245  INTERVENTIONAL  Allocation: RANDOMIZED|Intervention Model: PAR...   \n",
      "17249  INTERVENTIONAL  Allocation: RANDOMIZED|Intervention Model: PAR...   \n",
      "17251  INTERVENTIONAL  Allocation: RANDOMIZED|Intervention Model: PAR...   \n",
      "17254  INTERVENTIONAL  Allocation: RANDOMIZED|Intervention Model: PAR...   \n",
      "17260  INTERVENTIONAL  Allocation: RANDOMIZED|Intervention Model: CRO...   \n",
      "\n",
      "                                               Locations  \\\n",
      "4      University of Arizona Arthritis Center, Gilber...   \n",
      "15     Haukeland University Hospital, Bergen, Norway|...   \n",
      "16     University of Michigan, Ann Arbor, Michigan, 4...   \n",
      "17     M D Anderson Cancer Center, Houston, Texas, 77...   \n",
      "38     Sun Yat-sen University Cancer Center, Guangzho...   \n",
      "...                                                  ...   \n",
      "17245  Korea University Ansan Hospital, Ansan, Korea,...   \n",
      "17249  Fakultni Nemocnice u Sv. Anny - FNUSA, Brno, 6...   \n",
      "17251  Endocrinology Associates Montgomery, Montgomer...   \n",
      "17254  European University Cyprus, Nicosia, 1516, Cyp...   \n",
      "17260  Humanpharmakologisches Zentrum Biberach, Biber...   \n",
      "\n",
      "       Interventions_Numeric  \n",
      "4                        663  \n",
      "15                       677  \n",
      "16                      1200  \n",
      "17                      1792  \n",
      "38                        77  \n",
      "...                      ...  \n",
      "17245                    173  \n",
      "17249                    480  \n",
      "17251                   1194  \n",
      "17254                   1235  \n",
      "17260                    897  \n",
      "\n",
      "[1873 rows x 14 columns]\n"
     ]
    }
   ],
   "source": [
    "import pandas as pd\n",
    "\n",
    "# Assuming 'df_cleaned' is your DataFrame\n",
    "# Step 1: Remove NaN and empty values\n",
    "df_cleaned = df_cleaned[df_cleaned['Study Status'].notna() & (df_cleaned['Study Status'] != '')]\n",
    "df_cleaned['Study Status'] = df_cleaned['Study Status'].fillna('0')\n",
    "\n",
    "# Step 2: Convert column to string format to standardize\n",
    "df_cleaned['Study Status'] = df_cleaned['Study Status'].astype(str)\n",
    "\n",
    "# Step 3: Convert strings to numeric where possible (ignore errors)\n",
    "df_cleaned['Study Status'] = pd.to_numeric(df_cleaned['Study Status'], errors='coerce')\n",
    "\n",
    "# Step 4: Replace each unique value with its frequency count\n",
    "# Calculate value counts for 'Study Status'\n",
    "name_counts = df_cleaned['Study Status'].value_counts()\n",
    "\n",
    "# Apply the transformation based on frequency\n",
    "df_cleaned['Study Status'] = df_cleaned['Study Status'].apply(\n",
    "    lambda x: name_counts.get(x, 0) if pd.notna(x) else 0\n",
    ")\n",
    "\n",
    "# Step 5: Convert back to integer, replacing non-convertible values with 0\n",
    "df_cleaned['Study Status'] = df_cleaned['Study Status'].fillna(0).astype(int)\n",
    "\n",
    "# Display the cleaned DataFrame\n",
    "print(df_cleaned)\n"
   ]
  },
  {
   "cell_type": "code",
   "execution_count": 66,
   "id": "30e30550",
   "metadata": {
    "execution": {
     "iopub.execute_input": "2025-01-04T16:02:34.814803Z",
     "iopub.status.busy": "2025-01-04T16:02:34.814475Z",
     "iopub.status.idle": "2025-01-04T16:02:34.820467Z",
     "shell.execute_reply": "2025-01-04T16:02:34.819755Z"
    },
    "papermill": {
     "duration": 0.06505,
     "end_time": "2025-01-04T16:02:34.821814",
     "exception": false,
     "start_time": "2025-01-04T16:02:34.756764",
     "status": "completed"
    },
    "tags": []
   },
   "outputs": [
    {
     "data": {
      "text/plain": [
       "Study Status\n",
       "0    1868\n",
       "1       5\n",
       "Name: count, dtype: int64"
      ]
     },
     "execution_count": 66,
     "metadata": {},
     "output_type": "execute_result"
    }
   ],
   "source": [
    "df_cleaned['Study Status'].value_counts()"
   ]
  },
  {
   "cell_type": "code",
   "execution_count": 67,
   "id": "901a48c7",
   "metadata": {
    "execution": {
     "iopub.execute_input": "2025-01-04T16:02:34.865214Z",
     "iopub.status.busy": "2025-01-04T16:02:34.865010Z",
     "iopub.status.idle": "2025-01-04T16:02:34.870971Z",
     "shell.execute_reply": "2025-01-04T16:02:34.870291Z"
    },
    "papermill": {
     "duration": 0.028811,
     "end_time": "2025-01-04T16:02:34.872054",
     "exception": false,
     "start_time": "2025-01-04T16:02:34.843243",
     "status": "completed"
    },
    "tags": []
   },
   "outputs": [
    {
     "data": {
      "text/plain": [
       "Phases\n",
       "PHASE2                                                                                                                                                                                 520\n",
       "PHASE1                                                                                                                                                                                 479\n",
       "PHASE4                                                                                                                                                                                 283\n",
       "PHASE3                                                                                                                                                                                 250\n",
       "PHASE1|PHASE2                                                                                                                                                                          160\n",
       "EARLY_PHASE1                                                                                                                                                                            84\n",
       "PHASE2|PHASE3                                                                                                                                                                           65\n",
       " and scaling                                                                                                                                                                             1\n",
       " social functioning                                                                                                                                                                      1\n",
       " calcium                                                                                                                                                                                 1\n",
       " divided by 365.25)                                                                                                                                                                      1\n",
       " Area under the concentration-time curve                                                                                                                                                 1\n",
       "400132                                                                                                                                                                                   1\n",
       " require surgical or medical intervention to prevent permanent loss of sight                                                                                                             1\n",
       " 157-168                                                                                                                                                                                 1\n",
       " DN2 5LT                                                                                                                                                                                 1\n",
       "10016                                                                                                                                                                                    1\n",
       "52                                                                                                                                                                                       1\n",
       " refer to outcome n°48 for the overall (across age strata) post-dose 2 results.                                                                                                          1\n",
       " Bath                                                                                                                                                                                    1\n",
       " or if they had no preference. The 95% confidence intervals were calculated for one sample binomial using the Pearson-Clopper method.                                                    1\n",
       " keeping their heels in contact with the force plates and their arms/hands at their sides. The subjects will be instructed to shifted his or her center of mass to forward (0°)          1\n",
       "2                                                                                                                                                                                        1\n",
       "16                                                                                                                                                                                       1\n",
       " Longview                                                                                                                                                                                1\n",
       " week 35|Occurence of Anti-semaglutide Antibodies (Yes/no)                                                                                                                               1\n",
       " and 72|Parts 1 and 2: Percentage of Participants With Absence of Intraretinal Fluid in the Study Eye at Specified Timepoints Through Week 72                                            1\n",
       " Korea                                                                                                                                                                                   1\n",
       " Monocytes                                                                                                                                                                               1\n",
       " Induction Baseline and Week 44|Maintenance Study - Number of Participants With Individual Mayo Subscore (Stool Frequency) up to Week 44                                                 1\n",
       " (febrile) neutropenia                                                                                                                                                                   1\n",
       " t3 (t3 = mean of the measurements recorded from minute 1-10 of the footbath)                                                                                                            1\n",
       " 1 hour (h); 2h                                                                                                                                                                          1\n",
       " including those from unscheduled visits                                                                                                                                                 1\n",
       "8                                                                                                                                                                                        1\n",
       " Study week 16 (16 weeks after study medication start)|Percentage of Participants Reporting a Severe or Very Severe Rash Attributable to Furosemide at Week 18                           1\n",
       " lower extremities. Each area was assessed separately for percentage of area involved and translated to numeric score ranging from 0 (no involvement) to 6 (90 to 100% involvement)      1\n",
       " Day 1 at 4 hours post intervention and Day 2 of each treatment period|Absolute Values for Temperature in Part 1                                                                         1\n",
       "12                                                                                                                                                                                       1\n",
       "Name: count, dtype: int64"
      ]
     },
     "execution_count": 67,
     "metadata": {},
     "output_type": "execute_result"
    }
   ],
   "source": [
    "df_cleaned['Phases'].value_counts()"
   ]
  },
  {
   "cell_type": "code",
   "execution_count": 68,
   "id": "b7702538",
   "metadata": {
    "execution": {
     "iopub.execute_input": "2025-01-04T16:02:34.916833Z",
     "iopub.status.busy": "2025-01-04T16:02:34.916603Z",
     "iopub.status.idle": "2025-01-04T16:02:34.932266Z",
     "shell.execute_reply": "2025-01-04T16:02:34.931286Z"
    },
    "papermill": {
     "duration": 0.039443,
     "end_time": "2025-01-04T16:02:34.933372",
     "exception": false,
     "start_time": "2025-01-04T16:02:34.893929",
     "status": "completed"
    },
    "tags": []
   },
   "outputs": [
    {
     "name": "stdout",
     "output_type": "stream",
     "text": [
      "       Study Status  Study Results  \\\n",
      "4                 0              0   \n",
      "15                0              0   \n",
      "16                0              0   \n",
      "17                0              0   \n",
      "38                0              0   \n",
      "...             ...            ...   \n",
      "17245             0              0   \n",
      "17249             0              0   \n",
      "17251             0              0   \n",
      "17254             0              0   \n",
      "17260             0              0   \n",
      "\n",
      "                                              Conditions  Sponsor  \\\n",
      "4                           Systemic Lupus Erythematosus        0   \n",
      "15                                         Low Back Pain        0   \n",
      "16                          Delayed Sleep Phase Syndrome        0   \n",
      "17     Advanced Digestive System Neuroendocrine Neopl...        0   \n",
      "38                              Nasopharyngeal Carcinoma        0   \n",
      "...                                                  ...      ...   \n",
      "17245                      COVID-19 (Healthy Volunteers)        0   \n",
      "17249                                            Allergy        0   \n",
      "17251                          Diabetes Mellitus, Type 1        0   \n",
      "17254                     Glutathione Metabolism Anemias        0   \n",
      "17260                                            Healthy        0   \n",
      "\n",
      "       Collaborators  Sex  Age  Phases Enrollment Funder Type      Study Type  \\\n",
      "4                  2    0    0       0        778    INDUSTRY  INTERVENTIONAL   \n",
      "15                 1    0    0       0        128       OTHER  INTERVENTIONAL   \n",
      "16                 1    0    0       0         44       OTHER  INTERVENTIONAL   \n",
      "17                 1    0    0       0         21       OTHER  INTERVENTIONAL   \n",
      "38                 3    0    0       0         34    INDUSTRY  INTERVENTIONAL   \n",
      "...              ...  ...  ...     ...        ...         ...             ...   \n",
      "17245              4    0    0       0        260    INDUSTRY  INTERVENTIONAL   \n",
      "17249              9    0    0       0        445    INDUSTRY  INTERVENTIONAL   \n",
      "17251              2    0    0       0        478    INDUSTRY  INTERVENTIONAL   \n",
      "17254              1    0    0       0         36       OTHER  INTERVENTIONAL   \n",
      "17260             11    0    0       0         30    INDUSTRY  INTERVENTIONAL   \n",
      "\n",
      "                                            Study Design  \\\n",
      "4      Allocation: RANDOMIZED|Intervention Model: PAR...   \n",
      "15     Allocation: RANDOMIZED|Intervention Model: PAR...   \n",
      "16     Allocation: RANDOMIZED|Intervention Model: PAR...   \n",
      "17     Allocation: NA|Intervention Model: SINGLE_GROU...   \n",
      "38     Allocation: NON_RANDOMIZED|Intervention Model:...   \n",
      "...                                                  ...   \n",
      "17245  Allocation: RANDOMIZED|Intervention Model: PAR...   \n",
      "17249  Allocation: RANDOMIZED|Intervention Model: PAR...   \n",
      "17251  Allocation: RANDOMIZED|Intervention Model: PAR...   \n",
      "17254  Allocation: RANDOMIZED|Intervention Model: PAR...   \n",
      "17260  Allocation: RANDOMIZED|Intervention Model: CRO...   \n",
      "\n",
      "                                               Locations  \\\n",
      "4      University of Arizona Arthritis Center, Gilber...   \n",
      "15     Haukeland University Hospital, Bergen, Norway|...   \n",
      "16     University of Michigan, Ann Arbor, Michigan, 4...   \n",
      "17     M D Anderson Cancer Center, Houston, Texas, 77...   \n",
      "38     Sun Yat-sen University Cancer Center, Guangzho...   \n",
      "...                                                  ...   \n",
      "17245  Korea University Ansan Hospital, Ansan, Korea,...   \n",
      "17249  Fakultni Nemocnice u Sv. Anny - FNUSA, Brno, 6...   \n",
      "17251  Endocrinology Associates Montgomery, Montgomer...   \n",
      "17254  European University Cyprus, Nicosia, 1516, Cyp...   \n",
      "17260  Humanpharmakologisches Zentrum Biberach, Biber...   \n",
      "\n",
      "       Interventions_Numeric  \n",
      "4                        663  \n",
      "15                       677  \n",
      "16                      1200  \n",
      "17                      1792  \n",
      "38                        77  \n",
      "...                      ...  \n",
      "17245                    173  \n",
      "17249                    480  \n",
      "17251                   1194  \n",
      "17254                   1235  \n",
      "17260                    897  \n",
      "\n",
      "[1873 rows x 14 columns]\n"
     ]
    }
   ],
   "source": [
    "import pandas as pd\n",
    "\n",
    "# Assuming 'df_cleaned' is your DataFrame\n",
    "# Replace NaN and empty values\n",
    "df_cleaned = df_cleaned[df_cleaned['Phases'].notna() & (df_cleaned['Phases'] != '')]\n",
    "df_cleaned['Phases'] = df_cleaned['Phases'].fillna('0')\n",
    "\n",
    "# Convert column to string to standardize\n",
    "df_cleaned['Phases'] = df_cleaned['Phases'].astype(str)\n",
    "\n",
    "# Convert strings to numeric where possible (ignore errors)\n",
    "df_cleaned['Phases'] = pd.to_numeric(df_cleaned['Phases'], errors='coerce')\n",
    "\n",
    "# Dynamically update values based on their frequency\n",
    "name_counts = df_cleaned['Phases'].value_counts()\n",
    "\n",
    "# Replace values based on their frequency\n",
    "df_cleaned['Phases'] = df_cleaned['Phases'].apply(\n",
    "    lambda x: name_counts.get(x, 0) if pd.notna(x) else 0\n",
    ")\n",
    "\n",
    "# Convert back to integer (after handling non-convertible values)\n",
    "df_cleaned['Phases'] = df_cleaned['Phases'].fillna(0).astype(int)\n",
    "\n",
    "# Display the cleaned DataFrame\n",
    "print(df_cleaned)\n"
   ]
  },
  {
   "cell_type": "code",
   "execution_count": 69,
   "id": "b831ecbc",
   "metadata": {
    "execution": {
     "iopub.execute_input": "2025-01-04T16:02:34.977635Z",
     "iopub.status.busy": "2025-01-04T16:02:34.977401Z",
     "iopub.status.idle": "2025-01-04T16:02:34.982786Z",
     "shell.execute_reply": "2025-01-04T16:02:34.981992Z"
    },
    "papermill": {
     "duration": 0.02921,
     "end_time": "2025-01-04T16:02:34.984186",
     "exception": false,
     "start_time": "2025-01-04T16:02:34.954976",
     "status": "completed"
    },
    "tags": []
   },
   "outputs": [
    {
     "data": {
      "text/plain": [
       "Phases\n",
       "0    1866\n",
       "1       7\n",
       "Name: count, dtype: int64"
      ]
     },
     "execution_count": 69,
     "metadata": {},
     "output_type": "execute_result"
    }
   ],
   "source": [
    "df_cleaned['Phases'].value_counts()"
   ]
  },
  {
   "cell_type": "code",
   "execution_count": 70,
   "id": "b9592f6b",
   "metadata": {
    "execution": {
     "iopub.execute_input": "2025-01-04T16:02:35.029419Z",
     "iopub.status.busy": "2025-01-04T16:02:35.029174Z",
     "iopub.status.idle": "2025-01-04T16:02:35.033823Z",
     "shell.execute_reply": "2025-01-04T16:02:35.033010Z"
    },
    "papermill": {
     "duration": 0.028974,
     "end_time": "2025-01-04T16:02:35.035047",
     "exception": false,
     "start_time": "2025-01-04T16:02:35.006073",
     "status": "completed"
    },
    "tags": []
   },
   "outputs": [
    {
     "data": {
      "text/plain": [
       "dtype('O')"
      ]
     },
     "execution_count": 70,
     "metadata": {},
     "output_type": "execute_result"
    }
   ],
   "source": [
    "df_cleaned['Enrollment'].dtype"
   ]
  },
  {
   "cell_type": "code",
   "execution_count": 71,
   "id": "4d8ce307",
   "metadata": {
    "execution": {
     "iopub.execute_input": "2025-01-04T16:02:35.080992Z",
     "iopub.status.busy": "2025-01-04T16:02:35.080751Z",
     "iopub.status.idle": "2025-01-04T16:02:35.105029Z",
     "shell.execute_reply": "2025-01-04T16:02:35.104055Z"
    },
    "papermill": {
     "duration": 0.048349,
     "end_time": "2025-01-04T16:02:35.106252",
     "exception": false,
     "start_time": "2025-01-04T16:02:35.057903",
     "status": "completed"
    },
    "tags": []
   },
   "outputs": [
    {
     "name": "stdout",
     "output_type": "stream",
     "text": [
      "       Study Status  Study Results  \\\n",
      "4                 0              0   \n",
      "15                0              0   \n",
      "16                0              0   \n",
      "17                0              0   \n",
      "38                0              0   \n",
      "...             ...            ...   \n",
      "17245             0              0   \n",
      "17249             0              0   \n",
      "17251             0              0   \n",
      "17254             0              0   \n",
      "17260             0              0   \n",
      "\n",
      "                                              Conditions  Sponsor  \\\n",
      "4                           Systemic Lupus Erythematosus        0   \n",
      "15                                         Low Back Pain        0   \n",
      "16                          Delayed Sleep Phase Syndrome        0   \n",
      "17     Advanced Digestive System Neuroendocrine Neopl...        0   \n",
      "38                              Nasopharyngeal Carcinoma        0   \n",
      "...                                                  ...      ...   \n",
      "17245                      COVID-19 (Healthy Volunteers)        0   \n",
      "17249                                            Allergy        0   \n",
      "17251                          Diabetes Mellitus, Type 1        0   \n",
      "17254                     Glutathione Metabolism Anemias        0   \n",
      "17260                                            Healthy        0   \n",
      "\n",
      "       Collaborators  Sex  Age  Phases  Enrollment Funder Type  \\\n",
      "4                  2    0    0       0           1    INDUSTRY   \n",
      "15                 1    0    0       0          10       OTHER   \n",
      "16                 1    0    0       0          14       OTHER   \n",
      "17                 1    0    0       0          16       OTHER   \n",
      "38                 3    0    0       0          14    INDUSTRY   \n",
      "...              ...  ...  ...     ...         ...         ...   \n",
      "17245              4    0    0       0           2    INDUSTRY   \n",
      "17249              9    0    0       0           3    INDUSTRY   \n",
      "17251              2    0    0       0           3    INDUSTRY   \n",
      "17254              1    0    0       0          21       OTHER   \n",
      "17260             11    0    0       0          59    INDUSTRY   \n",
      "\n",
      "           Study Type                                       Study Design  \\\n",
      "4      INTERVENTIONAL  Allocation: RANDOMIZED|Intervention Model: PAR...   \n",
      "15     INTERVENTIONAL  Allocation: RANDOMIZED|Intervention Model: PAR...   \n",
      "16     INTERVENTIONAL  Allocation: RANDOMIZED|Intervention Model: PAR...   \n",
      "17     INTERVENTIONAL  Allocation: NA|Intervention Model: SINGLE_GROU...   \n",
      "38     INTERVENTIONAL  Allocation: NON_RANDOMIZED|Intervention Model:...   \n",
      "...               ...                                                ...   \n",
      "17245  INTERVENTIONAL  Allocation: RANDOMIZED|Intervention Model: PAR...   \n",
      "17249  INTERVENTIONAL  Allocation: RANDOMIZED|Intervention Model: PAR...   \n",
      "17251  INTERVENTIONAL  Allocation: RANDOMIZED|Intervention Model: PAR...   \n",
      "17254  INTERVENTIONAL  Allocation: RANDOMIZED|Intervention Model: PAR...   \n",
      "17260  INTERVENTIONAL  Allocation: RANDOMIZED|Intervention Model: CRO...   \n",
      "\n",
      "                                               Locations  \\\n",
      "4      University of Arizona Arthritis Center, Gilber...   \n",
      "15     Haukeland University Hospital, Bergen, Norway|...   \n",
      "16     University of Michigan, Ann Arbor, Michigan, 4...   \n",
      "17     M D Anderson Cancer Center, Houston, Texas, 77...   \n",
      "38     Sun Yat-sen University Cancer Center, Guangzho...   \n",
      "...                                                  ...   \n",
      "17245  Korea University Ansan Hospital, Ansan, Korea,...   \n",
      "17249  Fakultni Nemocnice u Sv. Anny - FNUSA, Brno, 6...   \n",
      "17251  Endocrinology Associates Montgomery, Montgomer...   \n",
      "17254  European University Cyprus, Nicosia, 1516, Cyp...   \n",
      "17260  Humanpharmakologisches Zentrum Biberach, Biber...   \n",
      "\n",
      "       Interventions_Numeric  \n",
      "4                        663  \n",
      "15                       677  \n",
      "16                      1200  \n",
      "17                      1792  \n",
      "38                        77  \n",
      "...                      ...  \n",
      "17245                    173  \n",
      "17249                    480  \n",
      "17251                   1194  \n",
      "17254                   1235  \n",
      "17260                    897  \n",
      "\n",
      "[1873 rows x 14 columns]\n"
     ]
    }
   ],
   "source": [
    "import pandas as pd\n",
    "\n",
    "# Assuming 'df_cleaned' is your DataFrame\n",
    "# Replace NaN and empty values in 'Enrollment'\n",
    "df_cleaned = df_cleaned[df_cleaned['Enrollment'].notna() & (df_cleaned['Enrollment'] != '')]\n",
    "df_cleaned['Enrollment'] = df_cleaned['Enrollment'].fillna('0')\n",
    "\n",
    "# Convert column to string to standardize\n",
    "df_cleaned['Enrollment'] = df_cleaned['Enrollment'].astype(str)\n",
    "\n",
    "# Convert strings to numeric where possible (ignore errors)\n",
    "df_cleaned['Enrollment'] = pd.to_numeric(df_cleaned['Enrollment'], errors='coerce')\n",
    "\n",
    "# Dynamically update values based on their frequency\n",
    "name_counts = df_cleaned['Enrollment'].value_counts()\n",
    "\n",
    "# Loop through unique values and replace by their frequency\n",
    "df_cleaned['Enrollment'] = df_cleaned['Enrollment'].apply(\n",
    "    lambda x: name_counts.get(x, 0) if pd.notna(x) else x\n",
    ")\n",
    "\n",
    "# Convert back to integer (after handling non-convertible values)\n",
    "df_cleaned['Enrollment'] = df_cleaned['Enrollment'].fillna(0).astype(int)\n",
    "\n",
    "# Display the cleaned DataFrame\n",
    "print(df_cleaned)\n"
   ]
  },
  {
   "cell_type": "code",
   "execution_count": 72,
   "id": "968304b8",
   "metadata": {
    "execution": {
     "iopub.execute_input": "2025-01-04T16:02:35.153319Z",
     "iopub.status.busy": "2025-01-04T16:02:35.153121Z",
     "iopub.status.idle": "2025-01-04T16:02:35.158444Z",
     "shell.execute_reply": "2025-01-04T16:02:35.157842Z"
    },
    "papermill": {
     "duration": 0.029175,
     "end_time": "2025-01-04T16:02:35.159538",
     "exception": false,
     "start_time": "2025-01-04T16:02:35.130363",
     "status": "completed"
    },
    "tags": []
   },
   "outputs": [
    {
     "data": {
      "text/plain": [
       "Enrollment\n",
       "1     231\n",
       "2     122\n",
       "3     114\n",
       "21    105\n",
       "7      84\n",
       "16     80\n",
       "13     78\n",
       "4      76\n",
       "24     72\n",
       "12     72\n",
       "10     70\n",
       "14     70\n",
       "63     63\n",
       "59     59\n",
       "29     58\n",
       "48     48\n",
       "9      45\n",
       "19     38\n",
       "6      36\n",
       "35     35\n",
       "5      35\n",
       "33     33\n",
       "8      32\n",
       "32     32\n",
       "31     31\n",
       "15     30\n",
       "27     27\n",
       "0      27\n",
       "22     22\n",
       "20     20\n",
       "17     17\n",
       "11     11\n",
       "Name: count, dtype: int64"
      ]
     },
     "execution_count": 72,
     "metadata": {},
     "output_type": "execute_result"
    }
   ],
   "source": [
    "df_cleaned['Enrollment'].value_counts()"
   ]
  },
  {
   "cell_type": "code",
   "execution_count": 73,
   "id": "34ecf703",
   "metadata": {
    "execution": {
     "iopub.execute_input": "2025-01-04T16:02:35.204186Z",
     "iopub.status.busy": "2025-01-04T16:02:35.203988Z",
     "iopub.status.idle": "2025-01-04T16:02:35.208138Z",
     "shell.execute_reply": "2025-01-04T16:02:35.207486Z"
    },
    "papermill": {
     "duration": 0.027563,
     "end_time": "2025-01-04T16:02:35.209343",
     "exception": false,
     "start_time": "2025-01-04T16:02:35.181780",
     "status": "completed"
    },
    "tags": []
   },
   "outputs": [
    {
     "data": {
      "text/plain": [
       "dtype('int64')"
      ]
     },
     "execution_count": 73,
     "metadata": {},
     "output_type": "execute_result"
    }
   ],
   "source": [
    "df_cleaned['Enrollment'].dtype"
   ]
  },
  {
   "cell_type": "code",
   "execution_count": 74,
   "id": "22b482ac",
   "metadata": {
    "execution": {
     "iopub.execute_input": "2025-01-04T16:02:35.254785Z",
     "iopub.status.busy": "2025-01-04T16:02:35.254526Z",
     "iopub.status.idle": "2025-01-04T16:02:35.260599Z",
     "shell.execute_reply": "2025-01-04T16:02:35.259866Z"
    },
    "papermill": {
     "duration": 0.030205,
     "end_time": "2025-01-04T16:02:35.261859",
     "exception": false,
     "start_time": "2025-01-04T16:02:35.231654",
     "status": "completed"
    },
    "tags": []
   },
   "outputs": [
    {
     "data": {
      "text/plain": [
       "Funder Type\n",
       "OTHER                                                                                                                                                                                                       1073\n",
       "INDUSTRY                                                                                                                                                                                                     659\n",
       "OTHER_GOV                                                                                                                                                                                                     37\n",
       "NETWORK                                                                                                                                                                                                       35\n",
       "NIH                                                                                                                                                                                                           18\n",
       "FED                                                                                                                                                                                                           17\n",
       "INDIV                                                                                                                                                                                                          2\n",
       " bicarbonate                                                                                                                                                                                                   1\n",
       " role difficulties                                                                                                                                                                                             1\n",
       " Weeks 16 and 24|Percentage of Participants Who Achieved PASI 100 Response by Visit Over Time Through Week 24 Among Participants With >=3% BSA Psoriatic Involvement and an IGA Score of >=2 at Baseline       1\n",
       " up to 6 months post-Epoch 1|Epoch 2: Percentage of Participants With Clinically Meaningful Improvement in Functional Ability                                                                                  1\n",
       " Bucuresti                                                                                                                                                                                                     1\n",
       " From first dose of study drug through end of study (up to 112 weeks)|Percentage of Participants With at Least One Non-Ocular Adverse Event                                                                    1\n",
       " 181-192                                                                                                                                                                                                       1\n",
       " 0-2 hours post-dose on week 0 and week 80|Cmax of Glucose at Week 80 Relative to Baseline                                                                                                                     1\n",
       " Sheffield                                                                                                                                                                                                     1\n",
       " Rochester                                                                                                                                                                                                     1\n",
       " Using ADR Card                                                                                                                                                                                                1\n",
       "60                                                                                                                                                                                                             1\n",
       " United Kingdom|Barts Health NHS Trust                                                                                                                                                                         1\n",
       " 'Total ADA Negative' is the sum of all subjects who tested negative for ADA in the 2 following categories: 'ADA Negative'                                                                                     1\n",
       " right (90°)                                                                                                                                                                                                   1\n",
       "3                                                                                                                                                                                                              1\n",
       "24                                                                                                                                                                                                             1\n",
       "98632                                                                                                                                                                                                          1\n",
       " which is the time period from when a participant was randomised until the final scheduled visit                                                                                                               1\n",
       " 35-54                                                                                                                                                                                                         1\n",
       " Seoul                                                                                                                                                                                                         1\n",
       " Platelet Count                                                                                                                                                                                                1\n",
       " 1 = 1-2 stools more than normal                                                                                                                                                                               1\n",
       " and pregnancy/neonatal related. Multiple occurrences of AEs were counted only once per participant. LVEF = left ventricular ejection fraction                                                                 1\n",
       " t5 (t5 = mean of the measurements recorded from minute 21-30 of the footbath)                                                                                                                                 1\n",
       " Cycle length is 21 days for DLBCL cohorts and 28 days for FL cohorts. As pre specified in the protocol serum concentration of rituximab was not assessed in the Phase II NF Cohort (Arm G+H).                 1\n",
       " Baseline (Day 1                                                                                                                                                                                               1\n",
       "16                                                                                                                                                                                                             1\n",
       " mild                                                                                                                                                                                                          1\n",
       " induration                                                                                                                                                                                                    1\n",
       " Day 1 at 4 hours post intervention dose and Day 2 of each treatment period|Absolute Values for SBP and DBP of Part 2                                                                                          1\n",
       "48                                                                                                                                                                                                             1\n",
       "Name: count, dtype: int64"
      ]
     },
     "execution_count": 74,
     "metadata": {},
     "output_type": "execute_result"
    }
   ],
   "source": [
    "df_cleaned['Funder Type'].value_counts()"
   ]
  },
  {
   "cell_type": "code",
   "execution_count": 75,
   "id": "257b8687",
   "metadata": {
    "execution": {
     "iopub.execute_input": "2025-01-04T16:02:35.308674Z",
     "iopub.status.busy": "2025-01-04T16:02:35.308446Z",
     "iopub.status.idle": "2025-01-04T16:02:35.324723Z",
     "shell.execute_reply": "2025-01-04T16:02:35.323773Z"
    },
    "papermill": {
     "duration": 0.040662,
     "end_time": "2025-01-04T16:02:35.326023",
     "exception": false,
     "start_time": "2025-01-04T16:02:35.285361",
     "status": "completed"
    },
    "tags": []
   },
   "outputs": [
    {
     "name": "stdout",
     "output_type": "stream",
     "text": [
      "       Study Status  Study Results  \\\n",
      "4                 0              0   \n",
      "15                0              0   \n",
      "16                0              0   \n",
      "17                0              0   \n",
      "38                0              0   \n",
      "...             ...            ...   \n",
      "17245             0              0   \n",
      "17249             0              0   \n",
      "17251             0              0   \n",
      "17254             0              0   \n",
      "17260             0              0   \n",
      "\n",
      "                                              Conditions  Sponsor  \\\n",
      "4                           Systemic Lupus Erythematosus        0   \n",
      "15                                         Low Back Pain        0   \n",
      "16                          Delayed Sleep Phase Syndrome        0   \n",
      "17     Advanced Digestive System Neuroendocrine Neopl...        0   \n",
      "38                              Nasopharyngeal Carcinoma        0   \n",
      "...                                                  ...      ...   \n",
      "17245                      COVID-19 (Healthy Volunteers)        0   \n",
      "17249                                            Allergy        0   \n",
      "17251                          Diabetes Mellitus, Type 1        0   \n",
      "17254                     Glutathione Metabolism Anemias        0   \n",
      "17260                                            Healthy        0   \n",
      "\n",
      "       Collaborators  Sex  Age  Phases  Enrollment  Funder Type  \\\n",
      "4                  2    0    0       0           1            0   \n",
      "15                 1    0    0       0          10            0   \n",
      "16                 1    0    0       0          14            0   \n",
      "17                 1    0    0       0          16            0   \n",
      "38                 3    0    0       0          14            0   \n",
      "...              ...  ...  ...     ...         ...          ...   \n",
      "17245              4    0    0       0           2            0   \n",
      "17249              9    0    0       0           3            0   \n",
      "17251              2    0    0       0           3            0   \n",
      "17254              1    0    0       0          21            0   \n",
      "17260             11    0    0       0          59            0   \n",
      "\n",
      "           Study Type                                       Study Design  \\\n",
      "4      INTERVENTIONAL  Allocation: RANDOMIZED|Intervention Model: PAR...   \n",
      "15     INTERVENTIONAL  Allocation: RANDOMIZED|Intervention Model: PAR...   \n",
      "16     INTERVENTIONAL  Allocation: RANDOMIZED|Intervention Model: PAR...   \n",
      "17     INTERVENTIONAL  Allocation: NA|Intervention Model: SINGLE_GROU...   \n",
      "38     INTERVENTIONAL  Allocation: NON_RANDOMIZED|Intervention Model:...   \n",
      "...               ...                                                ...   \n",
      "17245  INTERVENTIONAL  Allocation: RANDOMIZED|Intervention Model: PAR...   \n",
      "17249  INTERVENTIONAL  Allocation: RANDOMIZED|Intervention Model: PAR...   \n",
      "17251  INTERVENTIONAL  Allocation: RANDOMIZED|Intervention Model: PAR...   \n",
      "17254  INTERVENTIONAL  Allocation: RANDOMIZED|Intervention Model: PAR...   \n",
      "17260  INTERVENTIONAL  Allocation: RANDOMIZED|Intervention Model: CRO...   \n",
      "\n",
      "                                               Locations  \\\n",
      "4      University of Arizona Arthritis Center, Gilber...   \n",
      "15     Haukeland University Hospital, Bergen, Norway|...   \n",
      "16     University of Michigan, Ann Arbor, Michigan, 4...   \n",
      "17     M D Anderson Cancer Center, Houston, Texas, 77...   \n",
      "38     Sun Yat-sen University Cancer Center, Guangzho...   \n",
      "...                                                  ...   \n",
      "17245  Korea University Ansan Hospital, Ansan, Korea,...   \n",
      "17249  Fakultni Nemocnice u Sv. Anny - FNUSA, Brno, 6...   \n",
      "17251  Endocrinology Associates Montgomery, Montgomer...   \n",
      "17254  European University Cyprus, Nicosia, 1516, Cyp...   \n",
      "17260  Humanpharmakologisches Zentrum Biberach, Biber...   \n",
      "\n",
      "       Interventions_Numeric  \n",
      "4                        663  \n",
      "15                       677  \n",
      "16                      1200  \n",
      "17                      1792  \n",
      "38                        77  \n",
      "...                      ...  \n",
      "17245                    173  \n",
      "17249                    480  \n",
      "17251                   1194  \n",
      "17254                   1235  \n",
      "17260                    897  \n",
      "\n",
      "[1873 rows x 14 columns]\n"
     ]
    }
   ],
   "source": [
    "import pandas as pd\n",
    "\n",
    "# Assuming 'df_cleaned' is your DataFrame\n",
    "# Replace NaN and empty values in 'Funder Type'\n",
    "df_cleaned = df_cleaned[df_cleaned['Funder Type'].notna() & (df_cleaned['Funder Type'] != '')]\n",
    "df_cleaned['Funder Type'] = df_cleaned['Funder Type'].fillna('0')\n",
    "\n",
    "# Convert column to string to standardize\n",
    "df_cleaned['Funder Type'] = df_cleaned['Funder Type'].astype(str)\n",
    "\n",
    "# Convert strings to numeric where possible (ignore errors)\n",
    "df_cleaned['Funder Type'] = pd.to_numeric(df_cleaned['Funder Type'], errors='coerce')\n",
    "\n",
    "# Dynamically update values based on their frequency\n",
    "name_counts = df_cleaned['Funder Type'].value_counts()\n",
    "\n",
    "# Replace each value with its frequency count\n",
    "df_cleaned['Funder Type'] = df_cleaned['Funder Type'].apply(\n",
    "    lambda x: name_counts.get(x, 0) if pd.notna(x) else 0\n",
    ")\n",
    "\n",
    "# Convert back to integer (after handling non-convertible values)\n",
    "df_cleaned['Funder Type'] = df_cleaned['Funder Type'].fillna(0).astype(int)\n",
    "\n",
    "# Display the cleaned DataFrame\n",
    "print(df_cleaned)\n"
   ]
  },
  {
   "cell_type": "code",
   "execution_count": 76,
   "id": "76eb0b62",
   "metadata": {
    "execution": {
     "iopub.execute_input": "2025-01-04T16:02:35.373596Z",
     "iopub.status.busy": "2025-01-04T16:02:35.373391Z",
     "iopub.status.idle": "2025-01-04T16:02:35.378767Z",
     "shell.execute_reply": "2025-01-04T16:02:35.378059Z"
    },
    "papermill": {
     "duration": 0.030354,
     "end_time": "2025-01-04T16:02:35.380075",
     "exception": false,
     "start_time": "2025-01-04T16:02:35.349721",
     "status": "completed"
    },
    "tags": []
   },
   "outputs": [
    {
     "data": {
      "text/plain": [
       "Funder Type\n",
       "0    1867\n",
       "1       6\n",
       "Name: count, dtype: int64"
      ]
     },
     "execution_count": 76,
     "metadata": {},
     "output_type": "execute_result"
    }
   ],
   "source": [
    "df_cleaned['Funder Type'].value_counts()"
   ]
  },
  {
   "cell_type": "code",
   "execution_count": null,
   "id": "effe61bb",
   "metadata": {
    "papermill": {
     "duration": 0.022452,
     "end_time": "2025-01-04T16:02:35.425851",
     "exception": false,
     "start_time": "2025-01-04T16:02:35.403399",
     "status": "completed"
    },
    "tags": []
   },
   "outputs": [],
   "source": []
  },
  {
   "cell_type": "code",
   "execution_count": null,
   "id": "c4fbd6de",
   "metadata": {
    "papermill": {
     "duration": 0.02254,
     "end_time": "2025-01-04T16:02:35.471632",
     "exception": false,
     "start_time": "2025-01-04T16:02:35.449092",
     "status": "completed"
    },
    "tags": []
   },
   "outputs": [],
   "source": []
  },
  {
   "cell_type": "code",
   "execution_count": null,
   "id": "1bb3fe3d",
   "metadata": {
    "papermill": {
     "duration": 0.022814,
     "end_time": "2025-01-04T16:02:35.517235",
     "exception": false,
     "start_time": "2025-01-04T16:02:35.494421",
     "status": "completed"
    },
    "tags": []
   },
   "outputs": [],
   "source": []
  },
  {
   "cell_type": "code",
   "execution_count": 77,
   "id": "d72278b9",
   "metadata": {
    "execution": {
     "iopub.execute_input": "2025-01-04T16:02:35.564405Z",
     "iopub.status.busy": "2025-01-04T16:02:35.564135Z",
     "iopub.status.idle": "2025-01-04T16:02:35.571316Z",
     "shell.execute_reply": "2025-01-04T16:02:35.570417Z"
    },
    "papermill": {
     "duration": 0.032108,
     "end_time": "2025-01-04T16:02:35.572547",
     "exception": false,
     "start_time": "2025-01-04T16:02:35.540439",
     "status": "completed"
    },
    "tags": []
   },
   "outputs": [
    {
     "data": {
      "text/plain": [
       "Study Type\n",
       "INTERVENTIONAL                                                                                                                                                                                                                                                                                                                                                                                                                                                                                                                1841\n",
       " PASI is a tool to assess and grade severity of psoriasis and response to therapy. In PASI                                                                                                                                                                                                                                                                                                                                                                                                                                       1\n",
       " dependency                                                                                                                                                                                                                                                                                                                                                                                                                                                                                                                      1\n",
       " protein                                                                                                                                                                                                                                                                                                                                                                                                                                                                                                                         1\n",
       " Defined as one or more of the following: a decrease of \\>=1 point in the adjusted Inflammatory Neuropathy Cause and Treatment disability scale (INCAT) score at 2 consecutive time points; who experience CIDP improvement (defined as ≥8 kilo Pascal (kPa) increase in hand grip strength in the more affected hand; \\>=4 points increase in Rasch-built Overall Disability Scale (R-ODS)) at the completion of the intravenous (IV) treatment period \\[6 months\\] or at the last study visit of the IV treatment period       1\n",
       " Maximum observed concentration (Cmax) of a MMTT stimulated glucose at week 80 is presented as ratio to baseline. Cmax of C-peptide was measured as 'mmol/L'.                                                                                                                                                                                                                                                                                                                                                                    1\n",
       "10719                                                                                                                                                                                                                                                                                                                                                                                                                                                                                                                            1\n",
       " This analysis of adverse events (AEs) only includes non-ocular (systemic) AEs. Multiple occurrences of the same AE in one individual are counted only once. Investigators sought information on AEs at each contact with the participants. All AEs were recorded and the investigator made an assessment of seriousness                                                                                                                                                                                                         1\n",
       " 193-204                                                                                                                                                                                                                                                                                                                                                                                                                                                                                                                         1\n",
       " South Yorkshire                                                                                                                                                                                                                                                                                                                                                                                                                                                                                                                 1\n",
       " New York                                                                                                                                                                                                                                                                                                                                                                                                                                                                                                                        1\n",
       "64                                                                                                                                                                                                                                                                                                                                                                                                                                                                                                                               1\n",
       " Post Dose 1                                                                                                                                                                                                                                                                                                                                                                                                                                                                                                                     1\n",
       " London                                                                                                                                                                                                                                                                                                                                                                                                                                                                                                                          1\n",
       " those who are pre-dose ADA negative or are missing pre-dose ADA data and who have all negative post-dose ADA results; and 'ADA Negative (Treatment Unaffected)'                                                                                                                                                                                                                                                                                                                                                                 1\n",
       " right-backward (135°)                                                                                                                                                                                                                                                                                                                                                                                                                                                                                                           1\n",
       "4                                                                                                                                                                                                                                                                                                                                                                                                                                                                                                                                1\n",
       "28                                                                                                                                                                                                                                                                                                                                                                                                                                                                                                                               1\n",
       " United States|Harrison HealthPartners Hematology and Oncology-Poulsbo                                                                                                                                                                                                                                                                                                                                                                                                                                                           1\n",
       " including any period after initiation of rescue medication or premature treatment discontinuation.                                                                                                                                                                                                                                                                                                                                                                                                                              1\n",
       " and ≥55 letters)                                                                                                                                                                                                                                                                                                                                                                                                                                                                                                                1\n",
       "3080                                                                                                                                                                                                                                                                                                                                                                                                                                                                                                                             1\n",
       " Blood samples were collected to analyze the hematology parameters: Basophils                                                                                                                                                                                                                                                                                                                                                                                                                                                    1\n",
       " 2 = 3-4 stools more than normal                                                                                                                                                                                                                                                                                                                                                                                                                                                                                                 1\n",
       " From Day 1 of Cycle 1 to end of Cycle 6 of the Treatment Cross-Over Period; from Day 1 of Cycle 7 up to the completion of 18 cycles of neo/adjuvant anti-HER2 treatment in the Treatment Continuation Period (1 cycle is 21 days)|Number of Participants With at Least One Event of Heart Failure With the FDC SC and IV Formulations During the Treatment Cross-Over and Treatment Continuation Periods                                                                                                                        1\n",
       " and t7 (t7 = mean of the measurements recorded from minute 1-10 of the post-intervention rest period).                                                                                                                                                                                                                                                                                                                                                                                                                          1\n",
       " Cycle 1 Days 1: pre-dose and 30 min post dose; Cycle 2 and 4 Day 1: pre-dose; unscheduled visits: pre-dose and 30 min post dose (up to approximately 84 months)|Serum Concentration of Obinutuzumab                                                                                                                                                                                                                                                                                                                             1\n",
       " Pre-dose) and at Day 10|Period 2: Absolute Values of Hematology Parameter: Erythrocytes                                                                                                                                                                                                                                                                                                                                                                                                                                         1\n",
       "24                                                                                                                                                                                                                                                                                                                                                                                                                                                                                                                               1\n",
       " moderate                                                                                                                                                                                                                                                                                                                                                                                                                                                                                                                        1\n",
       " and scaling                                                                                                                                                                                                                                                                                                                                                                                                                                                                                                                     1\n",
       " Blood pressure of participants were measured at indicated time points in semi-supine position after 5 minutes rest.                                                                                                                                                                                                                                                                                                                                                                                                             1\n",
       " 72 and 96 hours post-dose|Apparent Terminal Phase Half-life (t1/2) for GSK3640254-Part 1                                                                                                                                                                                                                                                                                                                                                                                                                                        1\n",
       "Name: count, dtype: int64"
      ]
     },
     "execution_count": 77,
     "metadata": {},
     "output_type": "execute_result"
    }
   ],
   "source": [
    "df_cleaned['Study Type'].value_counts()"
   ]
  },
  {
   "cell_type": "code",
   "execution_count": 78,
   "id": "d0b77209",
   "metadata": {
    "execution": {
     "iopub.execute_input": "2025-01-04T16:02:35.620479Z",
     "iopub.status.busy": "2025-01-04T16:02:35.620082Z",
     "iopub.status.idle": "2025-01-04T16:02:35.678995Z",
     "shell.execute_reply": "2025-01-04T16:02:35.677988Z"
    },
    "papermill": {
     "duration": 0.084378,
     "end_time": "2025-01-04T16:02:35.680547",
     "exception": false,
     "start_time": "2025-01-04T16:02:35.596169",
     "status": "completed"
    },
    "tags": []
   },
   "outputs": [
    {
     "name": "stdout",
     "output_type": "stream",
     "text": [
      "       Study Status  Study Results  \\\n",
      "4                 0              0   \n",
      "15                0              0   \n",
      "16                0              0   \n",
      "17                0              0   \n",
      "38                0              0   \n",
      "...             ...            ...   \n",
      "17245             0              0   \n",
      "17249             0              0   \n",
      "17251             0              0   \n",
      "17254             0              0   \n",
      "17260             0              0   \n",
      "\n",
      "                                              Conditions  Sponsor  \\\n",
      "4                           Systemic Lupus Erythematosus        0   \n",
      "15                                         Low Back Pain        0   \n",
      "16                          Delayed Sleep Phase Syndrome        0   \n",
      "17     Advanced Digestive System Neuroendocrine Neopl...        0   \n",
      "38                              Nasopharyngeal Carcinoma        0   \n",
      "...                                                  ...      ...   \n",
      "17245                      COVID-19 (Healthy Volunteers)        0   \n",
      "17249                                            Allergy        0   \n",
      "17251                          Diabetes Mellitus, Type 1        0   \n",
      "17254                     Glutathione Metabolism Anemias        0   \n",
      "17260                                            Healthy        0   \n",
      "\n",
      "       Collaborators  Sex  Age  Phases  Enrollment  Funder Type  Study Type  \\\n",
      "4                  2    0    0       0           1            0           0   \n",
      "15                 1    0    0       0          10            0           0   \n",
      "16                 1    0    0       0          14            0           0   \n",
      "17                 1    0    0       0          16            0           0   \n",
      "38                 3    0    0       0          14            0           0   \n",
      "...              ...  ...  ...     ...         ...          ...         ...   \n",
      "17245              4    0    0       0           2            0           0   \n",
      "17249              9    0    0       0           3            0           0   \n",
      "17251              2    0    0       0           3            0           0   \n",
      "17254              1    0    0       0          21            0           0   \n",
      "17260             11    0    0       0          59            0           0   \n",
      "\n",
      "                                            Study Design  \\\n",
      "4      Allocation: RANDOMIZED|Intervention Model: PAR...   \n",
      "15     Allocation: RANDOMIZED|Intervention Model: PAR...   \n",
      "16     Allocation: RANDOMIZED|Intervention Model: PAR...   \n",
      "17     Allocation: NA|Intervention Model: SINGLE_GROU...   \n",
      "38     Allocation: NON_RANDOMIZED|Intervention Model:...   \n",
      "...                                                  ...   \n",
      "17245  Allocation: RANDOMIZED|Intervention Model: PAR...   \n",
      "17249  Allocation: RANDOMIZED|Intervention Model: PAR...   \n",
      "17251  Allocation: RANDOMIZED|Intervention Model: PAR...   \n",
      "17254  Allocation: RANDOMIZED|Intervention Model: PAR...   \n",
      "17260  Allocation: RANDOMIZED|Intervention Model: CRO...   \n",
      "\n",
      "                                               Locations  \\\n",
      "4      University of Arizona Arthritis Center, Gilber...   \n",
      "15     Haukeland University Hospital, Bergen, Norway|...   \n",
      "16     University of Michigan, Ann Arbor, Michigan, 4...   \n",
      "17     M D Anderson Cancer Center, Houston, Texas, 77...   \n",
      "38     Sun Yat-sen University Cancer Center, Guangzho...   \n",
      "...                                                  ...   \n",
      "17245  Korea University Ansan Hospital, Ansan, Korea,...   \n",
      "17249  Fakultni Nemocnice u Sv. Anny - FNUSA, Brno, 6...   \n",
      "17251  Endocrinology Associates Montgomery, Montgomer...   \n",
      "17254  European University Cyprus, Nicosia, 1516, Cyp...   \n",
      "17260  Humanpharmakologisches Zentrum Biberach, Biber...   \n",
      "\n",
      "       Interventions_Numeric  \n",
      "4                        663  \n",
      "15                       677  \n",
      "16                      1200  \n",
      "17                      1792  \n",
      "38                        77  \n",
      "...                      ...  \n",
      "17245                    173  \n",
      "17249                    480  \n",
      "17251                   1194  \n",
      "17254                   1235  \n",
      "17260                    897  \n",
      "\n",
      "[1873 rows x 14 columns]\n"
     ]
    }
   ],
   "source": [
    "import pandas as pd\n",
    "\n",
    "# Assuming 'df_cleaned' is your DataFrame\n",
    "# Replace NaN and empty values\n",
    "df_cleaned = df_cleaned[df_cleaned['Study Type'].notna() & (df_cleaned['Study Type'] != '')]\n",
    "df_cleaned['Study Type'] = df_cleaned['Study Type'].fillna('0')\n",
    "\n",
    "# Convert column to string to standardize\n",
    "df_cleaned['Study Type'] = df_cleaned['Study Type'].astype(str)\n",
    "\n",
    "# Convert strings to numeric where possible (ignore errors)\n",
    "df_cleaned['Study Type'] = pd.to_numeric(df_cleaned['Study Type'], errors='coerce')\n",
    "\n",
    "# Dynamically update values based on their frequency\n",
    "name_counts = df_cleaned['Study Type'].value_counts()\n",
    "\n",
    "# Replace values based on their repetition count\n",
    "for i in range(1, 21):  # Adjust the range as needed\n",
    "    df_cleaned['Study Type'] = df_cleaned['Study Type'].apply(\n",
    "        lambda x: i if pd.notna(x) and name_counts.get(x, 0) == i else x\n",
    "    )\n",
    "    name_counts = df_cleaned['Study Type'].value_counts()\n",
    "\n",
    "# Convert back to integer (after handling non-convertible values)\n",
    "df_cleaned['Study Type'] = df_cleaned['Study Type'].fillna(0).astype(int)\n",
    "\n",
    "# Display the cleaned DataFrame\n",
    "print(df_cleaned)\n"
   ]
  },
  {
   "cell_type": "code",
   "execution_count": 79,
   "id": "4f0a4dac",
   "metadata": {
    "execution": {
     "iopub.execute_input": "2025-01-04T16:02:35.728444Z",
     "iopub.status.busy": "2025-01-04T16:02:35.728202Z",
     "iopub.status.idle": "2025-01-04T16:02:35.733530Z",
     "shell.execute_reply": "2025-01-04T16:02:35.732755Z"
    },
    "papermill": {
     "duration": 0.029947,
     "end_time": "2025-01-04T16:02:35.734659",
     "exception": false,
     "start_time": "2025-01-04T16:02:35.704712",
     "status": "completed"
    },
    "tags": []
   },
   "outputs": [
    {
     "data": {
      "text/plain": [
       "Study Type\n",
       "0    1867\n",
       "6       6\n",
       "Name: count, dtype: int64"
      ]
     },
     "execution_count": 79,
     "metadata": {},
     "output_type": "execute_result"
    }
   ],
   "source": [
    "df_cleaned['Study Type'].value_counts()"
   ]
  },
  {
   "cell_type": "code",
   "execution_count": 80,
   "id": "045e7539",
   "metadata": {
    "execution": {
     "iopub.execute_input": "2025-01-04T16:02:35.784385Z",
     "iopub.status.busy": "2025-01-04T16:02:35.784083Z",
     "iopub.status.idle": "2025-01-04T16:02:35.791665Z",
     "shell.execute_reply": "2025-01-04T16:02:35.790867Z"
    },
    "papermill": {
     "duration": 0.034413,
     "end_time": "2025-01-04T16:02:35.793109",
     "exception": false,
     "start_time": "2025-01-04T16:02:35.758696",
     "status": "completed"
    },
    "tags": []
   },
   "outputs": [
    {
     "data": {
      "text/plain": [
       "Study Design\n",
       "Allocation: NA|Intervention Model: SINGLE_GROUP|Masking: NONE|Primary Purpose: TREATMENT                                                                           346\n",
       "Allocation: RANDOMIZED|Intervention Model: PARALLEL|Masking: QUADRUPLE (PARTICIPANT, CARE_PROVIDER, INVESTIGATOR, OUTCOMES_ASSESSOR)|Primary Purpose: TREATMENT    218\n",
       "Allocation: RANDOMIZED|Intervention Model: PARALLEL|Masking: NONE|Primary Purpose: TREATMENT                                                                       176\n",
       "Allocation: NON_RANDOMIZED|Intervention Model: PARALLEL|Masking: NONE|Primary Purpose: TREATMENT                                                                    78\n",
       "Allocation: RANDOMIZED|Intervention Model: PARALLEL|Masking: DOUBLE (PARTICIPANT, INVESTIGATOR)|Primary Purpose: TREATMENT                                          70\n",
       "                                                                                                                                                                  ... \n",
       "Allocation: RANDOMIZED|Intervention Model: FACTORIAL|Masking: NONE|Primary Purpose: OTHER                                                                            1\n",
       " 205-216                                                                                                                                                             1\n",
       "Allocation: NA|Intervention Model: SEQUENTIAL|Masking: NONE|Primary Purpose: OTHER                                                                                   1\n",
       "Allocation: RANDOMIZED|Intervention Model: FACTORIAL|Masking: SINGLE (PARTICIPANT)|Primary Purpose: BASIC_SCIENCE                                                    1\n",
       "Allocation: NON_RANDOMIZED|Intervention Model: PARALLEL|Masking: SINGLE (PARTICIPANT)|Primary Purpose: BASIC_SCIENCE                                                 1\n",
       "Name: count, Length: 219, dtype: int64"
      ]
     },
     "execution_count": 80,
     "metadata": {},
     "output_type": "execute_result"
    }
   ],
   "source": [
    "df_cleaned['Study Design'].value_counts()"
   ]
  },
  {
   "cell_type": "code",
   "execution_count": 81,
   "id": "fb674c58",
   "metadata": {
    "execution": {
     "iopub.execute_input": "2025-01-04T16:02:35.850812Z",
     "iopub.status.busy": "2025-01-04T16:02:35.850504Z",
     "iopub.status.idle": "2025-01-04T16:02:35.855407Z",
     "shell.execute_reply": "2025-01-04T16:02:35.854512Z"
    },
    "papermill": {
     "duration": 0.034023,
     "end_time": "2025-01-04T16:02:35.856806",
     "exception": false,
     "start_time": "2025-01-04T16:02:35.822783",
     "status": "completed"
    },
    "tags": []
   },
   "outputs": [
    {
     "data": {
      "text/plain": [
       "dtype('O')"
      ]
     },
     "execution_count": 81,
     "metadata": {},
     "output_type": "execute_result"
    }
   ],
   "source": [
    "df_cleaned['Study Design'].dtype"
   ]
  },
  {
   "cell_type": "code",
   "execution_count": 82,
   "id": "33f4c943",
   "metadata": {
    "execution": {
     "iopub.execute_input": "2025-01-04T16:02:35.913306Z",
     "iopub.status.busy": "2025-01-04T16:02:35.913057Z",
     "iopub.status.idle": "2025-01-04T16:02:35.972840Z",
     "shell.execute_reply": "2025-01-04T16:02:35.971579Z"
    },
    "papermill": {
     "duration": 0.088972,
     "end_time": "2025-01-04T16:02:35.974240",
     "exception": false,
     "start_time": "2025-01-04T16:02:35.885268",
     "status": "completed"
    },
    "tags": []
   },
   "outputs": [
    {
     "name": "stdout",
     "output_type": "stream",
     "text": [
      "       Study Status  Study Results  \\\n",
      "4                 0              0   \n",
      "15                0              0   \n",
      "16                0              0   \n",
      "17                0              0   \n",
      "38                0              0   \n",
      "...             ...            ...   \n",
      "17245             0              0   \n",
      "17249             0              0   \n",
      "17251             0              0   \n",
      "17254             0              0   \n",
      "17260             0              0   \n",
      "\n",
      "                                              Conditions  Sponsor  \\\n",
      "4                           Systemic Lupus Erythematosus        0   \n",
      "15                                         Low Back Pain        0   \n",
      "16                          Delayed Sleep Phase Syndrome        0   \n",
      "17     Advanced Digestive System Neuroendocrine Neopl...        0   \n",
      "38                              Nasopharyngeal Carcinoma        0   \n",
      "...                                                  ...      ...   \n",
      "17245                      COVID-19 (Healthy Volunteers)        0   \n",
      "17249                                            Allergy        0   \n",
      "17251                          Diabetes Mellitus, Type 1        0   \n",
      "17254                     Glutathione Metabolism Anemias        0   \n",
      "17260                                            Healthy        0   \n",
      "\n",
      "       Collaborators  Sex  Age  Phases  Enrollment  Funder Type  Study Type  \\\n",
      "4                  2    0    0       0           1            0           0   \n",
      "15                 1    0    0       0          10            0           0   \n",
      "16                 1    0    0       0          14            0           0   \n",
      "17                 1    0    0       0          16            0           0   \n",
      "38                 3    0    0       0          14            0           0   \n",
      "...              ...  ...  ...     ...         ...          ...         ...   \n",
      "17245              4    0    0       0           2            0           0   \n",
      "17249              9    0    0       0           3            0           0   \n",
      "17251              2    0    0       0           3            0           0   \n",
      "17254              1    0    0       0          21            0           0   \n",
      "17260             11    0    0       0          59            0           0   \n",
      "\n",
      "       Study Design                                          Locations  \\\n",
      "4                 0  University of Arizona Arthritis Center, Gilber...   \n",
      "15                0  Haukeland University Hospital, Bergen, Norway|...   \n",
      "16                0  University of Michigan, Ann Arbor, Michigan, 4...   \n",
      "17                0  M D Anderson Cancer Center, Houston, Texas, 77...   \n",
      "38                0  Sun Yat-sen University Cancer Center, Guangzho...   \n",
      "...             ...                                                ...   \n",
      "17245             0  Korea University Ansan Hospital, Ansan, Korea,...   \n",
      "17249             0  Fakultni Nemocnice u Sv. Anny - FNUSA, Brno, 6...   \n",
      "17251             0  Endocrinology Associates Montgomery, Montgomer...   \n",
      "17254             0  European University Cyprus, Nicosia, 1516, Cyp...   \n",
      "17260             0  Humanpharmakologisches Zentrum Biberach, Biber...   \n",
      "\n",
      "       Interventions_Numeric  \n",
      "4                        663  \n",
      "15                       677  \n",
      "16                      1200  \n",
      "17                      1792  \n",
      "38                        77  \n",
      "...                      ...  \n",
      "17245                    173  \n",
      "17249                    480  \n",
      "17251                   1194  \n",
      "17254                   1235  \n",
      "17260                    897  \n",
      "\n",
      "[1873 rows x 14 columns]\n"
     ]
    }
   ],
   "source": [
    "import pandas as pd\n",
    "\n",
    "# Assuming 'df_cleaned' is your DataFrame\n",
    "# Replace NaN and empty values in 'Study Design'\n",
    "df_cleaned = df_cleaned[df_cleaned['Study Design'].notna() & (df_cleaned['Study Design'] != '')]\n",
    "df_cleaned['Study Design'] = df_cleaned['Study Design'].fillna('0')\n",
    "\n",
    "# Convert the 'Study Design' column to string to standardize\n",
    "df_cleaned['Study Design'] = df_cleaned['Study Design'].astype(str)\n",
    "\n",
    "# Convert strings to numeric where possible (ignore errors)\n",
    "df_cleaned['Study Design'] = pd.to_numeric(df_cleaned['Study Design'], errors='coerce')\n",
    "\n",
    "# Dynamically update values based on their frequency\n",
    "name_counts = df_cleaned['Study Design'].value_counts()\n",
    "\n",
    "# Replace each value in 'Study Design' with its frequency\n",
    "for i in range(1, 21):  # Adjust range as needed\n",
    "    df_cleaned['Study Design'] = df_cleaned['Study Design'].apply(\n",
    "        lambda x: i if pd.notna(x) and name_counts.get(x, 0) == i else x\n",
    "    )\n",
    "    name_counts = df_cleaned['Study Design'].value_counts()\n",
    "\n",
    "# Convert back to integer (after handling non-convertible values)\n",
    "df_cleaned['Study Design'] = df_cleaned['Study Design'].fillna(0).astype(int)\n",
    "\n",
    "# Display the cleaned DataFrame\n",
    "print(df_cleaned)\n"
   ]
  },
  {
   "cell_type": "code",
   "execution_count": 83,
   "id": "79642b67",
   "metadata": {
    "execution": {
     "iopub.execute_input": "2025-01-04T16:02:36.028756Z",
     "iopub.status.busy": "2025-01-04T16:02:36.028485Z",
     "iopub.status.idle": "2025-01-04T16:02:36.034381Z",
     "shell.execute_reply": "2025-01-04T16:02:36.033670Z"
    },
    "papermill": {
     "duration": 0.033944,
     "end_time": "2025-01-04T16:02:36.035618",
     "exception": false,
     "start_time": "2025-01-04T16:02:36.001674",
     "status": "completed"
    },
    "tags": []
   },
   "outputs": [
    {
     "data": {
      "text/plain": [
       "Study Design\n",
       "0    1868\n",
       "3       3\n",
       "2       2\n",
       "Name: count, dtype: int64"
      ]
     },
     "execution_count": 83,
     "metadata": {},
     "output_type": "execute_result"
    }
   ],
   "source": [
    "df_cleaned['Study Design'].value_counts()"
   ]
  },
  {
   "cell_type": "code",
   "execution_count": 84,
   "id": "6142b7a5",
   "metadata": {
    "execution": {
     "iopub.execute_input": "2025-01-04T16:02:36.084333Z",
     "iopub.status.busy": "2025-01-04T16:02:36.084135Z",
     "iopub.status.idle": "2025-01-04T16:02:36.189393Z",
     "shell.execute_reply": "2025-01-04T16:02:36.188299Z"
    },
    "papermill": {
     "duration": 0.130606,
     "end_time": "2025-01-04T16:02:36.190594",
     "exception": true,
     "start_time": "2025-01-04T16:02:36.059988",
     "status": "failed"
    },
    "tags": []
   },
   "outputs": [
    {
     "ename": "KeyError",
     "evalue": "'Interventions'",
     "output_type": "error",
     "traceback": [
      "\u001b[0;31m---------------------------------------------------------------------------\u001b[0m",
      "\u001b[0;31mKeyError\u001b[0m                                  Traceback (most recent call last)",
      "\u001b[0;32m/usr/local/lib/python3.10/dist-packages/pandas/core/indexes/base.py\u001b[0m in \u001b[0;36mget_loc\u001b[0;34m(self, key)\u001b[0m\n\u001b[1;32m   3790\u001b[0m         \u001b[0;32mtry\u001b[0m\u001b[0;34m:\u001b[0m\u001b[0;34m\u001b[0m\u001b[0;34m\u001b[0m\u001b[0m\n\u001b[0;32m-> 3791\u001b[0;31m             \u001b[0;32mreturn\u001b[0m \u001b[0mself\u001b[0m\u001b[0;34m.\u001b[0m\u001b[0m_engine\u001b[0m\u001b[0;34m.\u001b[0m\u001b[0mget_loc\u001b[0m\u001b[0;34m(\u001b[0m\u001b[0mcasted_key\u001b[0m\u001b[0;34m)\u001b[0m\u001b[0;34m\u001b[0m\u001b[0;34m\u001b[0m\u001b[0m\n\u001b[0m\u001b[1;32m   3792\u001b[0m         \u001b[0;32mexcept\u001b[0m \u001b[0mKeyError\u001b[0m \u001b[0;32mas\u001b[0m \u001b[0merr\u001b[0m\u001b[0;34m:\u001b[0m\u001b[0;34m\u001b[0m\u001b[0;34m\u001b[0m\u001b[0m\n",
      "\u001b[0;32mindex.pyx\u001b[0m in \u001b[0;36mpandas._libs.index.IndexEngine.get_loc\u001b[0;34m()\u001b[0m\n",
      "\u001b[0;32mindex.pyx\u001b[0m in \u001b[0;36mpandas._libs.index.IndexEngine.get_loc\u001b[0;34m()\u001b[0m\n",
      "\u001b[0;32mpandas/_libs/hashtable_class_helper.pxi\u001b[0m in \u001b[0;36mpandas._libs.hashtable.PyObjectHashTable.get_item\u001b[0;34m()\u001b[0m\n",
      "\u001b[0;32mpandas/_libs/hashtable_class_helper.pxi\u001b[0m in \u001b[0;36mpandas._libs.hashtable.PyObjectHashTable.get_item\u001b[0;34m()\u001b[0m\n",
      "\u001b[0;31mKeyError\u001b[0m: 'Interventions'",
      "\nThe above exception was the direct cause of the following exception:\n",
      "\u001b[0;31mKeyError\u001b[0m                                  Traceback (most recent call last)",
      "\u001b[0;32m<ipython-input-84-971360b18431>\u001b[0m in \u001b[0;36m<cell line: 1>\u001b[0;34m()\u001b[0m\n\u001b[0;32m----> 1\u001b[0;31m \u001b[0mdf_cleaned\u001b[0m\u001b[0;34m[\u001b[0m\u001b[0;34m'Interventions'\u001b[0m\u001b[0;34m]\u001b[0m\u001b[0;34m.\u001b[0m\u001b[0mvalue_counts\u001b[0m\u001b[0;34m(\u001b[0m\u001b[0;34m)\u001b[0m\u001b[0;34m\u001b[0m\u001b[0;34m\u001b[0m\u001b[0m\n\u001b[0m",
      "\u001b[0;32m/usr/local/lib/python3.10/dist-packages/pandas/core/frame.py\u001b[0m in \u001b[0;36m__getitem__\u001b[0;34m(self, key)\u001b[0m\n\u001b[1;32m   3891\u001b[0m             \u001b[0;32mif\u001b[0m \u001b[0mself\u001b[0m\u001b[0;34m.\u001b[0m\u001b[0mcolumns\u001b[0m\u001b[0;34m.\u001b[0m\u001b[0mnlevels\u001b[0m \u001b[0;34m>\u001b[0m \u001b[0;36m1\u001b[0m\u001b[0;34m:\u001b[0m\u001b[0;34m\u001b[0m\u001b[0;34m\u001b[0m\u001b[0m\n\u001b[1;32m   3892\u001b[0m                 \u001b[0;32mreturn\u001b[0m \u001b[0mself\u001b[0m\u001b[0;34m.\u001b[0m\u001b[0m_getitem_multilevel\u001b[0m\u001b[0;34m(\u001b[0m\u001b[0mkey\u001b[0m\u001b[0;34m)\u001b[0m\u001b[0;34m\u001b[0m\u001b[0;34m\u001b[0m\u001b[0m\n\u001b[0;32m-> 3893\u001b[0;31m             \u001b[0mindexer\u001b[0m \u001b[0;34m=\u001b[0m \u001b[0mself\u001b[0m\u001b[0;34m.\u001b[0m\u001b[0mcolumns\u001b[0m\u001b[0;34m.\u001b[0m\u001b[0mget_loc\u001b[0m\u001b[0;34m(\u001b[0m\u001b[0mkey\u001b[0m\u001b[0;34m)\u001b[0m\u001b[0;34m\u001b[0m\u001b[0;34m\u001b[0m\u001b[0m\n\u001b[0m\u001b[1;32m   3894\u001b[0m             \u001b[0;32mif\u001b[0m \u001b[0mis_integer\u001b[0m\u001b[0;34m(\u001b[0m\u001b[0mindexer\u001b[0m\u001b[0;34m)\u001b[0m\u001b[0;34m:\u001b[0m\u001b[0;34m\u001b[0m\u001b[0;34m\u001b[0m\u001b[0m\n\u001b[1;32m   3895\u001b[0m                 \u001b[0mindexer\u001b[0m \u001b[0;34m=\u001b[0m \u001b[0;34m[\u001b[0m\u001b[0mindexer\u001b[0m\u001b[0;34m]\u001b[0m\u001b[0;34m\u001b[0m\u001b[0;34m\u001b[0m\u001b[0m\n",
      "\u001b[0;32m/usr/local/lib/python3.10/dist-packages/pandas/core/indexes/base.py\u001b[0m in \u001b[0;36mget_loc\u001b[0;34m(self, key)\u001b[0m\n\u001b[1;32m   3796\u001b[0m             ):\n\u001b[1;32m   3797\u001b[0m                 \u001b[0;32mraise\u001b[0m \u001b[0mInvalidIndexError\u001b[0m\u001b[0;34m(\u001b[0m\u001b[0mkey\u001b[0m\u001b[0;34m)\u001b[0m\u001b[0;34m\u001b[0m\u001b[0;34m\u001b[0m\u001b[0m\n\u001b[0;32m-> 3798\u001b[0;31m             \u001b[0;32mraise\u001b[0m \u001b[0mKeyError\u001b[0m\u001b[0;34m(\u001b[0m\u001b[0mkey\u001b[0m\u001b[0;34m)\u001b[0m \u001b[0;32mfrom\u001b[0m \u001b[0merr\u001b[0m\u001b[0;34m\u001b[0m\u001b[0;34m\u001b[0m\u001b[0m\n\u001b[0m\u001b[1;32m   3799\u001b[0m         \u001b[0;32mexcept\u001b[0m \u001b[0mTypeError\u001b[0m\u001b[0;34m:\u001b[0m\u001b[0;34m\u001b[0m\u001b[0;34m\u001b[0m\u001b[0m\n\u001b[1;32m   3800\u001b[0m             \u001b[0;31m# If we have a listlike key, _check_indexing_error will raise\u001b[0m\u001b[0;34m\u001b[0m\u001b[0;34m\u001b[0m\u001b[0m\n",
      "\u001b[0;31mKeyError\u001b[0m: 'Interventions'"
     ]
    }
   ],
   "source": [
    "df_cleaned['Interventions'].value_counts()"
   ]
  },
  {
   "cell_type": "code",
   "execution_count": null,
   "id": "875ab10c",
   "metadata": {
    "papermill": {
     "duration": null,
     "end_time": null,
     "exception": null,
     "start_time": null,
     "status": "pending"
    },
    "tags": []
   },
   "outputs": [],
   "source": [
    "import pandas as pd\n",
    "\n",
    "# Assuming 'df_clear' is your DataFrame\n",
    "# Replace NaN and empty values\n",
    "df_cleaned = df_cleaned[df_cleaned['Interventions'].notna() & (df_cleaned['Interventions'] != '')]\n",
    "df_cleaned['Interventions'] = df_cleaned['Interventions'].fillna('0')\n",
    "\n",
    "# Convert column to string to standardize\n",
    "df_cleaned['Interventions'] = df_cleaned['Interventions'].astype(str)\n",
    "\n",
    "# Convert strings to numeric where possible (ignore errors)\n",
    "df_cleaned['Interventions'] = pd.to_numeric(df_cleaned['Interventions'], errors='coerce')\n",
    "\n",
    "# Dynamically update values based on their frequency\n",
    "name_counts = df_cleaned['Interventions'].value_counts()\n",
    "\n",
    "# Loop from 1 to 20 and skip NaN values explicitly\n",
    "for i in range(1, 21):\n",
    "    df_cleaned['Interventions'] = df_cleaned['Interventions'].apply(\n",
    "        lambda x: i if pd.notna(x) and name_counts.get(x, 0) == i else x\n",
    "    )\n",
    "    name_counts = df_cleaned['Interventions'].value_counts()\n",
    "\n",
    "# Convert back to integer (after handling non-convertible values)\n",
    "df_cleaned['Interventions'] = df_cleaned['Interventions'].fillna(0).astype(int)\n",
    "\n",
    "# Display the cleaned DataFrame\n",
    "print(df_cleaned)\n"
   ]
  },
  {
   "cell_type": "code",
   "execution_count": null,
   "id": "491b39e5",
   "metadata": {
    "papermill": {
     "duration": null,
     "end_time": null,
     "exception": null,
     "start_time": null,
     "status": "pending"
    },
    "tags": []
   },
   "outputs": [],
   "source": [
    "df_cleaned['Interventions'].value_counts()"
   ]
  },
  {
   "cell_type": "code",
   "execution_count": null,
   "id": "1299de25",
   "metadata": {
    "papermill": {
     "duration": null,
     "end_time": null,
     "exception": null,
     "start_time": null,
     "status": "pending"
    },
    "tags": []
   },
   "outputs": [],
   "source": [
    "df_cleaned['Interventions'].dtype"
   ]
  },
  {
   "cell_type": "code",
   "execution_count": null,
   "id": "bc9d7455",
   "metadata": {
    "papermill": {
     "duration": null,
     "end_time": null,
     "exception": null,
     "start_time": null,
     "status": "pending"
    },
    "tags": []
   },
   "outputs": [],
   "source": [
    "df_clearned = df_cleaned.drop(['Interventions'] , axis=1)"
   ]
  },
  {
   "cell_type": "code",
   "execution_count": null,
   "id": "dbbbae8b",
   "metadata": {
    "papermill": {
     "duration": null,
     "end_time": null,
     "exception": null,
     "start_time": null,
     "status": "pending"
    },
    "tags": []
   },
   "outputs": [],
   "source": [
    "df_cleaned['Locations'].value_counts()"
   ]
  },
  {
   "cell_type": "code",
   "execution_count": null,
   "id": "f41bb194",
   "metadata": {
    "papermill": {
     "duration": null,
     "end_time": null,
     "exception": null,
     "start_time": null,
     "status": "pending"
    },
    "tags": []
   },
   "outputs": [],
   "source": [
    "import pandas as pd\n",
    "\n",
    "# Assuming 'df_cleaned' is your DataFrame\n",
    "# Step 1: Replace NaN and empty values\n",
    "df_cleaned = df_cleaned[df_cleaned['Locations'].notna() & (df_cleaned['Locations'] != '')]\n",
    "df_cleaned['Locations'] = df_cleaned['Locations'].fillna('0')\n",
    "\n",
    "# Step 2: Convert column to string to standardize\n",
    "df_cleaned['Locations'] = df_cleaned['Locations'].astype(str)\n",
    "\n",
    "# Step 3: Convert strings to numeric where possible (ignore errors)\n",
    "df_cleaned['Locations'] = pd.to_numeric(df_cleaned['Locations'], errors='coerce')\n",
    "\n",
    "# Step 4: Replace each unique value with its frequency\n",
    "name_counts = df_cleaned['Locations'].value_counts()\n",
    "\n",
    "# Loop from 1 to 20 and assign frequency count\n",
    "for i in range(1, 21):\n",
    "    df_cleaned['Locations'] = df_cleaned['Locations'].apply(\n",
    "        lambda x: i if pd.notna(x) and name_counts.get(x, 0) == i else x\n",
    "    )\n",
    "    name_counts = df_cleaned['Locations'].value_counts()\n",
    "\n",
    "# Step 5: Convert back to integer (after handling non-convertible values)\n",
    "df_cleaned['Locations'] = df_cleaned['Locations'].fillna(0).astype(int)\n",
    "\n",
    "# Display the cleaned DataFrame\n",
    "print(df_cleaned)\n"
   ]
  },
  {
   "cell_type": "code",
   "execution_count": null,
   "id": "4c3914c4",
   "metadata": {
    "papermill": {
     "duration": null,
     "end_time": null,
     "exception": null,
     "start_time": null,
     "status": "pending"
    },
    "tags": []
   },
   "outputs": [],
   "source": [
    "df_cleaned['Locations'].value_counts()"
   ]
  },
  {
   "cell_type": "code",
   "execution_count": null,
   "id": "a796745a",
   "metadata": {
    "papermill": {
     "duration": null,
     "end_time": null,
     "exception": null,
     "start_time": null,
     "status": "pending"
    },
    "tags": []
   },
   "outputs": [],
   "source": [
    "df_cleaned['Study Status'].value_counts()"
   ]
  },
  {
   "cell_type": "code",
   "execution_count": null,
   "id": "cafc6df6",
   "metadata": {
    "papermill": {
     "duration": null,
     "end_time": null,
     "exception": null,
     "start_time": null,
     "status": "pending"
    },
    "tags": []
   },
   "outputs": [],
   "source": [
    "df_cleaned.dtypes"
   ]
  },
  {
   "cell_type": "code",
   "execution_count": null,
   "id": "6e995433",
   "metadata": {
    "papermill": {
     "duration": null,
     "end_time": null,
     "exception": null,
     "start_time": null,
     "status": "pending"
    },
    "tags": []
   },
   "outputs": [],
   "source": [
    "from sklearn.model_selection import train_test_split\n",
    "\n",
    "x = df_cleaned.drop('Enrollment', axis=1)\n",
    "y = df_cleaned['Enrollment']\n",
    "\n",
    "x_train, x_test, y_train, y_test = train_test_split(x, y, test_size=0.2)"
   ]
  },
  {
   "cell_type": "code",
   "execution_count": null,
   "id": "2468dace",
   "metadata": {
    "papermill": {
     "duration": null,
     "end_time": null,
     "exception": null,
     "start_time": null,
     "status": "pending"
    },
    "tags": []
   },
   "outputs": [],
   "source": [
    "x_train.shape"
   ]
  },
  {
   "cell_type": "code",
   "execution_count": null,
   "id": "c6d0a6d8",
   "metadata": {
    "papermill": {
     "duration": null,
     "end_time": null,
     "exception": null,
     "start_time": null,
     "status": "pending"
    },
    "tags": []
   },
   "outputs": [],
   "source": [
    "from sklearn.preprocessing import StandardScaler\n",
    "\n",
    "scaler = StandardScaler()\n",
    "\n",
    "scaler.fit(x_train)\n",
    "\n",
    "StandardScaler_x_train = scaler.transform(x_train)\n",
    "StandardScaler_x_test = scaler.transform(x_test)"
   ]
  },
  {
   "cell_type": "code",
   "execution_count": null,
   "id": "064d65f8",
   "metadata": {
    "papermill": {
     "duration": null,
     "end_time": null,
     "exception": null,
     "start_time": null,
     "status": "pending"
    },
    "tags": []
   },
   "outputs": [],
   "source": [
    "import pandas as pd\n",
    "from sklearn.model_selection import train_test_split\n",
    "from sklearn.linear_model import LogisticRegression\n",
    "from sklearn.metrics import accuracy_score, classification_report\n"
   ]
  },
  {
   "cell_type": "code",
   "execution_count": null,
   "id": "54c70539",
   "metadata": {
    "papermill": {
     "duration": null,
     "end_time": null,
     "exception": null,
     "start_time": null,
     "status": "pending"
    },
    "tags": []
   },
   "outputs": [],
   "source": [
    "from sklearn.linear_model import LogisticRegression\n",
    "\n",
    "LOR = LogisticRegression()\n",
    "LOR.fit(StandardScaler_x_train, y_train)\n",
    "\n",
    "y_pred = LOR.predict(StandardScaler_x_test)\n",
    "accuracy_score(y_test, y_pred)\n"
   ]
  },
  {
   "cell_type": "code",
   "execution_count": null,
   "id": "91ade1c5",
   "metadata": {
    "papermill": {
     "duration": null,
     "end_time": null,
     "exception": null,
     "start_time": null,
     "status": "pending"
    },
    "tags": []
   },
   "outputs": [],
   "source": [
    "from sklearn.linear_model import LogisticRegression\n",
    "from sklearn.metrics import accuracy_score\n",
    "from sklearn.preprocessing import StandardScaler\n",
    "from sklearn.model_selection import train_test_split\n",
    "\n",
    "# Example dataset (replace with your own dataset)\n",
    "# X, y = dataset  # Your data here\n",
    "# Split into train and test sets\n",
    "# X_train, X_test, y_train, y_test = train_test_split(X, y, test_size=0.2, random_state=42)\n",
    "\n",
    "# Standardize the dataset\n",
    "scaler = StandardScaler()\n",
    "StandardScaler_x_train = scaler.fit_transform(x_train)\n",
    "StandardScaler_x_test = scaler.transform(x_test)\n",
    "\n",
    "# Logistic Regression with Gradient Descent ('saga' solver)\n",
    "LOR = LogisticRegression(solver='saga', max_iter=1000)  # 'saga' solver uses gradient descent\n",
    "LOR.fit(StandardScaler_x_train, y_train)\n",
    "\n",
    "# Predict and evaluate accuracy\n",
    "y_pred = LOR.predict(StandardScaler_x_test)\n",
    "test_accuracy = accuracy_score(y_test, y_pred)\n",
    "\n",
    "# Print the accuracy score\n",
    "print(\"Test Accuracy:\", test_accuracy)\n"
   ]
  },
  {
   "cell_type": "code",
   "execution_count": null,
   "id": "76f340f7",
   "metadata": {
    "papermill": {
     "duration": null,
     "end_time": null,
     "exception": null,
     "start_time": null,
     "status": "pending"
    },
    "tags": []
   },
   "outputs": [],
   "source": [
    "from sklearn.tree import DecisionTreeClassifier\n",
    "\n",
    "DT = DecisionTreeClassifier()\n",
    "DT.fit(StandardScaler_x_train, y_train)\n",
    "\n",
    "y_pred = DT.predict(StandardScaler_x_test)\n",
    "accuracy_score(y_test, y_pred)"
   ]
  },
  {
   "cell_type": "code",
   "execution_count": null,
   "id": "cc5592e7",
   "metadata": {
    "papermill": {
     "duration": null,
     "end_time": null,
     "exception": null,
     "start_time": null,
     "status": "pending"
    },
    "tags": []
   },
   "outputs": [],
   "source": [
    "from sklearn.ensemble import RandomForestClassifier\n",
    "\n",
    "RF = RandomForestClassifier()\n",
    "RF.fit(StandardScaler_x_train, y_train)\n",
    "\n",
    "y_pred = RF.predict(StandardScaler_x_test)\n",
    "accuracy_score(y_test, y_pred)"
   ]
  },
  {
   "cell_type": "code",
   "execution_count": null,
   "id": "05bfe570",
   "metadata": {
    "papermill": {
     "duration": null,
     "end_time": null,
     "exception": null,
     "start_time": null,
     "status": "pending"
    },
    "tags": []
   },
   "outputs": [],
   "source": [
    "# Import necessary libraries\n",
    "import numpy as np\n",
    "from sklearn.model_selection import train_test_split\n",
    "from sklearn.preprocessing import StandardScaler\n",
    "from tensorflow.keras.models import Sequential\n",
    "from tensorflow.keras.layers import Dense\n",
    "from tensorflow.keras.optimizers import Adam\n",
    "\n",
    "\n",
    "\n",
    "# Step 2: Preprocess the data (standardizing)\n",
    "scaler = StandardScaler()\n",
    "x_scaled = scaler.fit_transform(x)\n",
    "\n",
    "# Split data into training and testing sets\n",
    "x_train, x_test, y_train, y_test = train_test_split(x_scaled, y, test_size=0.2, random_state=42)\n",
    "\n",
    "# Step 3: Define the ANN architecture\n",
    "model = Sequential()\n",
    "\n",
    "# Input layer: Define input shape based on the number of features in X\n",
    "model.add(Dense(units=64, activation='relu', input_dim=x_train.shape[1]))\n",
    "\n",
    "# Hidden layers (you can add more layers as needed)\n",
    "model.add(Dense(units=32, activation='relu'))\n",
    "model.add(Dense(units=16, activation='relu'))\n",
    "\n",
    "# Output layer (for binary classification, use 'sigmoid'; for multi-class, use 'softmax')\n",
    "model.add(Dense(units=1, activation='sigmoid'))\n",
    "\n",
    "# Step 4: Compile the model\n",
    "model.compile(optimizer=Adam(learning_rate=0.001), \n",
    "              loss='binary_crossentropy',  # Use 'categorical_crossentropy' for multi-class\n",
    "              metrics=['accuracy'])\n",
    "\n",
    "# Step 5: Train the model\n",
    "model.fit(x_train, y_train, epochs=50, batch_size=32, validation_data=(x_test, y_test))\n",
    "\n",
    "# Step 6: Evaluate the model\n",
    "test_loss, test_accuracy = model.evaluate(x_test, y_test)\n",
    "print(f\"Test Accuracy: {test_accuracy}\")\n",
    "\n",
    "# Step 7: Make predictions\n",
    "y_pred = model.predict(x_test)\n"
   ]
  },
  {
   "cell_type": "code",
   "execution_count": null,
   "id": "06c7a3cb",
   "metadata": {
    "papermill": {
     "duration": null,
     "end_time": null,
     "exception": null,
     "start_time": null,
     "status": "pending"
    },
    "tags": []
   },
   "outputs": [],
   "source": [
    "import numpy as np\n",
    "from sklearn.model_selection import train_test_split\n",
    "from sklearn.preprocessing import StandardScaler\n",
    "from tensorflow.keras.models import Sequential\n",
    "from tensorflow.keras.layers import Dense\n",
    "from tensorflow.keras.optimizers import Adam\n",
    "\n",
    "\n",
    "model = Sequential()"
   ]
  },
  {
   "cell_type": "code",
   "execution_count": null,
   "id": "90a142c6",
   "metadata": {
    "papermill": {
     "duration": null,
     "end_time": null,
     "exception": null,
     "start_time": null,
     "status": "pending"
    },
    "tags": []
   },
   "outputs": [],
   "source": [
    "model.add(Dense(units=64, activation='relu', input_dim=x_train.shape[1]))"
   ]
  },
  {
   "cell_type": "code",
   "execution_count": null,
   "id": "af823522",
   "metadata": {
    "papermill": {
     "duration": null,
     "end_time": null,
     "exception": null,
     "start_time": null,
     "status": "pending"
    },
    "tags": []
   },
   "outputs": [],
   "source": [
    "model.add(Dense(units=32, activation='relu'))\n",
    "model.add(Dense(units=16, activation='relu'))"
   ]
  },
  {
   "cell_type": "code",
   "execution_count": null,
   "id": "ea078b05",
   "metadata": {
    "papermill": {
     "duration": null,
     "end_time": null,
     "exception": null,
     "start_time": null,
     "status": "pending"
    },
    "tags": []
   },
   "outputs": [],
   "source": [
    "# model.add(Dense(units=1, activation='sigmoid'))\n",
    "\n",
    "# # Step 4: Compile the model\n",
    "# model.compile(optimizer=Adam(learning_rate=0.001), \n",
    "#               loss='binary_crossentropy',  # Use 'categorical_crossentropy' for multi-class\n",
    "#               metrics=['accuracy'])\n",
    "\n",
    "# # Step 5: Train the model\n",
    "# model.fit(x_train, y_train, epochs=50, batch_size=32, validation_data=(x_test, y_test))\n",
    "\n",
    "# # Step 6: Evaluate the model\n",
    "# test_loss, test_accuracy = model.evaluate(x_test, y_test)\n",
    "# print(f\"Test Accuracy: {test_accuracy}\")\n",
    "# y_pred = model.predict(x_test)"
   ]
  },
  {
   "cell_type": "code",
   "execution_count": null,
   "id": "f7a874ac",
   "metadata": {
    "papermill": {
     "duration": null,
     "end_time": null,
     "exception": null,
     "start_time": null,
     "status": "pending"
    },
    "tags": []
   },
   "outputs": [],
   "source": [
    "# # Assuming x_train and x_test are pandas DataFrames\n",
    "# x_train = x_train.to_numpy()  # Convert DataFrame to NumPy array\n",
    "# x_test = x_test.to_numpy()\n",
    "\n",
    "# # Reshape the input data to match the expected input shape for Conv2D\n",
    "# x_train = x_train.reshape((x_train.shape[0], 1498, 15, 1))  # Add the channel dimension\n",
    "# x_test = x_test.reshape((x_test.shape[0], 1498, 15, 1))  # Add the channel dimension\n",
    "\n",
    "\n",
    "import numpy as np\n",
    "\n",
    "# Check the shape of your data\n",
    "print(x_train.shape)  # Check number of samples and features\n",
    "print(x_test.shape)   # Check test data shape\n",
    "\n",
    "# Let's assume your data has shape (num_samples, num_features), and we need to reshape\n",
    "\n",
    "# Example: If x_train has shape (n_samples, 1498), reshape to (n_samples, 1498, 1)\n",
    "if x_train.shape[1] == 1498:\n",
    "    x_train = x_train.reshape((x_train.shape[0], 1498, 1))  # Reshape to (n_samples, 1498, 1)\n",
    "    x_test = x_test.reshape((x_test.shape[0], 1498, 1))    # Reshape to match the same shape\n",
    "else:\n",
    "    print(\"Data shape is not matching the expected dimensions.\")\n",
    "\n",
    "# Now check if the reshaping is correct\n",
    "print(x_train.shape)  # It should be (n_samples, 1498, 1)\n",
    "print(x_test.shape)   # It should be (n_samples, 1498, 1)\n"
   ]
  },
  {
   "cell_type": "code",
   "execution_count": null,
   "id": "9fe28951",
   "metadata": {
    "papermill": {
     "duration": null,
     "end_time": null,
     "exception": null,
     "start_time": null,
     "status": "pending"
    },
    "tags": []
   },
   "outputs": [],
   "source": [
    "model = Sequential()\n",
    "\n",
    "# Conv2D layer with the correct input shape (height, width, channels)\n",
    "model.add(Conv2D(32, kernel_size=(3, 3), activation='relu', input_shape=(1498, 15, 1)))\n",
    "\n",
    "# MaxPooling2D layer\n",
    "model.add(MaxPooling2D(pool_size=(2, 2)))\n",
    "\n",
    "# Add more Conv2D and MaxPooling2D layers if necessary\n",
    "model.add(Conv2D(64, kernel_size=(3, 3), activation='relu'))\n",
    "model.add(MaxPooling2D(pool_size=(2, 2)))\n",
    "\n",
    "# Flatten and Dense layers\n",
    "model.add(Flatten())\n",
    "model.add(Dense(128, activation='relu'))\n",
    "model.add(Dense(1, activation='sigmoid'))  # Sigmoid for binary classification\n",
    "\n",
    "# Compile the model\n",
    "model.compile(optimizer=Adam(), loss='binary_crossentropy', metrics=['accuracy'])\n"
   ]
  },
  {
   "cell_type": "code",
   "execution_count": null,
   "id": "253c8bd3",
   "metadata": {
    "papermill": {
     "duration": null,
     "end_time": null,
     "exception": null,
     "start_time": null,
     "status": "pending"
    },
    "tags": []
   },
   "outputs": [],
   "source": [
    "# Check the shape of x_train and x_test\n",
    "print(x_train.shape)  # Ensure that x_train is (n_samples, 1498)\n",
    "print(x_test.shape)   # Ensure that x_test is (n_samples, 1498)\n",
    "\n",
    "# Reshape both x_train and x_test to have (samples, 1498, 15, 1)\n",
    "# Assuming that x_train and x_test have 1498 features in total, reshape them like this\n",
    "x_train = x_train.reshape((x_train.shape[0], 1498, 15, 1))  # Reshape for CNN\n",
    "x_test = x_test.reshape((x_test.shape[0], 1498, 15, 1))    # Reshape for CNN\n",
    "\n",
    "# Now check the shape to confirm\n",
    "print(x_train.shape)  # Should be (n_samples, 1498, 15, 1)\n",
    "print(x_test.shape)   # Should be (n_samples, 1498, 15, 1)\n",
    "\n",
    "# After reshaping, you can predict on the test set\n",
    "y_pred = model.predict(x_test)\n",
    "\n",
    "# If you want binary predictions (0 or 1), you can round the output\n",
    "y_pred_binary = (y_pred > 0.5).astype(int)\n"
   ]
  },
  {
   "cell_type": "code",
   "execution_count": null,
   "id": "9bd22f3c",
   "metadata": {
    "papermill": {
     "duration": null,
     "end_time": null,
     "exception": null,
     "start_time": null,
     "status": "pending"
    },
    "tags": []
   },
   "outputs": [],
   "source": []
  },
  {
   "cell_type": "code",
   "execution_count": null,
   "id": "4cc10cb2",
   "metadata": {
    "papermill": {
     "duration": null,
     "end_time": null,
     "exception": null,
     "start_time": null,
     "status": "pending"
    },
    "tags": []
   },
   "outputs": [],
   "source": [
    "# Predict on new data (for example, X_test)\n",
    "y_pred = model.predict(x_test)\n",
    "\n",
    "# The output y_pred will be probabilities (due to sigmoid activation for binary classification)\n",
    "# If you want binary predictions, you can round the values\n",
    "y_pred_binary = (y_pred > 0.5).astype(int)\n",
    "\n",
    "print(y_pred_binary)\n"
   ]
  },
  {
   "cell_type": "code",
   "execution_count": null,
   "id": "aa521d67",
   "metadata": {
    "papermill": {
     "duration": null,
     "end_time": null,
     "exception": null,
     "start_time": null,
     "status": "pending"
    },
    "tags": []
   },
   "outputs": [],
   "source": []
  }
 ],
 "metadata": {
  "kaggle": {
   "accelerator": "nvidiaTeslaT4",
   "dataSources": [
    {
     "datasetId": 6421791,
     "sourceId": 10368025,
     "sourceType": "datasetVersion"
    }
   ],
   "dockerImageVersionId": 30823,
   "isGpuEnabled": true,
   "isInternetEnabled": true,
   "language": "python",
   "sourceType": "notebook"
  },
  "kernelspec": {
   "display_name": "Python 3",
   "language": "python",
   "name": "python3"
  },
  "language_info": {
   "codemirror_mode": {
    "name": "ipython",
    "version": 3
   },
   "file_extension": ".py",
   "mimetype": "text/x-python",
   "name": "python",
   "nbconvert_exporter": "python",
   "pygments_lexer": "ipython3",
   "version": "3.10.12"
  },
  "papermill": {
   "default_parameters": {},
   "duration": 19.354853,
   "end_time": "2025-01-04T16:02:36.832667",
   "environment_variables": {},
   "exception": true,
   "input_path": "__notebook__.ipynb",
   "output_path": "__notebook__.ipynb",
   "parameters": {},
   "start_time": "2025-01-04T16:02:17.477814",
   "version": "2.6.0"
  }
 },
 "nbformat": 4,
 "nbformat_minor": 5
}
